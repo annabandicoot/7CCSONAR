{
 "cells": [
  {
   "cell_type": "markdown",
   "id": "67974527-ed77-47e9-ac8b-24d5999e6462",
   "metadata": {
    "tags": []
   },
   "source": [
    "# 7CCSONAR Research Skills: Analysis and Reporting\n",
    "\n"
   ]
  },
  {
   "cell_type": "markdown",
   "id": "17a45064-2ba7-466a-9ef8-941e1a78152e",
   "metadata": {},
   "source": [
    "## Honeypot Attack Prediction: A Statistical Model Based on Country of Origin and Time of Day\n",
    "\n",
    "#### Analysis prepared by Anna Shirokova\n"
   ]
  },
  {
   "cell_type": "markdown",
   "id": "2f189f10-dd50-492b-b333-4d95ed55272f",
   "metadata": {
    "tags": []
   },
   "source": [
    "# RQ: Can we build a predictive model that accurately forecasts the frequency of attacks to honeypots based on the country of origin and time of day? \n",
    "\n",
    "In the context of this research question, the target variable would be the frequency of attacks on the honeypots based in London. This is the variable that we want to predict using the other variables (country of origin and time of day). The other variables are the predictors or independent variables.\n",
    "\n",
    "We will create a new column in our dataset called \"Attack_Frequency\", and populate it with the frequency of attacks observed in a given time period (e.g., per hour or per day).\n",
    "\n",
    "To predict the frequency of attacks, we will use linear regression. We would use the country of origin of the attacker, and the time of day features as predictors.\n",
    "\n",
    "Before training a model, we would need to preprocess our data and extract the relevant features. For example,we need to extract the hour of the day from the \"StartTime\" column, get country code and name from geo information for IP address, and create dummy variables for each country of origin. "
   ]
  },
  {
   "cell_type": "code",
   "execution_count": 1,
   "id": "d275813c-edb7-4e27-861d-e3a7d8a7dd42",
   "metadata": {},
   "outputs": [],
   "source": [
    "import pandas as pd\n",
    "import seaborn as sns\n",
    "import numpy as np\n",
    "import matplotlib.pyplot as plt\n",
    "from sklearn.linear_model import LinearRegression\n",
    "from pathlib import Path\n",
    "import datetime\n",
    "import os\n",
    "import glob"
   ]
  },
  {
   "cell_type": "code",
   "execution_count": 2,
   "id": "772eba41-5151-4c8e-9600-518c9f54e086",
   "metadata": {},
   "outputs": [],
   "source": [
    "path_to_csv_folder = 'Honeypot-Cloud-DigitalOcean-Geo-4'"
   ]
  },
  {
   "cell_type": "code",
   "execution_count": 3,
   "id": "0aa478f0-1c2e-48c4-ac6e-12b67275d865",
   "metadata": {},
   "outputs": [],
   "source": [
    "csv_files = glob.glob(path_to_csv_folder + '/*.csv')"
   ]
  },
  {
   "cell_type": "code",
   "execution_count": 4,
   "id": "10841155-6312-4390-8105-fe3f095ad741",
   "metadata": {},
   "outputs": [
    {
     "data": {
      "text/plain": [
       "['Honeypot-Cloud-DigitalOcean-Geo-4/2021-04-29_honeypot-cloud-digitalocean-geo-4_netflow-v5.csv',\n",
       " 'Honeypot-Cloud-DigitalOcean-Geo-4/2021-05-04_honeypot-cloud-digitalocean-geo-4_netflow-v5.csv',\n",
       " 'Honeypot-Cloud-DigitalOcean-Geo-4/2021-05-06_honeypot-cloud-digitalocean-geo-4_netflow-v5.csv',\n",
       " 'Honeypot-Cloud-DigitalOcean-Geo-4/2021-04-30_honeypot-cloud-digitalocean-geo-4_netflow-v5.csv',\n",
       " 'Honeypot-Cloud-DigitalOcean-Geo-4/2021-04-24_honeypot-cloud-digitalocean-geo-4_netflow-v5.csv',\n",
       " 'Honeypot-Cloud-DigitalOcean-Geo-4/2021-04-26_honeypot-cloud-digitalocean-geo-4_netflow-v5.csv',\n",
       " 'Honeypot-Cloud-DigitalOcean-Geo-4/2021-05-02_honeypot-cloud-digitalocean-geo-4_netflow-v5.csv',\n",
       " 'Honeypot-Cloud-DigitalOcean-Geo-4/2021-04-28_honeypot-cloud-digitalocean-geo-4_netflow-v5.csv',\n",
       " 'Honeypot-Cloud-DigitalOcean-Geo-4/2021-05-05_honeypot-cloud-digitalocean-geo-4_netflow-v5.csv',\n",
       " 'Honeypot-Cloud-DigitalOcean-Geo-4/2021-04-23_honeypot-cloud-digitalocean-geo-4_netflow-v5.csv',\n",
       " 'Honeypot-Cloud-DigitalOcean-Geo-4/2021-05-07_honeypot-cloud-digitalocean-geo-4_netflow-v5.csv',\n",
       " 'Honeypot-Cloud-DigitalOcean-Geo-4/2021-05-01_honeypot-cloud-digitalocean-geo-4_netflow-v5.csv',\n",
       " 'Honeypot-Cloud-DigitalOcean-Geo-4/2021-04-25_honeypot-cloud-digitalocean-geo-4_netflow-v5.csv',\n",
       " 'Honeypot-Cloud-DigitalOcean-Geo-4/2021-05-03_honeypot-cloud-digitalocean-geo-4_netflow-v5.csv',\n",
       " 'Honeypot-Cloud-DigitalOcean-Geo-4/2021-04-27_honeypot-cloud-digitalocean-geo-4_netflow-v5.csv']"
      ]
     },
     "execution_count": 4,
     "metadata": {},
     "output_type": "execute_result"
    }
   ],
   "source": [
    "csv_files"
   ]
  },
  {
   "cell_type": "code",
   "execution_count": 5,
   "id": "e7684fb8-3c1f-4769-9ff0-e9585ba72a74",
   "metadata": {},
   "outputs": [],
   "source": [
    "dfs = []\n",
    "for csv_file in csv_files:\n",
    "    df = pd.read_csv(csv_file)\n",
    "    dfs.append(df)\n",
    "\n",
    "df = pd.concat(dfs)"
   ]
  },
  {
   "cell_type": "markdown",
   "id": "7d8cdf1f-7721-4788-8195-234383493899",
   "metadata": {
    "tags": []
   },
   "source": [
    "# High level data overview\n",
    "    Initial data exploration to check for missing values, duplicates, and available columns "
   ]
  },
  {
   "cell_type": "code",
   "execution_count": 6,
   "id": "dbeddda0-2b1b-42d0-9744-05c574317afa",
   "metadata": {},
   "outputs": [
    {
     "data": {
      "text/plain": [
       "(130605, 15)"
      ]
     },
     "execution_count": 6,
     "metadata": {},
     "output_type": "execute_result"
    }
   ],
   "source": [
    "df.shape"
   ]
  },
  {
   "cell_type": "code",
   "execution_count": 7,
   "id": "e9b0df24-b6c3-4008-bb5b-cea0bc85b4e7",
   "metadata": {},
   "outputs": [
    {
     "data": {
      "text/plain": [
       "1959075"
      ]
     },
     "execution_count": 7,
     "metadata": {},
     "output_type": "execute_result"
    }
   ],
   "source": [
    "df.size"
   ]
  },
  {
   "cell_type": "markdown",
   "id": "0455fd4d-5551-4e50-96a0-f5f4d34ad3fe",
   "metadata": {},
   "source": [
    "    Attribute\t Attribute Description\n",
    "    \n",
    "    StartTime\trecord start time\n",
    "    Dur\t\ttotal duration\n",
    "    Proto\t\ttransaction protocol\n",
    "    SrcAddr\t\tsource IP address\n",
    "    Sport    \tsource port number\n",
    "    Dir\t      \tdirection of transaction\n",
    "    DstAddr\t   \tdestination IP address\n",
    "    Dport\t  \tdestination port number\n",
    "    State\t \ttransaction state\n",
    "    sTos\t \tsource TOS (type of service) byte value\n",
    "    dTos\t \tdestination TOS (type of service) byte value\n",
    "    TotPkts\t \ttotal transaction packet count\n",
    "    TotBytes\ttotal transaction bytes\n",
    "    SrcBytes\tsource to destination transaction bytes\n",
    "    SrcPkts\t\tsource to destination packet count"
   ]
  },
  {
   "cell_type": "code",
   "execution_count": 8,
   "id": "b11345f8-e83d-462a-9b88-e17785541e43",
   "metadata": {},
   "outputs": [
    {
     "data": {
      "text/html": [
       "<div>\n",
       "<style scoped>\n",
       "    .dataframe tbody tr th:only-of-type {\n",
       "        vertical-align: middle;\n",
       "    }\n",
       "\n",
       "    .dataframe tbody tr th {\n",
       "        vertical-align: top;\n",
       "    }\n",
       "\n",
       "    .dataframe thead th {\n",
       "        text-align: right;\n",
       "    }\n",
       "</style>\n",
       "<table border=\"1\" class=\"dataframe\">\n",
       "  <thead>\n",
       "    <tr style=\"text-align: right;\">\n",
       "      <th></th>\n",
       "      <th>StartTime</th>\n",
       "      <th>Dur</th>\n",
       "      <th>Proto</th>\n",
       "      <th>SrcAddr</th>\n",
       "      <th>Sport</th>\n",
       "      <th>Dir</th>\n",
       "      <th>DstAddr</th>\n",
       "      <th>Dport</th>\n",
       "      <th>State</th>\n",
       "      <th>sTos</th>\n",
       "      <th>dTos</th>\n",
       "      <th>TotPkts</th>\n",
       "      <th>TotBytes</th>\n",
       "      <th>SrcBytes</th>\n",
       "      <th>SrcPkts</th>\n",
       "    </tr>\n",
       "  </thead>\n",
       "  <tbody>\n",
       "    <tr>\n",
       "      <th>0</th>\n",
       "      <td>2021/04/29 02:00:00.000000</td>\n",
       "      <td>1590.057495</td>\n",
       "      <td>arp</td>\n",
       "      <td>159.65.16.1</td>\n",
       "      <td>NaN</td>\n",
       "      <td>who</td>\n",
       "      <td>159.65.26.180</td>\n",
       "      <td>NaN</td>\n",
       "      <td>CON</td>\n",
       "      <td>NaN</td>\n",
       "      <td>NaN</td>\n",
       "      <td>4</td>\n",
       "      <td>206</td>\n",
       "      <td>121</td>\n",
       "      <td>2</td>\n",
       "    </tr>\n",
       "    <tr>\n",
       "      <th>1</th>\n",
       "      <td>2021/04/29 02:00:03.763696</td>\n",
       "      <td>0.000045</td>\n",
       "      <td>udp</td>\n",
       "      <td>109.248.203.193</td>\n",
       "      <td>36758</td>\n",
       "      <td>-&gt;</td>\n",
       "      <td>159.65.26.180</td>\n",
       "      <td>3702</td>\n",
       "      <td>INT</td>\n",
       "      <td>0.0</td>\n",
       "      <td>NaN</td>\n",
       "      <td>1</td>\n",
       "      <td>56</td>\n",
       "      <td>56</td>\n",
       "      <td>1</td>\n",
       "    </tr>\n",
       "    <tr>\n",
       "      <th>2</th>\n",
       "      <td>2021/04/29 02:00:14.147422</td>\n",
       "      <td>0.132838</td>\n",
       "      <td>tcp</td>\n",
       "      <td>109.234.153.131</td>\n",
       "      <td>54413</td>\n",
       "      <td>-&gt;</td>\n",
       "      <td>159.65.26.180</td>\n",
       "      <td>3128</td>\n",
       "      <td>SR_RA</td>\n",
       "      <td>0.0</td>\n",
       "      <td>0.0</td>\n",
       "      <td>3</td>\n",
       "      <td>166</td>\n",
       "      <td>112</td>\n",
       "      <td>2</td>\n",
       "    </tr>\n",
       "    <tr>\n",
       "      <th>3</th>\n",
       "      <td>2021/04/29 02:00:14.156015</td>\n",
       "      <td>0.121702</td>\n",
       "      <td>tcp</td>\n",
       "      <td>109.234.153.131</td>\n",
       "      <td>54413</td>\n",
       "      <td>-&gt;</td>\n",
       "      <td>159.65.26.180</td>\n",
       "      <td>8080</td>\n",
       "      <td>SR_RA</td>\n",
       "      <td>0.0</td>\n",
       "      <td>0.0</td>\n",
       "      <td>3</td>\n",
       "      <td>166</td>\n",
       "      <td>112</td>\n",
       "      <td>2</td>\n",
       "    </tr>\n",
       "    <tr>\n",
       "      <th>4</th>\n",
       "      <td>2021/04/29 02:00:15.457550</td>\n",
       "      <td>0.062870</td>\n",
       "      <td>tcp</td>\n",
       "      <td>109.234.153.131</td>\n",
       "      <td>54413</td>\n",
       "      <td>-&gt;</td>\n",
       "      <td>159.65.26.180</td>\n",
       "      <td>2174</td>\n",
       "      <td>SR_RA</td>\n",
       "      <td>0.0</td>\n",
       "      <td>0.0</td>\n",
       "      <td>3</td>\n",
       "      <td>166</td>\n",
       "      <td>112</td>\n",
       "      <td>2</td>\n",
       "    </tr>\n",
       "  </tbody>\n",
       "</table>\n",
       "</div>"
      ],
      "text/plain": [
       "                    StartTime          Dur Proto          SrcAddr  Sport  \\\n",
       "0  2021/04/29 02:00:00.000000  1590.057495   arp      159.65.16.1    NaN   \n",
       "1  2021/04/29 02:00:03.763696     0.000045   udp  109.248.203.193  36758   \n",
       "2  2021/04/29 02:00:14.147422     0.132838   tcp  109.234.153.131  54413   \n",
       "3  2021/04/29 02:00:14.156015     0.121702   tcp  109.234.153.131  54413   \n",
       "4  2021/04/29 02:00:15.457550     0.062870   tcp  109.234.153.131  54413   \n",
       "\n",
       "     Dir        DstAddr Dport  State  sTos  dTos  TotPkts  TotBytes  SrcBytes  \\\n",
       "0    who  159.65.26.180   NaN    CON   NaN   NaN        4       206       121   \n",
       "1     ->  159.65.26.180  3702    INT   0.0   NaN        1        56        56   \n",
       "2     ->  159.65.26.180  3128  SR_RA   0.0   0.0        3       166       112   \n",
       "3     ->  159.65.26.180  8080  SR_RA   0.0   0.0        3       166       112   \n",
       "4     ->  159.65.26.180  2174  SR_RA   0.0   0.0        3       166       112   \n",
       "\n",
       "   SrcPkts  \n",
       "0        2  \n",
       "1        1  \n",
       "2        2  \n",
       "3        2  \n",
       "4        2  "
      ]
     },
     "execution_count": 8,
     "metadata": {},
     "output_type": "execute_result"
    }
   ],
   "source": [
    "df.head()"
   ]
  },
  {
   "cell_type": "code",
   "execution_count": 9,
   "id": "66b6ff0d-4389-4d5e-afb8-653ef69a651f",
   "metadata": {},
   "outputs": [
    {
     "data": {
      "text/plain": [
       "Index(['StartTime', 'Dur', 'Proto', 'SrcAddr', 'Sport', 'Dir', 'DstAddr',\n",
       "       'Dport', 'State', 'sTos', 'dTos', 'TotPkts', 'TotBytes', 'SrcBytes',\n",
       "       'SrcPkts'],\n",
       "      dtype='object')"
      ]
     },
     "execution_count": 9,
     "metadata": {},
     "output_type": "execute_result"
    }
   ],
   "source": [
    "df.columns"
   ]
  },
  {
   "cell_type": "code",
   "execution_count": 10,
   "id": "0876fbdf-e270-43c6-b283-7170368a0023",
   "metadata": {},
   "outputs": [],
   "source": [
    "def basic_information_about_df(df):\n",
    "        \"\"\"\n",
    "        Function: basic_information_about_df(df)\n",
    "\n",
    "        This function prints the basic information about a given pandas DataFrame object. \n",
    "        The function prints the number of rows and columns, total number of NA values,\n",
    "        and the column-wise data type, number of distinct values, and number of NA values.\n",
    "\n",
    "        Inputs:\n",
    "        - df: A pandas DataFrame object that needs to be analyzed\n",
    "\n",
    "        Outputs:\n",
    "        - Prints the basic information about the input dataframe\n",
    "        \"\"\"\n",
    "        \n",
    "\n",
    "        if isinstance(df, pd.DataFrame):\n",
    "            total_na = df.isna().sum().sum()\n",
    "            print(\"Dataset contains : %d rows, %d columns\" % (df.shape[0], df.shape[1]))\n",
    "            print(\"Total NA Values : %d \" % (total_na))\n",
    "            print(\"%38s %10s     %10s %10s\" % (\"Column Name\", \"Data Type\", \"#Distinct\", \"NA Values\"))\n",
    "            col_name = df.columns\n",
    "            dtyp = df.dtypes\n",
    "            uniq = df.nunique()\n",
    "            na_val = df.isna().sum()\n",
    "            for i in range(len(df.columns)):\n",
    "                print(\"%38s %10s   %10s %10s\" % (col_name[i], dtyp[i], uniq[i], na_val[i]))\n",
    "\n",
    "        else:\n",
    "            print(\"Expect a DataFrame but got a %15s\" % (type(df)))"
   ]
  },
  {
   "cell_type": "code",
   "execution_count": 11,
   "id": "be96ea83-8e7a-4442-899c-d17ba2d2c185",
   "metadata": {},
   "outputs": [
    {
     "name": "stdout",
     "output_type": "stream",
     "text": [
      "Dataset contains : 130605 rows, 15 columns\n",
      "Total NA Values : 9002 \n",
      "                           Column Name  Data Type      #Distinct  NA Values\n",
      "                             StartTime     object       130245          0\n",
      "                                   Dur    float64        49246          0\n",
      "                                 Proto     object            6          0\n",
      "                               SrcAddr     object        26620          0\n",
      "                                 Sport     object        35450        488\n",
      "                                   Dir     object            6          0\n",
      "                               DstAddr     object            2          0\n",
      "                                 Dport     object        29877        488\n",
      "                                 State     object           39          0\n",
      "                                  sTos    float64           38        618\n",
      "                                  dTos    float64           36       7408\n",
      "                               TotPkts      int64           36          0\n",
      "                              TotBytes      int64          372          0\n",
      "                              SrcBytes      int64          342          0\n",
      "                               SrcPkts      int64           27          0\n"
     ]
    }
   ],
   "source": [
    "basic_information_about_df(df)"
   ]
  },
  {
   "cell_type": "code",
   "execution_count": 12,
   "id": "9fe8e7de-46b6-470a-9760-064fe685b3a9",
   "metadata": {},
   "outputs": [
    {
     "data": {
      "text/plain": [
       "0"
      ]
     },
     "execution_count": 12,
     "metadata": {},
     "output_type": "execute_result"
    }
   ],
   "source": [
    "df.duplicated().sum()"
   ]
  },
  {
   "cell_type": "markdown",
   "id": "b592a0f5-ba43-4aa6-8413-3749118f3b37",
   "metadata": {},
   "source": [
    "* Observations\n",
    "\n",
    "\n",
    "**Missing values**\n",
    "    \n",
    "The columns 'Sport' and 'Dport' have 488 missing values.<br>\n",
    "The column 'sTos' has 618 missing values.<br>\n",
    "The column 'dTos' has 7408 missing values.<br>\n",
    "\n",
    "**No missing values**\n",
    "\n",
    "In columns 'StartTime', 'Dur', 'Proto', 'SrcAddr', 'Dir', 'DstAddr', 'State', 'TotPkts', 'TotBytes', 'SrcBytes', and 'SrcPkts' <br>\n",
    "\n",
    "\n",
    "**No duplicates**\n",
    "\n",
    "0 duplicates found\n",
    "\n",
    "**Variable types**\n",
    "\n",
    "Our data has both quantitative and qualitative values"
   ]
  },
  {
   "cell_type": "markdown",
   "id": "97c44f34-3ddc-4dfb-a1d2-5ec351b9be76",
   "metadata": {
    "tags": []
   },
   "source": [
    "###  Examine categorical features in the dataset\n",
    " * We have **8** categorical variables\n",
    "- 'StartTime', \n",
    "- 'Proto',\n",
    "- 'SrcAddr',\n",
    "- 'Sport',\n",
    "- 'Dir',\n",
    "- 'DstAddr',\n",
    "- 'Dport',\n",
    "- 'State'\n",
    "- `Sport`, `Dport` are  port numbers which represented as integer values in network traffic data,but they are not treated as continuous variables in statistical analysis. <br>\n",
    "Instead, they are typically treated as categorical variables."
   ]
  },
  {
   "cell_type": "code",
   "execution_count": 13,
   "id": "5ad8d361-4236-4602-a1a0-8b74a1c97869",
   "metadata": {
    "tags": []
   },
   "outputs": [
    {
     "data": {
      "text/plain": [
       "Index(['StartTime', 'Proto', 'SrcAddr', 'Sport', 'Dir', 'DstAddr', 'Dport',\n",
       "       'State'],\n",
       "      dtype='object')"
      ]
     },
     "execution_count": 13,
     "metadata": {},
     "output_type": "execute_result"
    }
   ],
   "source": [
    "categorical_features = df.select_dtypes(include=[object])\n",
    "categorical_features.columns"
   ]
  },
  {
   "cell_type": "code",
   "execution_count": 14,
   "id": "103f839d-c08a-4569-ba6e-0601a3d51b9b",
   "metadata": {},
   "outputs": [
    {
     "data": {
      "text/plain": [
       "8"
      ]
     },
     "execution_count": 14,
     "metadata": {},
     "output_type": "execute_result"
    }
   ],
   "source": [
    "len(categorical_features.columns)"
   ]
  },
  {
   "cell_type": "code",
   "execution_count": 15,
   "id": "01b85343-b142-42d3-bc40-88eb792ebe24",
   "metadata": {},
   "outputs": [
    {
     "data": {
      "text/html": [
       "<div>\n",
       "<style scoped>\n",
       "    .dataframe tbody tr th:only-of-type {\n",
       "        vertical-align: middle;\n",
       "    }\n",
       "\n",
       "    .dataframe tbody tr th {\n",
       "        vertical-align: top;\n",
       "    }\n",
       "\n",
       "    .dataframe thead th {\n",
       "        text-align: right;\n",
       "    }\n",
       "</style>\n",
       "<table border=\"1\" class=\"dataframe\">\n",
       "  <thead>\n",
       "    <tr style=\"text-align: right;\">\n",
       "      <th></th>\n",
       "      <th>StartTime</th>\n",
       "      <th>Proto</th>\n",
       "      <th>SrcAddr</th>\n",
       "      <th>Sport</th>\n",
       "      <th>Dir</th>\n",
       "      <th>DstAddr</th>\n",
       "      <th>Dport</th>\n",
       "      <th>State</th>\n",
       "    </tr>\n",
       "  </thead>\n",
       "  <tbody>\n",
       "    <tr>\n",
       "      <th>0</th>\n",
       "      <td>2021/04/29 02:00:00.000000</td>\n",
       "      <td>arp</td>\n",
       "      <td>159.65.16.1</td>\n",
       "      <td>NaN</td>\n",
       "      <td>who</td>\n",
       "      <td>159.65.26.180</td>\n",
       "      <td>NaN</td>\n",
       "      <td>CON</td>\n",
       "    </tr>\n",
       "    <tr>\n",
       "      <th>1</th>\n",
       "      <td>2021/04/29 02:00:03.763696</td>\n",
       "      <td>udp</td>\n",
       "      <td>109.248.203.193</td>\n",
       "      <td>36758</td>\n",
       "      <td>-&gt;</td>\n",
       "      <td>159.65.26.180</td>\n",
       "      <td>3702</td>\n",
       "      <td>INT</td>\n",
       "    </tr>\n",
       "    <tr>\n",
       "      <th>2</th>\n",
       "      <td>2021/04/29 02:00:14.147422</td>\n",
       "      <td>tcp</td>\n",
       "      <td>109.234.153.131</td>\n",
       "      <td>54413</td>\n",
       "      <td>-&gt;</td>\n",
       "      <td>159.65.26.180</td>\n",
       "      <td>3128</td>\n",
       "      <td>SR_RA</td>\n",
       "    </tr>\n",
       "  </tbody>\n",
       "</table>\n",
       "</div>"
      ],
      "text/plain": [
       "                    StartTime Proto          SrcAddr  Sport    Dir  \\\n",
       "0  2021/04/29 02:00:00.000000   arp      159.65.16.1    NaN    who   \n",
       "1  2021/04/29 02:00:03.763696   udp  109.248.203.193  36758     ->   \n",
       "2  2021/04/29 02:00:14.147422   tcp  109.234.153.131  54413     ->   \n",
       "\n",
       "         DstAddr Dport  State  \n",
       "0  159.65.26.180   NaN    CON  \n",
       "1  159.65.26.180  3702    INT  \n",
       "2  159.65.26.180  3128  SR_RA  "
      ]
     },
     "execution_count": 15,
     "metadata": {},
     "output_type": "execute_result"
    }
   ],
   "source": [
    "categorical_features.head(3)"
   ]
  },
  {
   "cell_type": "markdown",
   "id": "5f5da6f0-32b8-47df-b238-e9d866a88856",
   "metadata": {
    "tags": []
   },
   "source": [
    "### Examine numerical features in the dataset\n",
    "\n",
    "Dataset has 8 numerical features, out of which\n",
    "- 3 discrete features\n",
    "\n",
    "    TotPkts,\n",
    "    SrcBytes,\n",
    "    SrcPkts,\n",
    "    \n",
    "- 4 continuous\n",
    "    Dur,\n",
    "    sTos,\n",
    "    dTos,\n",
    "    TotBytes"
   ]
  },
  {
   "cell_type": "code",
   "execution_count": 16,
   "id": "0be976bb-e2bf-44e8-8997-f2fce388f5f8",
   "metadata": {},
   "outputs": [
    {
     "data": {
      "text/plain": [
       "Index(['Dur', 'sTos', 'dTos', 'TotPkts', 'TotBytes', 'SrcBytes', 'SrcPkts'], dtype='object')"
      ]
     },
     "execution_count": 16,
     "metadata": {},
     "output_type": "execute_result"
    }
   ],
   "source": [
    "numerical_features = df.select_dtypes(include=np.number)\n",
    "numerical_features.columns"
   ]
  },
  {
   "cell_type": "code",
   "execution_count": 17,
   "id": "6d16791a-3741-473d-959d-e212c417f531",
   "metadata": {},
   "outputs": [
    {
     "data": {
      "text/plain": [
       "8"
      ]
     },
     "execution_count": 17,
     "metadata": {},
     "output_type": "execute_result"
    }
   ],
   "source": [
    "len(categorical_features.columns)"
   ]
  },
  {
   "cell_type": "code",
   "execution_count": 18,
   "id": "cf07ffe9-6ae3-4268-96de-1c8f7486fc61",
   "metadata": {},
   "outputs": [
    {
     "data": {
      "text/html": [
       "<div>\n",
       "<style scoped>\n",
       "    .dataframe tbody tr th:only-of-type {\n",
       "        vertical-align: middle;\n",
       "    }\n",
       "\n",
       "    .dataframe tbody tr th {\n",
       "        vertical-align: top;\n",
       "    }\n",
       "\n",
       "    .dataframe thead th {\n",
       "        text-align: right;\n",
       "    }\n",
       "</style>\n",
       "<table border=\"1\" class=\"dataframe\">\n",
       "  <thead>\n",
       "    <tr style=\"text-align: right;\">\n",
       "      <th></th>\n",
       "      <th>Dur</th>\n",
       "      <th>sTos</th>\n",
       "      <th>dTos</th>\n",
       "      <th>TotPkts</th>\n",
       "      <th>TotBytes</th>\n",
       "      <th>SrcBytes</th>\n",
       "      <th>SrcPkts</th>\n",
       "    </tr>\n",
       "  </thead>\n",
       "  <tbody>\n",
       "    <tr>\n",
       "      <th>0</th>\n",
       "      <td>1590.057495</td>\n",
       "      <td>NaN</td>\n",
       "      <td>NaN</td>\n",
       "      <td>4</td>\n",
       "      <td>206</td>\n",
       "      <td>121</td>\n",
       "      <td>2</td>\n",
       "    </tr>\n",
       "    <tr>\n",
       "      <th>1</th>\n",
       "      <td>0.000045</td>\n",
       "      <td>0.0</td>\n",
       "      <td>NaN</td>\n",
       "      <td>1</td>\n",
       "      <td>56</td>\n",
       "      <td>56</td>\n",
       "      <td>1</td>\n",
       "    </tr>\n",
       "    <tr>\n",
       "      <th>2</th>\n",
       "      <td>0.132838</td>\n",
       "      <td>0.0</td>\n",
       "      <td>0.0</td>\n",
       "      <td>3</td>\n",
       "      <td>166</td>\n",
       "      <td>112</td>\n",
       "      <td>2</td>\n",
       "    </tr>\n",
       "  </tbody>\n",
       "</table>\n",
       "</div>"
      ],
      "text/plain": [
       "           Dur  sTos  dTos  TotPkts  TotBytes  SrcBytes  SrcPkts\n",
       "0  1590.057495   NaN   NaN        4       206       121        2\n",
       "1     0.000045   0.0   NaN        1        56        56        1\n",
       "2     0.132838   0.0   0.0        3       166       112        2"
      ]
     },
     "execution_count": 18,
     "metadata": {},
     "output_type": "execute_result"
    }
   ],
   "source": [
    "numerical_features.head(3)"
   ]
  },
  {
   "cell_type": "code",
   "execution_count": 19,
   "id": "fe62cd1d-19e6-46c9-82cf-a14b17c46445",
   "metadata": {},
   "outputs": [
    {
     "data": {
      "text/html": [
       "<div>\n",
       "<style scoped>\n",
       "    .dataframe tbody tr th:only-of-type {\n",
       "        vertical-align: middle;\n",
       "    }\n",
       "\n",
       "    .dataframe tbody tr th {\n",
       "        vertical-align: top;\n",
       "    }\n",
       "\n",
       "    .dataframe thead th {\n",
       "        text-align: right;\n",
       "    }\n",
       "</style>\n",
       "<table border=\"1\" class=\"dataframe\">\n",
       "  <thead>\n",
       "    <tr style=\"text-align: right;\">\n",
       "      <th></th>\n",
       "      <th>Dur</th>\n",
       "      <th>sTos</th>\n",
       "      <th>dTos</th>\n",
       "      <th>TotPkts</th>\n",
       "      <th>TotBytes</th>\n",
       "      <th>SrcBytes</th>\n",
       "      <th>SrcPkts</th>\n",
       "    </tr>\n",
       "  </thead>\n",
       "  <tbody>\n",
       "    <tr>\n",
       "      <th>count</th>\n",
       "      <td>130605.00</td>\n",
       "      <td>129987.00</td>\n",
       "      <td>123197.00</td>\n",
       "      <td>130605.00</td>\n",
       "      <td>130605.00</td>\n",
       "      <td>130605.00</td>\n",
       "      <td>130605.00</td>\n",
       "    </tr>\n",
       "    <tr>\n",
       "      <th>mean</th>\n",
       "      <td>9.89</td>\n",
       "      <td>3.81</td>\n",
       "      <td>3.62</td>\n",
       "      <td>2.60</td>\n",
       "      <td>156.75</td>\n",
       "      <td>96.64</td>\n",
       "      <td>1.53</td>\n",
       "    </tr>\n",
       "    <tr>\n",
       "      <th>std</th>\n",
       "      <td>143.08</td>\n",
       "      <td>16.45</td>\n",
       "      <td>15.32</td>\n",
       "      <td>1.16</td>\n",
       "      <td>88.39</td>\n",
       "      <td>59.21</td>\n",
       "      <td>0.68</td>\n",
       "    </tr>\n",
       "    <tr>\n",
       "      <th>min</th>\n",
       "      <td>0.00</td>\n",
       "      <td>0.00</td>\n",
       "      <td>0.00</td>\n",
       "      <td>1.00</td>\n",
       "      <td>56.00</td>\n",
       "      <td>0.00</td>\n",
       "      <td>0.00</td>\n",
       "    </tr>\n",
       "    <tr>\n",
       "      <th>25%</th>\n",
       "      <td>0.00</td>\n",
       "      <td>0.00</td>\n",
       "      <td>0.00</td>\n",
       "      <td>2.00</td>\n",
       "      <td>112.00</td>\n",
       "      <td>58.00</td>\n",
       "      <td>1.00</td>\n",
       "    </tr>\n",
       "    <tr>\n",
       "      <th>50%</th>\n",
       "      <td>0.01</td>\n",
       "      <td>0.00</td>\n",
       "      <td>0.00</td>\n",
       "      <td>3.00</td>\n",
       "      <td>166.00</td>\n",
       "      <td>112.00</td>\n",
       "      <td>2.00</td>\n",
       "    </tr>\n",
       "    <tr>\n",
       "      <th>75%</th>\n",
       "      <td>0.06</td>\n",
       "      <td>0.00</td>\n",
       "      <td>0.00</td>\n",
       "      <td>3.00</td>\n",
       "      <td>166.00</td>\n",
       "      <td>112.00</td>\n",
       "      <td>2.00</td>\n",
       "    </tr>\n",
       "    <tr>\n",
       "      <th>max</th>\n",
       "      <td>3527.25</td>\n",
       "      <td>228.00</td>\n",
       "      <td>228.00</td>\n",
       "      <td>208.00</td>\n",
       "      <td>11440.00</td>\n",
       "      <td>5824.00</td>\n",
       "      <td>104.00</td>\n",
       "    </tr>\n",
       "  </tbody>\n",
       "</table>\n",
       "</div>"
      ],
      "text/plain": [
       "             Dur       sTos       dTos    TotPkts   TotBytes   SrcBytes  \\\n",
       "count  130605.00  129987.00  123197.00  130605.00  130605.00  130605.00   \n",
       "mean        9.89       3.81       3.62       2.60     156.75      96.64   \n",
       "std       143.08      16.45      15.32       1.16      88.39      59.21   \n",
       "min         0.00       0.00       0.00       1.00      56.00       0.00   \n",
       "25%         0.00       0.00       0.00       2.00     112.00      58.00   \n",
       "50%         0.01       0.00       0.00       3.00     166.00     112.00   \n",
       "75%         0.06       0.00       0.00       3.00     166.00     112.00   \n",
       "max      3527.25     228.00     228.00     208.00   11440.00    5824.00   \n",
       "\n",
       "         SrcPkts  \n",
       "count  130605.00  \n",
       "mean        1.53  \n",
       "std         0.68  \n",
       "min         0.00  \n",
       "25%         1.00  \n",
       "50%         2.00  \n",
       "75%         2.00  \n",
       "max       104.00  "
      ]
     },
     "execution_count": 19,
     "metadata": {},
     "output_type": "execute_result"
    }
   ],
   "source": [
    "numerical_features.describe().round(2)"
   ]
  },
  {
   "cell_type": "markdown",
   "id": "f3329209-7f79-431e-801b-a2dcc98e3cbf",
   "metadata": {
    "tags": []
   },
   "source": [
    "#  Preprocessing and Data Cleanup"
   ]
  },
  {
   "cell_type": "markdown",
   "id": "78feb2f5-27b2-4c17-bf4e-ac17ea5c5ab1",
   "metadata": {},
   "source": [
    "### Methodology\n",
    "\n",
    "Data enrichment with geo information based on the source IP addresses of the attackers \n",
    "\n",
    "Splitting timestamp into more granular components for fine-grained analysis \n",
    "\n",
    "Dropping unnecessary columns and filtering out irrelevant data \n",
    "\n",
    "Removing all missing values in the dataset \n"
   ]
  },
  {
   "cell_type": "markdown",
   "id": "cb45b190-3c5d-4269-8589-0915ab5427fd",
   "metadata": {
    "tags": []
   },
   "source": [
    "#### Data Enrichment\n",
    "* We have total 130605 IPs, out of which 26620 are unique. These IPs are IPs of attackers attacking honeypot (DstAddr)"
   ]
  },
  {
   "cell_type": "code",
   "execution_count": 20,
   "id": "3d2c1338-af5f-457d-b1ad-95f2fc8e10e6",
   "metadata": {},
   "outputs": [
    {
     "data": {
      "text/plain": [
       "(130605,)"
      ]
     },
     "execution_count": 20,
     "metadata": {},
     "output_type": "execute_result"
    }
   ],
   "source": [
    "df['SrcAddr'].shape"
   ]
  },
  {
   "cell_type": "code",
   "execution_count": 21,
   "id": "54858548-f88b-41e7-80b8-961c3c8ebc18",
   "metadata": {},
   "outputs": [],
   "source": [
    "unique_ips = df['SrcAddr'].drop_duplicates()"
   ]
  },
  {
   "cell_type": "code",
   "execution_count": 22,
   "id": "c21761d5-5cd1-4339-bbb6-d7691f63ddb9",
   "metadata": {},
   "outputs": [
    {
     "data": {
      "text/plain": [
       "26620"
      ]
     },
     "execution_count": 22,
     "metadata": {},
     "output_type": "execute_result"
    }
   ],
   "source": [
    "unique_ips.count()"
   ]
  },
  {
   "cell_type": "markdown",
   "id": "1e36688f-75f0-4b06-893d-05aea07a1971",
   "metadata": {},
   "source": [
    "- Save unique IPs of attackers to csv for further preprocessing, such as getting country name and code for each unique IP"
   ]
  },
  {
   "cell_type": "code",
   "execution_count": 23,
   "id": "add31421-4edf-4506-979a-314301b71e9f",
   "metadata": {},
   "outputs": [],
   "source": [
    "#unique_ips.to_csv(\"attackers_ip_unique\")"
   ]
  },
  {
   "cell_type": "markdown",
   "id": "12a7314e-474c-4b64-a7b8-4875928e2894",
   "metadata": {},
   "source": [
    "- Read csv with IP, country, and country code"
   ]
  },
  {
   "cell_type": "code",
   "execution_count": 24,
   "id": "116a2774-8955-4cb6-94d9-c5dd1c9e2632",
   "metadata": {},
   "outputs": [],
   "source": [
    "csv_file =  'merged_results_of_ips_geo.csv'"
   ]
  },
  {
   "cell_type": "code",
   "execution_count": 25,
   "id": "181fc58e-acb3-4ec3-ac67-c728a5497f8d",
   "metadata": {},
   "outputs": [],
   "source": [
    "ips_to_country_df = pd.read_csv(csv_file)"
   ]
  },
  {
   "cell_type": "code",
   "execution_count": 26,
   "id": "5a7604c7-769c-419f-9049-48ca7a5890a2",
   "metadata": {},
   "outputs": [
    {
     "data": {
      "text/html": [
       "<div>\n",
       "<style scoped>\n",
       "    .dataframe tbody tr th:only-of-type {\n",
       "        vertical-align: middle;\n",
       "    }\n",
       "\n",
       "    .dataframe tbody tr th {\n",
       "        vertical-align: top;\n",
       "    }\n",
       "\n",
       "    .dataframe thead th {\n",
       "        text-align: right;\n",
       "    }\n",
       "</style>\n",
       "<table border=\"1\" class=\"dataframe\">\n",
       "  <thead>\n",
       "    <tr style=\"text-align: right;\">\n",
       "      <th></th>\n",
       "      <th>SrcAddr</th>\n",
       "      <th>Country</th>\n",
       "      <th>Country Code</th>\n",
       "    </tr>\n",
       "  </thead>\n",
       "  <tbody>\n",
       "    <tr>\n",
       "      <th>0</th>\n",
       "      <td>62.15.101.186</td>\n",
       "      <td>Spain</td>\n",
       "      <td>ES</td>\n",
       "    </tr>\n",
       "    <tr>\n",
       "      <th>1</th>\n",
       "      <td>45.234.116.2</td>\n",
       "      <td>Argentina</td>\n",
       "      <td>AR</td>\n",
       "    </tr>\n",
       "    <tr>\n",
       "      <th>2</th>\n",
       "      <td>206.189.178.37</td>\n",
       "      <td>United States</td>\n",
       "      <td>US</td>\n",
       "    </tr>\n",
       "  </tbody>\n",
       "</table>\n",
       "</div>"
      ],
      "text/plain": [
       "          SrcAddr        Country Country Code\n",
       "0   62.15.101.186          Spain           ES\n",
       "1    45.234.116.2      Argentina           AR\n",
       "2  206.189.178.37  United States           US"
      ]
     },
     "execution_count": 26,
     "metadata": {},
     "output_type": "execute_result"
    }
   ],
   "source": [
    "ips_to_country_df.head(3)"
   ]
  },
  {
   "cell_type": "markdown",
   "id": "125797d6-30fe-45db-9510-ac8a769f8c40",
   "metadata": {},
   "source": [
    "* some are missing values in Country Code"
   ]
  },
  {
   "cell_type": "code",
   "execution_count": 27,
   "id": "317b70e5-a386-4cfb-bd94-ac53dc0c8e99",
   "metadata": {},
   "outputs": [
    {
     "data": {
      "text/plain": [
       "SrcAddr         26645\n",
       "Country         26645\n",
       "Country Code    26641\n",
       "dtype: int64"
      ]
     },
     "execution_count": 27,
     "metadata": {},
     "output_type": "execute_result"
    }
   ],
   "source": [
    "ips_to_country_df.count()"
   ]
  },
  {
   "cell_type": "code",
   "execution_count": 28,
   "id": "1b1d2e7a-8f5a-462f-80c2-08077da2e37d",
   "metadata": {},
   "outputs": [
    {
     "name": "stdout",
     "output_type": "stream",
     "text": [
      "Dataset contains : 26645 rows, 3 columns\n",
      "Total NA Values : 4 \n",
      "                           Column Name  Data Type      #Distinct  NA Values\n",
      "                               SrcAddr     object        26620          0\n",
      "                               Country     object          179          0\n",
      "                          Country Code     object          179          4\n"
     ]
    }
   ],
   "source": [
    "basic_information_about_df(ips_to_country_df)"
   ]
  },
  {
   "cell_type": "markdown",
   "id": "faafd9f0-94df-4050-a735-318806321877",
   "metadata": {},
   "source": [
    "* get the rows with missing values"
   ]
  },
  {
   "cell_type": "code",
   "execution_count": 29,
   "id": "dae1e829-e9f7-4b2c-9504-e32dac6c06a4",
   "metadata": {},
   "outputs": [],
   "source": [
    "na_rows = ips_to_country_df[ips_to_country_df.isna().any(axis=1)]"
   ]
  },
  {
   "cell_type": "code",
   "execution_count": 30,
   "id": "938ae4f3-9376-4c33-96ec-af755abdd5c5",
   "metadata": {},
   "outputs": [
    {
     "data": {
      "text/html": [
       "<div>\n",
       "<style scoped>\n",
       "    .dataframe tbody tr th:only-of-type {\n",
       "        vertical-align: middle;\n",
       "    }\n",
       "\n",
       "    .dataframe tbody tr th {\n",
       "        vertical-align: top;\n",
       "    }\n",
       "\n",
       "    .dataframe thead th {\n",
       "        text-align: right;\n",
       "    }\n",
       "</style>\n",
       "<table border=\"1\" class=\"dataframe\">\n",
       "  <thead>\n",
       "    <tr style=\"text-align: right;\">\n",
       "      <th></th>\n",
       "      <th>SrcAddr</th>\n",
       "      <th>Country</th>\n",
       "      <th>Country Code</th>\n",
       "    </tr>\n",
       "  </thead>\n",
       "  <tbody>\n",
       "    <tr>\n",
       "      <th>8191</th>\n",
       "      <td>197.243.233.43</td>\n",
       "      <td>Namibia</td>\n",
       "      <td>NaN</td>\n",
       "    </tr>\n",
       "    <tr>\n",
       "      <th>12242</th>\n",
       "      <td>196.44.142.242</td>\n",
       "      <td>Namibia</td>\n",
       "      <td>NaN</td>\n",
       "    </tr>\n",
       "    <tr>\n",
       "      <th>21361</th>\n",
       "      <td>154.0.206.190</td>\n",
       "      <td>Namibia</td>\n",
       "      <td>NaN</td>\n",
       "    </tr>\n",
       "    <tr>\n",
       "      <th>26615</th>\n",
       "      <td>154.0.206.108</td>\n",
       "      <td>Namibia</td>\n",
       "      <td>NaN</td>\n",
       "    </tr>\n",
       "  </tbody>\n",
       "</table>\n",
       "</div>"
      ],
      "text/plain": [
       "              SrcAddr  Country Country Code\n",
       "8191   197.243.233.43  Namibia          NaN\n",
       "12242  196.44.142.242  Namibia          NaN\n",
       "21361   154.0.206.190  Namibia          NaN\n",
       "26615   154.0.206.108  Namibia          NaN"
      ]
     },
     "execution_count": 30,
     "metadata": {},
     "output_type": "execute_result"
    }
   ],
   "source": [
    "na_rows"
   ]
  },
  {
   "cell_type": "markdown",
   "id": "70d87000-37d2-4141-ac43-b07da45226cc",
   "metadata": {},
   "source": [
    "* Country Code of Namibia is NA, so pandas treated it as missing values :) lets replace them to NAM"
   ]
  },
  {
   "cell_type": "code",
   "execution_count": 31,
   "id": "67b4b3bb-7a04-49d7-b4a3-4f6203fa482c",
   "metadata": {},
   "outputs": [],
   "source": [
    "ips_to_country_df = ips_to_country_df.fillna('NAM')"
   ]
  },
  {
   "cell_type": "code",
   "execution_count": 32,
   "id": "d0e82bd4-7419-4a40-8399-0d7446c74638",
   "metadata": {},
   "outputs": [
    {
     "data": {
      "text/html": [
       "<div>\n",
       "<style scoped>\n",
       "    .dataframe tbody tr th:only-of-type {\n",
       "        vertical-align: middle;\n",
       "    }\n",
       "\n",
       "    .dataframe tbody tr th {\n",
       "        vertical-align: top;\n",
       "    }\n",
       "\n",
       "    .dataframe thead th {\n",
       "        text-align: right;\n",
       "    }\n",
       "</style>\n",
       "<table border=\"1\" class=\"dataframe\">\n",
       "  <thead>\n",
       "    <tr style=\"text-align: right;\">\n",
       "      <th></th>\n",
       "      <th>SrcAddr</th>\n",
       "      <th>Country</th>\n",
       "      <th>Country Code</th>\n",
       "    </tr>\n",
       "  </thead>\n",
       "  <tbody>\n",
       "    <tr>\n",
       "      <th>8191</th>\n",
       "      <td>197.243.233.43</td>\n",
       "      <td>Namibia</td>\n",
       "      <td>NAM</td>\n",
       "    </tr>\n",
       "    <tr>\n",
       "      <th>12242</th>\n",
       "      <td>196.44.142.242</td>\n",
       "      <td>Namibia</td>\n",
       "      <td>NAM</td>\n",
       "    </tr>\n",
       "    <tr>\n",
       "      <th>21361</th>\n",
       "      <td>154.0.206.190</td>\n",
       "      <td>Namibia</td>\n",
       "      <td>NAM</td>\n",
       "    </tr>\n",
       "    <tr>\n",
       "      <th>26615</th>\n",
       "      <td>154.0.206.108</td>\n",
       "      <td>Namibia</td>\n",
       "      <td>NAM</td>\n",
       "    </tr>\n",
       "  </tbody>\n",
       "</table>\n",
       "</div>"
      ],
      "text/plain": [
       "              SrcAddr  Country Country Code\n",
       "8191   197.243.233.43  Namibia          NAM\n",
       "12242  196.44.142.242  Namibia          NAM\n",
       "21361   154.0.206.190  Namibia          NAM\n",
       "26615   154.0.206.108  Namibia          NAM"
      ]
     },
     "execution_count": 32,
     "metadata": {},
     "output_type": "execute_result"
    }
   ],
   "source": [
    "ips_to_country_df[(ips_to_country_df['Country'] == 'Namibia') | (ips_to_country_df['Country Code'] == 'NAM')]"
   ]
  },
  {
   "cell_type": "code",
   "execution_count": 33,
   "id": "537b0ab5-3052-4b65-b7f1-2e5f22309548",
   "metadata": {},
   "outputs": [
    {
     "data": {
      "text/plain": [
       "0        ES\n",
       "1        AR\n",
       "2        US\n",
       "3        CN\n",
       "4        MX\n",
       "         ..\n",
       "26640    IT\n",
       "26641    TW\n",
       "26642    TW\n",
       "26643    CL\n",
       "26644    US\n",
       "Name: Country Code, Length: 26645, dtype: object"
      ]
     },
     "execution_count": 33,
     "metadata": {},
     "output_type": "execute_result"
    }
   ],
   "source": [
    "ips_to_country_df[\"Country Code\"]"
   ]
  },
  {
   "cell_type": "code",
   "execution_count": 34,
   "id": "02060a35-d4ba-4333-8c47-ffad0b3f161f",
   "metadata": {},
   "outputs": [
    {
     "data": {
      "text/plain": [
       "(130605, 15)"
      ]
     },
     "execution_count": 34,
     "metadata": {},
     "output_type": "execute_result"
    }
   ],
   "source": [
    "df.shape"
   ]
  },
  {
   "cell_type": "markdown",
   "id": "cf3a6058-165e-424e-8b47-1ac447e209ec",
   "metadata": {},
   "source": [
    "* Merge 2 dataframes on SrcAddr"
   ]
  },
  {
   "cell_type": "code",
   "execution_count": 35,
   "id": "644980a2-db2e-41ae-96ed-8effc5f8a8b5",
   "metadata": {},
   "outputs": [],
   "source": [
    "df = df.merge(ips_to_country_df[['SrcAddr', 'Country', 'Country Code']], on='SrcAddr', how='left')"
   ]
  },
  {
   "cell_type": "code",
   "execution_count": 36,
   "id": "73037efc-f1f0-4177-8488-c224fbc0f987",
   "metadata": {},
   "outputs": [
    {
     "data": {
      "text/plain": [
       "Country         1\n",
       "Country Code    1\n",
       "dtype: int64"
      ]
     },
     "execution_count": 36,
     "metadata": {},
     "output_type": "execute_result"
    }
   ],
   "source": [
    "df[['Country', 'Country Code']].isna().sum()"
   ]
  },
  {
   "cell_type": "markdown",
   "id": "565249b7-0830-4b01-9484-c884a7e1d121",
   "metadata": {},
   "source": [
    "* Check for missing values in Country and Country Code columns"
   ]
  },
  {
   "cell_type": "code",
   "execution_count": 37,
   "id": "fdc4cd2a-ac6d-4012-81f9-385f753e9ed6",
   "metadata": {},
   "outputs": [
    {
     "data": {
      "text/html": [
       "<div>\n",
       "<style scoped>\n",
       "    .dataframe tbody tr th:only-of-type {\n",
       "        vertical-align: middle;\n",
       "    }\n",
       "\n",
       "    .dataframe tbody tr th {\n",
       "        vertical-align: top;\n",
       "    }\n",
       "\n",
       "    .dataframe thead th {\n",
       "        text-align: right;\n",
       "    }\n",
       "</style>\n",
       "<table border=\"1\" class=\"dataframe\">\n",
       "  <thead>\n",
       "    <tr style=\"text-align: right;\">\n",
       "      <th></th>\n",
       "      <th>StartTime</th>\n",
       "      <th>Dur</th>\n",
       "      <th>Proto</th>\n",
       "      <th>SrcAddr</th>\n",
       "      <th>Sport</th>\n",
       "      <th>Dir</th>\n",
       "      <th>DstAddr</th>\n",
       "      <th>Dport</th>\n",
       "      <th>State</th>\n",
       "      <th>sTos</th>\n",
       "      <th>dTos</th>\n",
       "      <th>TotPkts</th>\n",
       "      <th>TotBytes</th>\n",
       "      <th>SrcBytes</th>\n",
       "      <th>SrcPkts</th>\n",
       "      <th>Country</th>\n",
       "      <th>Country Code</th>\n",
       "    </tr>\n",
       "  </thead>\n",
       "  <tbody>\n",
       "    <tr>\n",
       "      <th>5181</th>\n",
       "      <td>2021/04/29 12:00:53.171291</td>\n",
       "      <td>0.000028</td>\n",
       "      <td>tcp</td>\n",
       "      <td>202.87.175.214</td>\n",
       "      <td>41796</td>\n",
       "      <td>-&gt;</td>\n",
       "      <td>159.65.26.180</td>\n",
       "      <td>692</td>\n",
       "      <td>S_RA</td>\n",
       "      <td>0.0</td>\n",
       "      <td>0.0</td>\n",
       "      <td>2</td>\n",
       "      <td>120</td>\n",
       "      <td>66</td>\n",
       "      <td>1</td>\n",
       "      <td>NaN</td>\n",
       "      <td>NaN</td>\n",
       "    </tr>\n",
       "  </tbody>\n",
       "</table>\n",
       "</div>"
      ],
      "text/plain": [
       "                       StartTime       Dur Proto         SrcAddr  Sport  \\\n",
       "5181  2021/04/29 12:00:53.171291  0.000028   tcp  202.87.175.214  41796   \n",
       "\n",
       "        Dir        DstAddr Dport State  sTos  dTos  TotPkts  TotBytes  \\\n",
       "5181     ->  159.65.26.180   692  S_RA   0.0   0.0        2       120   \n",
       "\n",
       "      SrcBytes  SrcPkts Country Country Code  \n",
       "5181        66        1     NaN          NaN  "
      ]
     },
     "execution_count": 37,
     "metadata": {},
     "output_type": "execute_result"
    }
   ],
   "source": [
    "df[(df['Country'].isna()) | (df['Country Code'].isna())]"
   ]
  },
  {
   "cell_type": "markdown",
   "id": "595bc6ce-ec69-4dad-b17b-a4f5ab4218b4",
   "metadata": {},
   "source": [
    "* Some IP was missing geolocation; Manually looked up IP address. IP located in Australia and country code is AUS\n",
    "ref: https://www.geolocation.com/?ip=202.87.175.214#ipresult \n",
    "* Updating dataframe"
   ]
  },
  {
   "cell_type": "code",
   "execution_count": 38,
   "id": "f6c4d999-8163-458c-abee-2c18ca4c1706",
   "metadata": {},
   "outputs": [],
   "source": [
    "ip_address = '202.87.175.214'\n",
    "df.loc[df['SrcAddr'] == ip_address, 'Country'] = 'Australia'\n",
    "df.loc[df['SrcAddr'] == ip_address, 'Country Code'] = 'AU'"
   ]
  },
  {
   "cell_type": "code",
   "execution_count": 39,
   "id": "406d2af2-12c9-4ac4-93cb-6307da6930a4",
   "metadata": {},
   "outputs": [
    {
     "data": {
      "text/html": [
       "<div>\n",
       "<style scoped>\n",
       "    .dataframe tbody tr th:only-of-type {\n",
       "        vertical-align: middle;\n",
       "    }\n",
       "\n",
       "    .dataframe tbody tr th {\n",
       "        vertical-align: top;\n",
       "    }\n",
       "\n",
       "    .dataframe thead th {\n",
       "        text-align: right;\n",
       "    }\n",
       "</style>\n",
       "<table border=\"1\" class=\"dataframe\">\n",
       "  <thead>\n",
       "    <tr style=\"text-align: right;\">\n",
       "      <th></th>\n",
       "      <th>StartTime</th>\n",
       "      <th>Dur</th>\n",
       "      <th>Proto</th>\n",
       "      <th>SrcAddr</th>\n",
       "      <th>Sport</th>\n",
       "      <th>Dir</th>\n",
       "      <th>DstAddr</th>\n",
       "      <th>Dport</th>\n",
       "      <th>State</th>\n",
       "      <th>sTos</th>\n",
       "      <th>dTos</th>\n",
       "      <th>TotPkts</th>\n",
       "      <th>TotBytes</th>\n",
       "      <th>SrcBytes</th>\n",
       "      <th>SrcPkts</th>\n",
       "      <th>Country</th>\n",
       "      <th>Country Code</th>\n",
       "    </tr>\n",
       "  </thead>\n",
       "  <tbody>\n",
       "  </tbody>\n",
       "</table>\n",
       "</div>"
      ],
      "text/plain": [
       "Empty DataFrame\n",
       "Columns: [StartTime, Dur, Proto, SrcAddr, Sport, Dir, DstAddr, Dport, State, sTos, dTos, TotPkts, TotBytes, SrcBytes, SrcPkts, Country, Country Code]\n",
       "Index: []"
      ]
     },
     "execution_count": 39,
     "metadata": {},
     "output_type": "execute_result"
    }
   ],
   "source": [
    "df[(df['Country'].isna()) | (df['Country Code'].isna())]"
   ]
  },
  {
   "cell_type": "code",
   "execution_count": 40,
   "id": "8265269c-4f67-4846-9331-71735327511f",
   "metadata": {},
   "outputs": [
    {
     "data": {
      "text/plain": [
       "(130605, 17)"
      ]
     },
     "execution_count": 40,
     "metadata": {},
     "output_type": "execute_result"
    }
   ],
   "source": [
    "df.shape"
   ]
  },
  {
   "cell_type": "code",
   "execution_count": 41,
   "id": "93aeabf8-8f14-477f-ba9a-2799b1d3b8b0",
   "metadata": {},
   "outputs": [
    {
     "data": {
      "text/html": [
       "<div>\n",
       "<style scoped>\n",
       "    .dataframe tbody tr th:only-of-type {\n",
       "        vertical-align: middle;\n",
       "    }\n",
       "\n",
       "    .dataframe tbody tr th {\n",
       "        vertical-align: top;\n",
       "    }\n",
       "\n",
       "    .dataframe thead th {\n",
       "        text-align: right;\n",
       "    }\n",
       "</style>\n",
       "<table border=\"1\" class=\"dataframe\">\n",
       "  <thead>\n",
       "    <tr style=\"text-align: right;\">\n",
       "      <th></th>\n",
       "      <th>StartTime</th>\n",
       "      <th>Dur</th>\n",
       "      <th>Proto</th>\n",
       "      <th>SrcAddr</th>\n",
       "      <th>Sport</th>\n",
       "      <th>Dir</th>\n",
       "      <th>DstAddr</th>\n",
       "      <th>Dport</th>\n",
       "      <th>State</th>\n",
       "      <th>sTos</th>\n",
       "      <th>dTos</th>\n",
       "      <th>TotPkts</th>\n",
       "      <th>TotBytes</th>\n",
       "      <th>SrcBytes</th>\n",
       "      <th>SrcPkts</th>\n",
       "      <th>Country</th>\n",
       "      <th>Country Code</th>\n",
       "    </tr>\n",
       "  </thead>\n",
       "  <tbody>\n",
       "    <tr>\n",
       "      <th>0</th>\n",
       "      <td>2021/04/29 02:00:00.000000</td>\n",
       "      <td>1590.057495</td>\n",
       "      <td>arp</td>\n",
       "      <td>159.65.16.1</td>\n",
       "      <td>NaN</td>\n",
       "      <td>who</td>\n",
       "      <td>159.65.26.180</td>\n",
       "      <td>NaN</td>\n",
       "      <td>CON</td>\n",
       "      <td>NaN</td>\n",
       "      <td>NaN</td>\n",
       "      <td>4</td>\n",
       "      <td>206</td>\n",
       "      <td>121</td>\n",
       "      <td>2</td>\n",
       "      <td>United Kingdom</td>\n",
       "      <td>GB</td>\n",
       "    </tr>\n",
       "    <tr>\n",
       "      <th>1</th>\n",
       "      <td>2021/04/29 02:00:03.763696</td>\n",
       "      <td>0.000045</td>\n",
       "      <td>udp</td>\n",
       "      <td>109.248.203.193</td>\n",
       "      <td>36758</td>\n",
       "      <td>-&gt;</td>\n",
       "      <td>159.65.26.180</td>\n",
       "      <td>3702</td>\n",
       "      <td>INT</td>\n",
       "      <td>0.0</td>\n",
       "      <td>NaN</td>\n",
       "      <td>1</td>\n",
       "      <td>56</td>\n",
       "      <td>56</td>\n",
       "      <td>1</td>\n",
       "      <td>Russian Federation</td>\n",
       "      <td>RU</td>\n",
       "    </tr>\n",
       "    <tr>\n",
       "      <th>2</th>\n",
       "      <td>2021/04/29 02:00:14.147422</td>\n",
       "      <td>0.132838</td>\n",
       "      <td>tcp</td>\n",
       "      <td>109.234.153.131</td>\n",
       "      <td>54413</td>\n",
       "      <td>-&gt;</td>\n",
       "      <td>159.65.26.180</td>\n",
       "      <td>3128</td>\n",
       "      <td>SR_RA</td>\n",
       "      <td>0.0</td>\n",
       "      <td>0.0</td>\n",
       "      <td>3</td>\n",
       "      <td>166</td>\n",
       "      <td>112</td>\n",
       "      <td>2</td>\n",
       "      <td>Russian Federation</td>\n",
       "      <td>RU</td>\n",
       "    </tr>\n",
       "  </tbody>\n",
       "</table>\n",
       "</div>"
      ],
      "text/plain": [
       "                    StartTime          Dur Proto          SrcAddr  Sport  \\\n",
       "0  2021/04/29 02:00:00.000000  1590.057495   arp      159.65.16.1    NaN   \n",
       "1  2021/04/29 02:00:03.763696     0.000045   udp  109.248.203.193  36758   \n",
       "2  2021/04/29 02:00:14.147422     0.132838   tcp  109.234.153.131  54413   \n",
       "\n",
       "     Dir        DstAddr Dport  State  sTos  dTos  TotPkts  TotBytes  SrcBytes  \\\n",
       "0    who  159.65.26.180   NaN    CON   NaN   NaN        4       206       121   \n",
       "1     ->  159.65.26.180  3702    INT   0.0   NaN        1        56        56   \n",
       "2     ->  159.65.26.180  3128  SR_RA   0.0   0.0        3       166       112   \n",
       "\n",
       "   SrcPkts             Country Country Code  \n",
       "0        2      United Kingdom           GB  \n",
       "1        1  Russian Federation           RU  \n",
       "2        2  Russian Federation           RU  "
      ]
     },
     "execution_count": 41,
     "metadata": {},
     "output_type": "execute_result"
    }
   ],
   "source": [
    "df.head(3)"
   ]
  },
  {
   "cell_type": "markdown",
   "id": "ab17fc16-7c6e-41e4-98a3-0c547e43d7b7",
   "metadata": {},
   "source": [
    "#### Split timestamp column to : weekday, and hour.Add new columns to df\n",
    "\n",
    "`StartTime format : 2021/04/29 02:00:00.000000`"
   ]
  },
  {
   "cell_type": "code",
   "execution_count": 42,
   "id": "f1e6ca20-ed6a-471d-945c-acbc14980bc9",
   "metadata": {},
   "outputs": [],
   "source": [
    "df[\"StartTime\"] = pd.to_datetime(df[\"StartTime\"])\n",
    "df[\"Weekday\"] = df[\"StartTime\"].dt.day_name() \n",
    "df[\"Hour\"] = df[\"StartTime\"].dt.hour"
   ]
  },
  {
   "cell_type": "code",
   "execution_count": 43,
   "id": "a5ec6190-a8e2-4e71-ab99-358e66938977",
   "metadata": {},
   "outputs": [
    {
     "data": {
      "text/html": [
       "<div>\n",
       "<style scoped>\n",
       "    .dataframe tbody tr th:only-of-type {\n",
       "        vertical-align: middle;\n",
       "    }\n",
       "\n",
       "    .dataframe tbody tr th {\n",
       "        vertical-align: top;\n",
       "    }\n",
       "\n",
       "    .dataframe thead th {\n",
       "        text-align: right;\n",
       "    }\n",
       "</style>\n",
       "<table border=\"1\" class=\"dataframe\">\n",
       "  <thead>\n",
       "    <tr style=\"text-align: right;\">\n",
       "      <th></th>\n",
       "      <th>StartTime</th>\n",
       "      <th>Dur</th>\n",
       "      <th>Proto</th>\n",
       "      <th>SrcAddr</th>\n",
       "      <th>Sport</th>\n",
       "      <th>Dir</th>\n",
       "      <th>DstAddr</th>\n",
       "      <th>Dport</th>\n",
       "      <th>State</th>\n",
       "      <th>sTos</th>\n",
       "      <th>dTos</th>\n",
       "      <th>TotPkts</th>\n",
       "      <th>TotBytes</th>\n",
       "      <th>SrcBytes</th>\n",
       "      <th>SrcPkts</th>\n",
       "      <th>Country</th>\n",
       "      <th>Country Code</th>\n",
       "      <th>Weekday</th>\n",
       "      <th>Hour</th>\n",
       "    </tr>\n",
       "  </thead>\n",
       "  <tbody>\n",
       "    <tr>\n",
       "      <th>0</th>\n",
       "      <td>2021-04-29 02:00:00.000000</td>\n",
       "      <td>1590.057495</td>\n",
       "      <td>arp</td>\n",
       "      <td>159.65.16.1</td>\n",
       "      <td>NaN</td>\n",
       "      <td>who</td>\n",
       "      <td>159.65.26.180</td>\n",
       "      <td>NaN</td>\n",
       "      <td>CON</td>\n",
       "      <td>NaN</td>\n",
       "      <td>NaN</td>\n",
       "      <td>4</td>\n",
       "      <td>206</td>\n",
       "      <td>121</td>\n",
       "      <td>2</td>\n",
       "      <td>United Kingdom</td>\n",
       "      <td>GB</td>\n",
       "      <td>Thursday</td>\n",
       "      <td>2</td>\n",
       "    </tr>\n",
       "    <tr>\n",
       "      <th>1</th>\n",
       "      <td>2021-04-29 02:00:03.763696</td>\n",
       "      <td>0.000045</td>\n",
       "      <td>udp</td>\n",
       "      <td>109.248.203.193</td>\n",
       "      <td>36758</td>\n",
       "      <td>-&gt;</td>\n",
       "      <td>159.65.26.180</td>\n",
       "      <td>3702</td>\n",
       "      <td>INT</td>\n",
       "      <td>0.0</td>\n",
       "      <td>NaN</td>\n",
       "      <td>1</td>\n",
       "      <td>56</td>\n",
       "      <td>56</td>\n",
       "      <td>1</td>\n",
       "      <td>Russian Federation</td>\n",
       "      <td>RU</td>\n",
       "      <td>Thursday</td>\n",
       "      <td>2</td>\n",
       "    </tr>\n",
       "    <tr>\n",
       "      <th>2</th>\n",
       "      <td>2021-04-29 02:00:14.147422</td>\n",
       "      <td>0.132838</td>\n",
       "      <td>tcp</td>\n",
       "      <td>109.234.153.131</td>\n",
       "      <td>54413</td>\n",
       "      <td>-&gt;</td>\n",
       "      <td>159.65.26.180</td>\n",
       "      <td>3128</td>\n",
       "      <td>SR_RA</td>\n",
       "      <td>0.0</td>\n",
       "      <td>0.0</td>\n",
       "      <td>3</td>\n",
       "      <td>166</td>\n",
       "      <td>112</td>\n",
       "      <td>2</td>\n",
       "      <td>Russian Federation</td>\n",
       "      <td>RU</td>\n",
       "      <td>Thursday</td>\n",
       "      <td>2</td>\n",
       "    </tr>\n",
       "  </tbody>\n",
       "</table>\n",
       "</div>"
      ],
      "text/plain": [
       "                   StartTime          Dur Proto          SrcAddr  Sport  \\\n",
       "0 2021-04-29 02:00:00.000000  1590.057495   arp      159.65.16.1    NaN   \n",
       "1 2021-04-29 02:00:03.763696     0.000045   udp  109.248.203.193  36758   \n",
       "2 2021-04-29 02:00:14.147422     0.132838   tcp  109.234.153.131  54413   \n",
       "\n",
       "     Dir        DstAddr Dport  State  sTos  dTos  TotPkts  TotBytes  SrcBytes  \\\n",
       "0    who  159.65.26.180   NaN    CON   NaN   NaN        4       206       121   \n",
       "1     ->  159.65.26.180  3702    INT   0.0   NaN        1        56        56   \n",
       "2     ->  159.65.26.180  3128  SR_RA   0.0   0.0        3       166       112   \n",
       "\n",
       "   SrcPkts             Country Country Code   Weekday  Hour  \n",
       "0        2      United Kingdom           GB  Thursday     2  \n",
       "1        1  Russian Federation           RU  Thursday     2  \n",
       "2        2  Russian Federation           RU  Thursday     2  "
      ]
     },
     "execution_count": 43,
     "metadata": {},
     "output_type": "execute_result"
    }
   ],
   "source": [
    "df.head(3)"
   ]
  },
  {
   "cell_type": "markdown",
   "id": "6e4ce7d1-5c99-479c-b0b4-c3628936d848",
   "metadata": {
    "tags": []
   },
   "source": [
    "#### Dropping features that are not important  for predicting the frequency of attacks to honeypot:\n",
    "In the context of our research question, the target variable would be the frequency of attacks on the honeypots based in London. This is the variable that we want to predict using the other variables (country of origin and time of day). The other variables are the predictors or independent variables. "
   ]
  },
  {
   "cell_type": "code",
   "execution_count": 44,
   "id": "69ce0392-a559-42cf-a96b-eaabadf4dade",
   "metadata": {},
   "outputs": [
    {
     "data": {
      "text/plain": [
       "Index(['StartTime', 'Dur', 'Proto', 'SrcAddr', 'Sport', 'Dir', 'DstAddr',\n",
       "       'Dport', 'State', 'sTos', 'dTos', 'TotPkts', 'TotBytes', 'SrcBytes',\n",
       "       'SrcPkts', 'Country', 'Country Code', 'Weekday', 'Hour'],\n",
       "      dtype='object')"
      ]
     },
     "execution_count": 44,
     "metadata": {},
     "output_type": "execute_result"
    }
   ],
   "source": [
    "df.columns"
   ]
  },
  {
   "cell_type": "code",
   "execution_count": 45,
   "id": "bc649041-5878-4d13-a667-70736fbd6ec0",
   "metadata": {},
   "outputs": [
    {
     "data": {
      "text/plain": [
       "S_RA         63419\n",
       "SR_RA        52377\n",
       "INT           6413\n",
       "ECO           6255\n",
       "SA_R           657\n",
       "CON            486\n",
       "SEC_RA         141\n",
       "TXD            137\n",
       "_              132\n",
       "S_             102\n",
       "URHPRO          94\n",
       "URH             83\n",
       "A_R             50\n",
       "R_A             48\n",
       "R_              47\n",
       "SR_SA           31\n",
       "SRA_RA          25\n",
       "FSPA_FSPA       21\n",
       "URP             17\n",
       "RA_             11\n",
       "URN             11\n",
       "FSA_FSPA        11\n",
       "SAE_R            6\n",
       "URO              6\n",
       "S_SA             6\n",
       "FSRA_RA          2\n",
       "SR_              2\n",
       "URFIL            2\n",
       "FSPA_SRPA        2\n",
       "SRPA_RA          2\n",
       "SRA_SA           1\n",
       "FSRA_SPA         1\n",
       "SRA_SRA          1\n",
       "SAC_R            1\n",
       "SRPA_FSPA        1\n",
       "SREC_SAE         1\n",
       "SA_              1\n",
       "A_               1\n",
       "SRC              1\n",
       "Name: State, dtype: int64"
      ]
     },
     "execution_count": 45,
     "metadata": {},
     "output_type": "execute_result"
    }
   ],
   "source": [
    "df[\"State\"].value_counts()"
   ]
  },
  {
   "cell_type": "markdown",
   "id": "6a098abb-f037-48fd-8fe8-b91424247c9e",
   "metadata": {},
   "source": [
    "`Dir`: The direction is not relevant since they honeypots are passive and  the attacks are always inbound <br>\n"
   ]
  },
  {
   "cell_type": "code",
   "execution_count": 46,
   "id": "2e84a88a-0925-4482-b6ef-7a755dcac5a0",
   "metadata": {},
   "outputs": [
    {
     "data": {
      "text/plain": [
       "array(['  who', '   ->', '  <->', '   ?>', '  <?>', '  <?'], dtype=object)"
      ]
     },
     "execution_count": 46,
     "metadata": {},
     "output_type": "execute_result"
    }
   ],
   "source": [
    "df['Dir'].unique()"
   ]
  },
  {
   "cell_type": "markdown",
   "id": "24111d41-eed9-4fb6-acc6-2429984593af",
   "metadata": {},
   "source": [
    "`sTos`, `dTos`: these colums dont provide any useful information for our reserach problem"
   ]
  },
  {
   "cell_type": "code",
   "execution_count": 47,
   "id": "7e693e5e-e03c-4612-a166-4712fce1c246",
   "metadata": {},
   "outputs": [
    {
     "data": {
      "text/html": [
       "<div>\n",
       "<style scoped>\n",
       "    .dataframe tbody tr th:only-of-type {\n",
       "        vertical-align: middle;\n",
       "    }\n",
       "\n",
       "    .dataframe tbody tr th {\n",
       "        vertical-align: top;\n",
       "    }\n",
       "\n",
       "    .dataframe thead th {\n",
       "        text-align: right;\n",
       "    }\n",
       "</style>\n",
       "<table border=\"1\" class=\"dataframe\">\n",
       "  <thead>\n",
       "    <tr style=\"text-align: right;\">\n",
       "      <th></th>\n",
       "      <th>sTos</th>\n",
       "      <th>dTos</th>\n",
       "    </tr>\n",
       "  </thead>\n",
       "  <tbody>\n",
       "    <tr>\n",
       "      <th>0</th>\n",
       "      <td>NaN</td>\n",
       "      <td>NaN</td>\n",
       "    </tr>\n",
       "    <tr>\n",
       "      <th>1</th>\n",
       "      <td>0.0</td>\n",
       "      <td>NaN</td>\n",
       "    </tr>\n",
       "    <tr>\n",
       "      <th>2</th>\n",
       "      <td>0.0</td>\n",
       "      <td>0.0</td>\n",
       "    </tr>\n",
       "    <tr>\n",
       "      <th>3</th>\n",
       "      <td>0.0</td>\n",
       "      <td>0.0</td>\n",
       "    </tr>\n",
       "    <tr>\n",
       "      <th>4</th>\n",
       "      <td>0.0</td>\n",
       "      <td>0.0</td>\n",
       "    </tr>\n",
       "    <tr>\n",
       "      <th>...</th>\n",
       "      <td>...</td>\n",
       "      <td>...</td>\n",
       "    </tr>\n",
       "    <tr>\n",
       "      <th>130600</th>\n",
       "      <td>0.0</td>\n",
       "      <td>0.0</td>\n",
       "    </tr>\n",
       "    <tr>\n",
       "      <th>130601</th>\n",
       "      <td>0.0</td>\n",
       "      <td>0.0</td>\n",
       "    </tr>\n",
       "    <tr>\n",
       "      <th>130602</th>\n",
       "      <td>0.0</td>\n",
       "      <td>0.0</td>\n",
       "    </tr>\n",
       "    <tr>\n",
       "      <th>130603</th>\n",
       "      <td>0.0</td>\n",
       "      <td>0.0</td>\n",
       "    </tr>\n",
       "    <tr>\n",
       "      <th>130604</th>\n",
       "      <td>0.0</td>\n",
       "      <td>0.0</td>\n",
       "    </tr>\n",
       "  </tbody>\n",
       "</table>\n",
       "<p>130605 rows × 2 columns</p>\n",
       "</div>"
      ],
      "text/plain": [
       "        sTos  dTos\n",
       "0        NaN   NaN\n",
       "1        0.0   NaN\n",
       "2        0.0   0.0\n",
       "3        0.0   0.0\n",
       "4        0.0   0.0\n",
       "...      ...   ...\n",
       "130600   0.0   0.0\n",
       "130601   0.0   0.0\n",
       "130602   0.0   0.0\n",
       "130603   0.0   0.0\n",
       "130604   0.0   0.0\n",
       "\n",
       "[130605 rows x 2 columns]"
      ]
     },
     "execution_count": 47,
     "metadata": {},
     "output_type": "execute_result"
    }
   ],
   "source": [
    "df[['sTos', 'dTos']]"
   ]
  },
  {
   "cell_type": "markdown",
   "id": "4cbba09f-d234-45b5-846c-64ff18641eb2",
   "metadata": {},
   "source": [
    "`Sport` and `Dport` columns as they represent the source and destination ports respectively,and wont be relevant for our analysis. "
   ]
  },
  {
   "cell_type": "code",
   "execution_count": 48,
   "id": "b915d788-c930-417e-a5a9-fec0ab363f7e",
   "metadata": {},
   "outputs": [
    {
     "data": {
      "text/html": [
       "<div>\n",
       "<style scoped>\n",
       "    .dataframe tbody tr th:only-of-type {\n",
       "        vertical-align: middle;\n",
       "    }\n",
       "\n",
       "    .dataframe tbody tr th {\n",
       "        vertical-align: top;\n",
       "    }\n",
       "\n",
       "    .dataframe thead th {\n",
       "        text-align: right;\n",
       "    }\n",
       "</style>\n",
       "<table border=\"1\" class=\"dataframe\">\n",
       "  <thead>\n",
       "    <tr style=\"text-align: right;\">\n",
       "      <th></th>\n",
       "      <th>Sport</th>\n",
       "      <th>Dport</th>\n",
       "    </tr>\n",
       "  </thead>\n",
       "  <tbody>\n",
       "    <tr>\n",
       "      <th>0</th>\n",
       "      <td>NaN</td>\n",
       "      <td>NaN</td>\n",
       "    </tr>\n",
       "    <tr>\n",
       "      <th>1</th>\n",
       "      <td>36758</td>\n",
       "      <td>3702</td>\n",
       "    </tr>\n",
       "    <tr>\n",
       "      <th>2</th>\n",
       "      <td>54413</td>\n",
       "      <td>3128</td>\n",
       "    </tr>\n",
       "    <tr>\n",
       "      <th>3</th>\n",
       "      <td>54413</td>\n",
       "      <td>8080</td>\n",
       "    </tr>\n",
       "    <tr>\n",
       "      <th>4</th>\n",
       "      <td>54413</td>\n",
       "      <td>2174</td>\n",
       "    </tr>\n",
       "  </tbody>\n",
       "</table>\n",
       "</div>"
      ],
      "text/plain": [
       "   Sport Dport\n",
       "0    NaN   NaN\n",
       "1  36758  3702\n",
       "2  54413  3128\n",
       "3  54413  8080\n",
       "4  54413  2174"
      ]
     },
     "execution_count": 48,
     "metadata": {},
     "output_type": "execute_result"
    }
   ],
   "source": [
    "df[['Sport', 'Dport']].head(5)"
   ]
  },
  {
   "cell_type": "markdown",
   "id": "397fac5b-3a68-46c1-abad-d297430737c2",
   "metadata": {},
   "source": [
    "Final list of columns to drop  that are not relevant or redundant for our analysis in the context of our RQ"
   ]
  },
  {
   "cell_type": "code",
   "execution_count": 49,
   "id": "5afee8ff-c6fa-4442-8738-277b1019f6e8",
   "metadata": {},
   "outputs": [],
   "source": [
    "columns_to_drop = ['Dir', 'sTos', 'dTos', 'Sport', 'Dport', 'State']"
   ]
  },
  {
   "cell_type": "code",
   "execution_count": 50,
   "id": "51c6e3e8-56f9-4806-94fd-a20ca046c69e",
   "metadata": {},
   "outputs": [
    {
     "data": {
      "text/html": [
       "<div>\n",
       "<style scoped>\n",
       "    .dataframe tbody tr th:only-of-type {\n",
       "        vertical-align: middle;\n",
       "    }\n",
       "\n",
       "    .dataframe tbody tr th {\n",
       "        vertical-align: top;\n",
       "    }\n",
       "\n",
       "    .dataframe thead th {\n",
       "        text-align: right;\n",
       "    }\n",
       "</style>\n",
       "<table border=\"1\" class=\"dataframe\">\n",
       "  <thead>\n",
       "    <tr style=\"text-align: right;\">\n",
       "      <th></th>\n",
       "      <th>Dir</th>\n",
       "      <th>sTos</th>\n",
       "      <th>dTos</th>\n",
       "      <th>Sport</th>\n",
       "      <th>Dport</th>\n",
       "      <th>State</th>\n",
       "    </tr>\n",
       "  </thead>\n",
       "  <tbody>\n",
       "    <tr>\n",
       "      <th>0</th>\n",
       "      <td>who</td>\n",
       "      <td>NaN</td>\n",
       "      <td>NaN</td>\n",
       "      <td>NaN</td>\n",
       "      <td>NaN</td>\n",
       "      <td>CON</td>\n",
       "    </tr>\n",
       "    <tr>\n",
       "      <th>1</th>\n",
       "      <td>-&gt;</td>\n",
       "      <td>0.0</td>\n",
       "      <td>NaN</td>\n",
       "      <td>36758</td>\n",
       "      <td>3702</td>\n",
       "      <td>INT</td>\n",
       "    </tr>\n",
       "    <tr>\n",
       "      <th>2</th>\n",
       "      <td>-&gt;</td>\n",
       "      <td>0.0</td>\n",
       "      <td>0.0</td>\n",
       "      <td>54413</td>\n",
       "      <td>3128</td>\n",
       "      <td>SR_RA</td>\n",
       "    </tr>\n",
       "    <tr>\n",
       "      <th>3</th>\n",
       "      <td>-&gt;</td>\n",
       "      <td>0.0</td>\n",
       "      <td>0.0</td>\n",
       "      <td>54413</td>\n",
       "      <td>8080</td>\n",
       "      <td>SR_RA</td>\n",
       "    </tr>\n",
       "    <tr>\n",
       "      <th>4</th>\n",
       "      <td>-&gt;</td>\n",
       "      <td>0.0</td>\n",
       "      <td>0.0</td>\n",
       "      <td>54413</td>\n",
       "      <td>2174</td>\n",
       "      <td>SR_RA</td>\n",
       "    </tr>\n",
       "  </tbody>\n",
       "</table>\n",
       "</div>"
      ],
      "text/plain": [
       "     Dir  sTos  dTos  Sport Dport  State\n",
       "0    who   NaN   NaN    NaN   NaN    CON\n",
       "1     ->   0.0   NaN  36758  3702    INT\n",
       "2     ->   0.0   0.0  54413  3128  SR_RA\n",
       "3     ->   0.0   0.0  54413  8080  SR_RA\n",
       "4     ->   0.0   0.0  54413  2174  SR_RA"
      ]
     },
     "execution_count": 50,
     "metadata": {},
     "output_type": "execute_result"
    }
   ],
   "source": [
    "df[columns_to_drop].head(5)"
   ]
  },
  {
   "cell_type": "code",
   "execution_count": 51,
   "id": "146db5a1-2182-4873-a816-7ef64d60d190",
   "metadata": {},
   "outputs": [
    {
     "data": {
      "text/plain": [
       "(130605, 19)"
      ]
     },
     "execution_count": 51,
     "metadata": {},
     "output_type": "execute_result"
    }
   ],
   "source": [
    "# before dropping the columns\n",
    "df.shape "
   ]
  },
  {
   "cell_type": "code",
   "execution_count": 52,
   "id": "624f6f5a-38ef-42df-bc5c-8ad8965afe87",
   "metadata": {},
   "outputs": [],
   "source": [
    "df = df.drop(columns_to_drop, axis=1)"
   ]
  },
  {
   "cell_type": "code",
   "execution_count": 53,
   "id": "d6c6c70a-0ff9-4ae7-b14d-a419c2c52082",
   "metadata": {},
   "outputs": [
    {
     "data": {
      "text/plain": [
       "(130605, 13)"
      ]
     },
     "execution_count": 53,
     "metadata": {},
     "output_type": "execute_result"
    }
   ],
   "source": [
    "df.shape"
   ]
  },
  {
   "cell_type": "code",
   "execution_count": 54,
   "id": "1eba26a7-570a-40f5-a454-7d9b2bc79e4f",
   "metadata": {},
   "outputs": [
    {
     "data": {
      "text/html": [
       "<div>\n",
       "<style scoped>\n",
       "    .dataframe tbody tr th:only-of-type {\n",
       "        vertical-align: middle;\n",
       "    }\n",
       "\n",
       "    .dataframe tbody tr th {\n",
       "        vertical-align: top;\n",
       "    }\n",
       "\n",
       "    .dataframe thead th {\n",
       "        text-align: right;\n",
       "    }\n",
       "</style>\n",
       "<table border=\"1\" class=\"dataframe\">\n",
       "  <thead>\n",
       "    <tr style=\"text-align: right;\">\n",
       "      <th></th>\n",
       "      <th>StartTime</th>\n",
       "      <th>Dur</th>\n",
       "      <th>Proto</th>\n",
       "      <th>SrcAddr</th>\n",
       "      <th>DstAddr</th>\n",
       "      <th>TotPkts</th>\n",
       "      <th>TotBytes</th>\n",
       "      <th>SrcBytes</th>\n",
       "      <th>SrcPkts</th>\n",
       "      <th>Country</th>\n",
       "      <th>Country Code</th>\n",
       "      <th>Weekday</th>\n",
       "      <th>Hour</th>\n",
       "    </tr>\n",
       "  </thead>\n",
       "  <tbody>\n",
       "    <tr>\n",
       "      <th>0</th>\n",
       "      <td>2021-04-29 02:00:00.000000</td>\n",
       "      <td>1590.057495</td>\n",
       "      <td>arp</td>\n",
       "      <td>159.65.16.1</td>\n",
       "      <td>159.65.26.180</td>\n",
       "      <td>4</td>\n",
       "      <td>206</td>\n",
       "      <td>121</td>\n",
       "      <td>2</td>\n",
       "      <td>United Kingdom</td>\n",
       "      <td>GB</td>\n",
       "      <td>Thursday</td>\n",
       "      <td>2</td>\n",
       "    </tr>\n",
       "    <tr>\n",
       "      <th>1</th>\n",
       "      <td>2021-04-29 02:00:03.763696</td>\n",
       "      <td>0.000045</td>\n",
       "      <td>udp</td>\n",
       "      <td>109.248.203.193</td>\n",
       "      <td>159.65.26.180</td>\n",
       "      <td>1</td>\n",
       "      <td>56</td>\n",
       "      <td>56</td>\n",
       "      <td>1</td>\n",
       "      <td>Russian Federation</td>\n",
       "      <td>RU</td>\n",
       "      <td>Thursday</td>\n",
       "      <td>2</td>\n",
       "    </tr>\n",
       "    <tr>\n",
       "      <th>2</th>\n",
       "      <td>2021-04-29 02:00:14.147422</td>\n",
       "      <td>0.132838</td>\n",
       "      <td>tcp</td>\n",
       "      <td>109.234.153.131</td>\n",
       "      <td>159.65.26.180</td>\n",
       "      <td>3</td>\n",
       "      <td>166</td>\n",
       "      <td>112</td>\n",
       "      <td>2</td>\n",
       "      <td>Russian Federation</td>\n",
       "      <td>RU</td>\n",
       "      <td>Thursday</td>\n",
       "      <td>2</td>\n",
       "    </tr>\n",
       "    <tr>\n",
       "      <th>3</th>\n",
       "      <td>2021-04-29 02:00:14.156015</td>\n",
       "      <td>0.121702</td>\n",
       "      <td>tcp</td>\n",
       "      <td>109.234.153.131</td>\n",
       "      <td>159.65.26.180</td>\n",
       "      <td>3</td>\n",
       "      <td>166</td>\n",
       "      <td>112</td>\n",
       "      <td>2</td>\n",
       "      <td>Russian Federation</td>\n",
       "      <td>RU</td>\n",
       "      <td>Thursday</td>\n",
       "      <td>2</td>\n",
       "    </tr>\n",
       "    <tr>\n",
       "      <th>4</th>\n",
       "      <td>2021-04-29 02:00:15.457550</td>\n",
       "      <td>0.062870</td>\n",
       "      <td>tcp</td>\n",
       "      <td>109.234.153.131</td>\n",
       "      <td>159.65.26.180</td>\n",
       "      <td>3</td>\n",
       "      <td>166</td>\n",
       "      <td>112</td>\n",
       "      <td>2</td>\n",
       "      <td>Russian Federation</td>\n",
       "      <td>RU</td>\n",
       "      <td>Thursday</td>\n",
       "      <td>2</td>\n",
       "    </tr>\n",
       "  </tbody>\n",
       "</table>\n",
       "</div>"
      ],
      "text/plain": [
       "                   StartTime          Dur Proto          SrcAddr  \\\n",
       "0 2021-04-29 02:00:00.000000  1590.057495   arp      159.65.16.1   \n",
       "1 2021-04-29 02:00:03.763696     0.000045   udp  109.248.203.193   \n",
       "2 2021-04-29 02:00:14.147422     0.132838   tcp  109.234.153.131   \n",
       "3 2021-04-29 02:00:14.156015     0.121702   tcp  109.234.153.131   \n",
       "4 2021-04-29 02:00:15.457550     0.062870   tcp  109.234.153.131   \n",
       "\n",
       "         DstAddr  TotPkts  TotBytes  SrcBytes  SrcPkts             Country  \\\n",
       "0  159.65.26.180        4       206       121        2      United Kingdom   \n",
       "1  159.65.26.180        1        56        56        1  Russian Federation   \n",
       "2  159.65.26.180        3       166       112        2  Russian Federation   \n",
       "3  159.65.26.180        3       166       112        2  Russian Federation   \n",
       "4  159.65.26.180        3       166       112        2  Russian Federation   \n",
       "\n",
       "  Country Code   Weekday  Hour  \n",
       "0           GB  Thursday     2  \n",
       "1           RU  Thursday     2  \n",
       "2           RU  Thursday     2  \n",
       "3           RU  Thursday     2  \n",
       "4           RU  Thursday     2  "
      ]
     },
     "execution_count": 54,
     "metadata": {},
     "output_type": "execute_result"
    }
   ],
   "source": [
    "# after dropping the columns\n",
    "df.head()"
   ]
  },
  {
   "cell_type": "markdown",
   "id": "ea4c820b-8b40-463b-825a-3e700e1ad2dc",
   "metadata": {
    "tags": []
   },
   "source": [
    "#### Filter out arp traffic\n",
    "`ARP` data could be excluded from the further analysis"
   ]
  },
  {
   "cell_type": "code",
   "execution_count": 55,
   "id": "46fe48d4-4192-43a5-af86-c277b147021f",
   "metadata": {},
   "outputs": [
    {
     "data": {
      "text/plain": [
       "130119"
      ]
     },
     "execution_count": 55,
     "metadata": {},
     "output_type": "execute_result"
    }
   ],
   "source": [
    "filtered_df = df[df['Proto'] != \"arp\"]\n",
    "filtered_df.shape[0]"
   ]
  },
  {
   "cell_type": "code",
   "execution_count": 56,
   "id": "907628a3-b119-40c0-bae3-00114f092825",
   "metadata": {},
   "outputs": [],
   "source": [
    "df = df[df['Proto'] != \"arp\"]"
   ]
  },
  {
   "cell_type": "code",
   "execution_count": 57,
   "id": "523c81f6-e416-41b9-a802-d34e05d0947f",
   "metadata": {},
   "outputs": [
    {
     "data": {
      "text/html": [
       "<div>\n",
       "<style scoped>\n",
       "    .dataframe tbody tr th:only-of-type {\n",
       "        vertical-align: middle;\n",
       "    }\n",
       "\n",
       "    .dataframe tbody tr th {\n",
       "        vertical-align: top;\n",
       "    }\n",
       "\n",
       "    .dataframe thead th {\n",
       "        text-align: right;\n",
       "    }\n",
       "</style>\n",
       "<table border=\"1\" class=\"dataframe\">\n",
       "  <thead>\n",
       "    <tr style=\"text-align: right;\">\n",
       "      <th></th>\n",
       "      <th>StartTime</th>\n",
       "      <th>Dur</th>\n",
       "      <th>Proto</th>\n",
       "      <th>SrcAddr</th>\n",
       "      <th>DstAddr</th>\n",
       "      <th>TotPkts</th>\n",
       "      <th>TotBytes</th>\n",
       "      <th>SrcBytes</th>\n",
       "      <th>SrcPkts</th>\n",
       "      <th>Country</th>\n",
       "      <th>Country Code</th>\n",
       "      <th>Weekday</th>\n",
       "      <th>Hour</th>\n",
       "    </tr>\n",
       "  </thead>\n",
       "  <tbody>\n",
       "  </tbody>\n",
       "</table>\n",
       "</div>"
      ],
      "text/plain": [
       "Empty DataFrame\n",
       "Columns: [StartTime, Dur, Proto, SrcAddr, DstAddr, TotPkts, TotBytes, SrcBytes, SrcPkts, Country, Country Code, Weekday, Hour]\n",
       "Index: []"
      ]
     },
     "execution_count": 57,
     "metadata": {},
     "output_type": "execute_result"
    }
   ],
   "source": [
    "df[df['Proto'] == \"arp\"]"
   ]
  },
  {
   "cell_type": "markdown",
   "id": "19ead4c0-f311-4a26-b900-f0917f56fe32",
   "metadata": {
    "tags": []
   },
   "source": [
    "#### Check and Remove NaN values"
   ]
  },
  {
   "cell_type": "code",
   "execution_count": 58,
   "id": "5918b532-3aef-4199-bff7-9711fa639613",
   "metadata": {},
   "outputs": [
    {
     "data": {
      "text/plain": [
       "False"
      ]
     },
     "execution_count": 58,
     "metadata": {},
     "output_type": "execute_result"
    }
   ],
   "source": [
    "df.isnull().values.any()"
   ]
  },
  {
   "cell_type": "code",
   "execution_count": 59,
   "id": "9b3b34f9-c48e-489a-9e0e-5fce01efb79c",
   "metadata": {},
   "outputs": [],
   "source": [
    "df = df.dropna()"
   ]
  },
  {
   "cell_type": "markdown",
   "id": "9e2304a4-5b31-4512-8de7-1ac6c378247b",
   "metadata": {
    "tags": []
   },
   "source": [
    "# EDA ( Exploratory Data Analysis )  "
   ]
  },
  {
   "cell_type": "markdown",
   "id": "428a8554-e9df-4e1c-beda-7fc8324f0a87",
   "metadata": {
    "tags": []
   },
   "source": [
    "### Methodology\n",
    "\n",
    "Analysis performed using the following methods:\n",
    "\n",
    "#### Univariate Analysis: \n",
    "\n",
    "Descriptive statistics and data visualization used for categorical data analysis \n",
    "\n",
    "Counting the frequency of unique values in each categorical variable to understand distribution and prevalence \n",
    "\n",
    "Visualizations using bar charts and histograms\n",
    "\n",
    "Range of statistical measures used for numerical data analysis \n",
    "\n",
    "Mean and median employed to gain insight into the shape of the distribution \n",
    "\n",
    "Skewness of the distribution calculated \n",
    "\n",
    "Histograms with logarithmic scaling used to visualize distribution of data points \n",
    "\n",
    "#### Bivariate Analysis: \n",
    "\n",
    "Relationships between variables explored \n",
    "\n",
    "Pearson's correlation coefficient used to examine the correlation between pairs of variables \n",
    "\n",
    "Scatterplots and heatmaps used to visualize the results"
   ]
  },
  {
   "cell_type": "markdown",
   "id": "0e9b3000-28ab-49a6-a7cb-eeb3cc9bceb5",
   "metadata": {
    "tags": []
   },
   "source": [
    "#### Univariate analysis of categorical variables"
   ]
  },
  {
   "cell_type": "code",
   "execution_count": 60,
   "id": "0a31fbcf-951c-4102-bc6b-a6179c616980",
   "metadata": {},
   "outputs": [
    {
     "data": {
      "text/plain": [
       "StartTime       datetime64[ns]\n",
       "Dur                    float64\n",
       "Proto                   object\n",
       "SrcAddr                 object\n",
       "DstAddr                 object\n",
       "TotPkts                  int64\n",
       "TotBytes                 int64\n",
       "SrcBytes                 int64\n",
       "SrcPkts                  int64\n",
       "Country                 object\n",
       "Country Code            object\n",
       "Weekday                 object\n",
       "Hour                     int64\n",
       "dtype: object"
      ]
     },
     "execution_count": 60,
     "metadata": {},
     "output_type": "execute_result"
    }
   ],
   "source": [
    "df.dtypes"
   ]
  },
  {
   "cell_type": "markdown",
   "id": "397b0bec-903f-4d23-bbc3-64b9737639d8",
   "metadata": {},
   "source": [
    "**Objectives of these exploration**<br>\n",
    "The mode is a measure of central tendency in statistics that refers to the most frequently occurring value in a dataset. In the context of categorical features, the mode represents the most common value or category in a feature. The mode can help us to answer these questions:\n",
    "\n",
    "- We want to know which countries are most frequently attacking honeypots, the mode of the `Country` or `Country Code` columns can give us a starting point.\n",
    "\n",
    "- We are also interested in understanding the most common attack protocols used in your honeypots, the mode of the `Proto` column can give us a quick insight into this.\n",
    "\n",
    "- Finally, we want to know which weekdays or hours are most frequently targeted by attackers, the mode of the `Weekday` and `Hour` columns respectively gives us a quick insight.<br>\n"
   ]
  },
  {
   "cell_type": "code",
   "execution_count": 61,
   "id": "774db80a-e8fd-4579-98ed-c44569488e9b",
   "metadata": {},
   "outputs": [],
   "source": [
    "categorical_features_df = df.select_dtypes(include=[object])"
   ]
  },
  {
   "cell_type": "code",
   "execution_count": 62,
   "id": "ce992826-d0f2-4f7f-8c6d-017f14f55e80",
   "metadata": {},
   "outputs": [],
   "source": [
    "combined_df = pd.concat([categorical_features_df, df[\"Hour\"]], axis=1)"
   ]
  },
  {
   "cell_type": "markdown",
   "id": "306200c0-a13c-4447-928c-88e12dbf5e87",
   "metadata": {},
   "source": [
    "**Results**\n",
    "\n",
    "In our case, the mode is United States with the country code \"US\", indicating that most attacks originate from the US.<br>\n",
    "The mode  \"tcp\", indicating that TCP is the most common protocol used in attacks.<br>\n",
    "And the mode of the \"Weekday\" column is \"Friday\" and the mode of the \"Hour\" column is \"4\", indicating that attacks are most frequently happening on Fridays and during the 4 AM"
   ]
  },
  {
   "cell_type": "code",
   "execution_count": 63,
   "id": "011e6377-db3e-44b8-a139-9ce271dbc0b6",
   "metadata": {},
   "outputs": [
    {
     "name": "stdout",
     "output_type": "stream",
     "text": [
      "PROTO\n",
      "tcp\n",
      "--------------------------------------------------\n",
      "SRCADDR\n",
      "45.143.200.34\n",
      "--------------------------------------------------\n",
      "DSTADDR\n",
      "159.65.26.180\n",
      "--------------------------------------------------\n",
      "COUNTRY\n",
      "United States\n",
      "--------------------------------------------------\n",
      "COUNTRY CODE\n",
      "US\n",
      "--------------------------------------------------\n",
      "WEEKDAY\n",
      "Friday\n",
      "--------------------------------------------------\n",
      "HOUR\n",
      "4\n",
      "--------------------------------------------------\n"
     ]
    }
   ],
   "source": [
    "for col in combined_df:\n",
    "    print(col.upper())\n",
    "    print(combined_df[col].mode().to_string(index=False))\n",
    "    print('-' * 50)"
   ]
  },
  {
   "cell_type": "markdown",
   "id": "ab28febf-fbbf-4e5d-bbb9-03024c02c8bf",
   "metadata": {
    "tags": []
   },
   "source": [
    "### What are the distribution and percentages of attacks across different hours of the day?"
   ]
  },
  {
   "cell_type": "code",
   "execution_count": 64,
   "id": "44736b56-0a3b-45dc-b837-17f63270b0cd",
   "metadata": {},
   "outputs": [],
   "source": [
    "hour_counts = df['Hour'].value_counts()"
   ]
  },
  {
   "cell_type": "code",
   "execution_count": 65,
   "id": "f5f4706e-4ff3-42bf-9f4a-b05f2a6b71bb",
   "metadata": {},
   "outputs": [
    {
     "data": {
      "text/plain": [
       "4     6372\n",
       "9     6183\n",
       "0     5802\n",
       "14    5793\n",
       "15    5703\n",
       "18    5552\n",
       "13    5502\n",
       "1     5463\n",
       "16    5435\n",
       "19    5397\n",
       "22    5388\n",
       "21    5323\n",
       "12    5315\n",
       "2     5311\n",
       "6     5296\n",
       "20    5270\n",
       "10    5254\n",
       "3     5193\n",
       "23    5193\n",
       "5     5190\n",
       "17    5123\n",
       "11    5104\n",
       "7     5052\n",
       "8     4905\n",
       "Name: Hour, dtype: int64"
      ]
     },
     "execution_count": 65,
     "metadata": {},
     "output_type": "execute_result"
    }
   ],
   "source": [
    "hour_counts"
   ]
  },
  {
   "cell_type": "code",
   "execution_count": 66,
   "id": "6c0bacf7-2d8d-48d9-859b-905b4d0bb469",
   "metadata": {},
   "outputs": [
    {
     "data": {
      "text/plain": [
       "4     6372\n",
       "9     6183\n",
       "0     5802\n",
       "14    5793\n",
       "15    5703\n",
       "18    5552\n",
       "13    5502\n",
       "1     5463\n",
       "16    5435\n",
       "19    5397\n",
       "22    5388\n",
       "21    5323\n",
       "12    5315\n",
       "2     5311\n",
       "6     5296\n",
       "20    5270\n",
       "10    5254\n",
       "3     5193\n",
       "23    5193\n",
       "5     5190\n",
       "17    5123\n",
       "11    5104\n",
       "7     5052\n",
       "8     4905\n",
       "Name: Hour, dtype: int64"
      ]
     },
     "execution_count": 66,
     "metadata": {},
     "output_type": "execute_result"
    }
   ],
   "source": [
    "hour_counts.sort_values(ascending=False)"
   ]
  },
  {
   "cell_type": "code",
   "execution_count": 67,
   "id": "b3f39b31-8fdd-4836-8c52-87af3d2011fc",
   "metadata": {},
   "outputs": [
    {
     "data": {
      "text/plain": [
       "4     0.048971\n",
       "9     0.047518\n",
       "0     0.044590\n",
       "14    0.044521\n",
       "15    0.043829\n",
       "18    0.042669\n",
       "13    0.042284\n",
       "1     0.041985\n",
       "16    0.041769\n",
       "19    0.041477\n",
       "22    0.041408\n",
       "21    0.040909\n",
       "12    0.040847\n",
       "2     0.040816\n",
       "6     0.040701\n",
       "20    0.040501\n",
       "10    0.040378\n",
       "3     0.039910\n",
       "23    0.039910\n",
       "5     0.039887\n",
       "17    0.039372\n",
       "11    0.039226\n",
       "7     0.038826\n",
       "8     0.037696\n",
       "Name: Hour, dtype: float64"
      ]
     },
     "execution_count": 67,
     "metadata": {},
     "output_type": "execute_result"
    }
   ],
   "source": [
    "hour_percentages = df['Hour'].value_counts(normalize=True)\n",
    "hour_percentages.sort_values(ascending=False)"
   ]
  },
  {
   "cell_type": "markdown",
   "id": "d2b7177a-8a4d-4a87-a056-380b20c7dbba",
   "metadata": {},
   "source": [
    "Based on the sorted frequency count of attacks by hour, we can see that the majority of attacks occurred between 12 am and 7 am, with the highest number of attacks occurring at 4 am and 9 am. On the other hand, the lowest number of attacks occurs during between 7AM and 8 AM, indicating that attackers are less active during the morning rush hour. \n",
    "\n",
    "However, it is important to note that this analysis only takes into account the time of the day and does not consider other factors that might influence the frequency of attacks. Factors that could potentially affect the frequency of attacks on honeypots based in London could include the country of attack origin of the , the time of day, the day of the week;"
   ]
  },
  {
   "cell_type": "code",
   "execution_count": 68,
   "id": "8159e771-051f-4936-b3ec-2b1359124752",
   "metadata": {},
   "outputs": [
    {
     "data": {
      "image/png": "[encoded data removed]",
      "text/plain": [
       "<Figure size 640x480 with 1 Axes>"
      ]
     },
     "metadata": {},
     "output_type": "display_data"
    }
   ],
   "source": [
    "plt.bar(hour_counts.index, hour_counts.values, color=\"#bc5090\")\n",
    "\n",
    "plt.xlabel('Hour of the day')\n",
    "plt.ylabel('Frequency')\n",
    "plt.title('Distribution of attacks by hour')\n",
    "plt.xticks(range(0, 24))\n",
    "\n",
    "\n",
    "for spine in plt.gca().spines.values():\n",
    "    spine.set_visible(False)\n",
    "\n",
    "plt.show()\n",
    "#plt.savefig('distribution of attacks per hour.png', dpi=300,transparent=True)"
   ]
  },
  {
   "cell_type": "markdown",
   "id": "272cbc1c-d719-47d1-9767-20b16073dae7",
   "metadata": {
    "tags": []
   },
   "source": [
    "### From which countries top 10 attackers came?\n",
    "We need to understand the distribution of attacks based on the country of origin"
   ]
  },
  {
   "cell_type": "code",
   "execution_count": 69,
   "id": "3aead4a9-992e-45bb-9dbf-b4cab0c8759b",
   "metadata": {},
   "outputs": [],
   "source": [
    "attacker_countries = df['Country Code'].value_counts()"
   ]
  },
  {
   "cell_type": "markdown",
   "id": "a9d426bd-4310-4772-8581-4c35ee299c40",
   "metadata": {},
   "source": [
    "* We have 179 unique countries, for the sake of visualisation we will take only top 10"
   ]
  },
  {
   "cell_type": "code",
   "execution_count": 70,
   "id": "97c506ee-47d2-4da5-afff-fe876a96121e",
   "metadata": {},
   "outputs": [
    {
     "data": {
      "text/plain": [
       "179"
      ]
     },
     "execution_count": 70,
     "metadata": {},
     "output_type": "execute_result"
    }
   ],
   "source": [
    "attacker_countries.count()"
   ]
  },
  {
   "cell_type": "code",
   "execution_count": 71,
   "id": "d3a5d735-ebd5-4a5b-8c87-e15262ef0189",
   "metadata": {},
   "outputs": [],
   "source": [
    "top_10_countries = attacker_countries.nlargest(10)"
   ]
  },
  {
   "cell_type": "code",
   "execution_count": 72,
   "id": "11adcf53-43e5-404c-9f74-3d3d01a6c5cc",
   "metadata": {},
   "outputs": [
    {
     "data": {
      "text/plain": [
       "US    25951\n",
       "RU    24884\n",
       "BG    13109\n",
       "CN    12050\n",
       "NL     7348\n",
       "VN     7196\n",
       "UA     3473\n",
       "IN     3077\n",
       "BR     2960\n",
       "DE     2365\n",
       "Name: Country Code, dtype: int64"
      ]
     },
     "execution_count": 72,
     "metadata": {},
     "output_type": "execute_result"
    }
   ],
   "source": [
    "top_10_countries"
   ]
  },
  {
   "cell_type": "code",
   "execution_count": 73,
   "id": "8ac6ed8e-1e8e-4150-8626-d0e9aec300db",
   "metadata": {},
   "outputs": [],
   "source": [
    "top_attacker_countries_df = pd.DataFrame(list(zip(top_10_countries.index, top_10_countries.values)), columns=['Country', 'Count'])"
   ]
  },
  {
   "cell_type": "code",
   "execution_count": 74,
   "id": "d726584c-548f-4da1-b106-ca4e30efaf18",
   "metadata": {},
   "outputs": [
    {
     "data": {
      "text/html": [
       "<div>\n",
       "<style scoped>\n",
       "    .dataframe tbody tr th:only-of-type {\n",
       "        vertical-align: middle;\n",
       "    }\n",
       "\n",
       "    .dataframe tbody tr th {\n",
       "        vertical-align: top;\n",
       "    }\n",
       "\n",
       "    .dataframe thead th {\n",
       "        text-align: right;\n",
       "    }\n",
       "</style>\n",
       "<table border=\"1\" class=\"dataframe\">\n",
       "  <thead>\n",
       "    <tr style=\"text-align: right;\">\n",
       "      <th></th>\n",
       "      <th>Country</th>\n",
       "      <th>Count</th>\n",
       "    </tr>\n",
       "  </thead>\n",
       "  <tbody>\n",
       "    <tr>\n",
       "      <th>0</th>\n",
       "      <td>US</td>\n",
       "      <td>25951</td>\n",
       "    </tr>\n",
       "    <tr>\n",
       "      <th>1</th>\n",
       "      <td>RU</td>\n",
       "      <td>24884</td>\n",
       "    </tr>\n",
       "    <tr>\n",
       "      <th>2</th>\n",
       "      <td>BG</td>\n",
       "      <td>13109</td>\n",
       "    </tr>\n",
       "    <tr>\n",
       "      <th>3</th>\n",
       "      <td>CN</td>\n",
       "      <td>12050</td>\n",
       "    </tr>\n",
       "    <tr>\n",
       "      <th>4</th>\n",
       "      <td>NL</td>\n",
       "      <td>7348</td>\n",
       "    </tr>\n",
       "    <tr>\n",
       "      <th>5</th>\n",
       "      <td>VN</td>\n",
       "      <td>7196</td>\n",
       "    </tr>\n",
       "    <tr>\n",
       "      <th>6</th>\n",
       "      <td>UA</td>\n",
       "      <td>3473</td>\n",
       "    </tr>\n",
       "    <tr>\n",
       "      <th>7</th>\n",
       "      <td>IN</td>\n",
       "      <td>3077</td>\n",
       "    </tr>\n",
       "    <tr>\n",
       "      <th>8</th>\n",
       "      <td>BR</td>\n",
       "      <td>2960</td>\n",
       "    </tr>\n",
       "    <tr>\n",
       "      <th>9</th>\n",
       "      <td>DE</td>\n",
       "      <td>2365</td>\n",
       "    </tr>\n",
       "  </tbody>\n",
       "</table>\n",
       "</div>"
      ],
      "text/plain": [
       "  Country  Count\n",
       "0      US  25951\n",
       "1      RU  24884\n",
       "2      BG  13109\n",
       "3      CN  12050\n",
       "4      NL   7348\n",
       "5      VN   7196\n",
       "6      UA   3473\n",
       "7      IN   3077\n",
       "8      BR   2960\n",
       "9      DE   2365"
      ]
     },
     "execution_count": 74,
     "metadata": {},
     "output_type": "execute_result"
    }
   ],
   "source": [
    "top_attacker_countries_df"
   ]
  },
  {
   "cell_type": "markdown",
   "id": "7a4cec98-2e0a-42b2-a936-246f5f07f2e2",
   "metadata": {},
   "source": [
    "* Calculate the percentage of attacks by each country "
   ]
  },
  {
   "cell_type": "code",
   "execution_count": 75,
   "id": "2606d724-75fb-4485-87e7-98c92771cacf",
   "metadata": {},
   "outputs": [],
   "source": [
    "top_attacker_countries_df = top_attacker_countries_df.groupby(\"Country\", as_index=False)[\"Count\"].sum()\n",
    "top_attacker_countries_df = top_attacker_countries_df.sort_values('Count', ascending=False)\n",
    "top_attacker_countries_df['Percentage'] = (top_attacker_countries_df['Count'] / top_attacker_countries_df['Count'].sum()) * 100\n",
    "x = top_attacker_countries_df[\"Country\"]\n",
    "y = top_attacker_countries_df[\"Percentage\"]"
   ]
  },
  {
   "cell_type": "code",
   "execution_count": 76,
   "id": "6b005aa5-e4ae-449b-8762-1f1f5b4932a6",
   "metadata": {},
   "outputs": [
    {
     "data": {
      "text/plain": [
       "Text(0.5, 1.0, 'Relative distribution of attacks among the top 10 attacker countries')"
      ]
     },
     "execution_count": 76,
     "metadata": {},
     "output_type": "execute_result"
    },
    {
     "data": {
      "image/png": "[encoded data removed]",
      "text/plain": [
       "<Figure size 1000x800 with 1 Axes>"
      ]
     },
     "metadata": {},
     "output_type": "display_data"
    }
   ],
   "source": [
    "fig, ax = plt.subplots(1, figsize=(10,8))\n",
    "\n",
    "sns.set(style=\"dark\", color_codes=True)\n",
    "pal = sns.color_palette(\"flare\", len(x))\n",
    "rank = y.argsort().argsort() \n",
    "\n",
    "sns.barplot(x=y, y=x, palette=np.array(pal[::-1])[rank], ax=ax)\n",
    "\n",
    "for p in ax.patches:\n",
    "    ax.annotate('{:.1f}%'.format(p.get_width()), (p.get_width()+1, p.get_y()+0.5),\n",
    "                ha='center', va='center',\n",
    "                xytext=(15, 0), textcoords='offset points',\n",
    "                color='black', fontsize=12)\n",
    "\n",
    "ax.set_xlabel('Percentage')\n",
    "ax.set_ylabel('Country')\n",
    "\n",
    "plt.title('Relative distribution of attacks among the top 10 attacker countries')\n",
    "#plt.savefig('relative_distribution_attacks_top_10_countries.png',  dpi=300, transparent=True)"
   ]
  },
  {
   "cell_type": "markdown",
   "id": "21be9671-b034-4698-a58e-112e7763598c",
   "metadata": {},
   "source": [
    "Based on the visualisation the most attackers are coming from \n",
    "- 1st : US ( United States ) : 25%\n",
    "- 2nd:  RU ( Russia ) : 24%\n",
    "- 3d: BG ( Bulgaria ) : ~13%"
   ]
  },
  {
   "cell_type": "code",
   "execution_count": 77,
   "id": "9d08d81b-1602-47d7-b830-b76da0372d0c",
   "metadata": {},
   "outputs": [],
   "source": [
    "top_attackers_packets_sent = df.groupby('Country Code')['TotPkts'].sum().sort_values(ascending=False)[:10]"
   ]
  },
  {
   "cell_type": "code",
   "execution_count": 78,
   "id": "9e35799e-95c6-49da-ae89-7bc053a087ef",
   "metadata": {},
   "outputs": [
    {
     "data": {
      "text/plain": [
       "Country Code\n",
       "RU    73894\n",
       "US    52687\n",
       "BG    39052\n",
       "CN    28840\n",
       "NL    18227\n",
       "VN    17177\n",
       "UA    10188\n",
       "IN     9026\n",
       "BR     8481\n",
       "TR     6676\n",
       "Name: TotPkts, dtype: int64"
      ]
     },
     "execution_count": 78,
     "metadata": {},
     "output_type": "execute_result"
    }
   ],
   "source": [
    "top_attackers_packets_sent"
   ]
  },
  {
   "cell_type": "markdown",
   "id": "37b03fc8-921b-4462-9414-fa38e95d5fa1",
   "metadata": {},
   "source": [
    "The highest number of packets was sent by\n",
    "\n",
    "- Russian Federation  sent  73894 packets\n",
    "- United States   sent  52687 packets\n",
    "- Bulgaria  sent  39052 packets"
   ]
  },
  {
   "cell_type": "code",
   "execution_count": 79,
   "id": "76780550-b97c-4fae-8e47-462d71c1476c",
   "metadata": {},
   "outputs": [
    {
     "data": {
      "image/png": "[encoded data removed]",
      "text/plain": [
       "<Figure size 640x480 with 1 Axes>"
      ]
     },
     "metadata": {},
     "output_type": "display_data"
    }
   ],
   "source": [
    "plt.bar(top_attackers_packets_sent.index, top_attackers_packets_sent.values, color='#bc5090')\n",
    "plt.xlabel('Attacker Country')\n",
    "# plt.xticks(rotation = 35)\n",
    "plt.ylabel('Number of packets sent')\n",
    "plt.title('Top 10 Attackers by Total Packets Sent')\n",
    "\n",
    "for i, v in enumerate(top_attackers_packets_sent.values):\n",
    "    plt.text(i, v+1000, str(v), ha='center')\n",
    "\n",
    "\n",
    "plt.show()\n",
    "# plt.savefig('top_10_attackers_by_total_packets.png',  dpi=300, transparent=True)"
   ]
  },
  {
   "cell_type": "markdown",
   "id": "68a5778e-5305-4f96-84e4-49459ff5ac88",
   "metadata": {
    "tags": []
   },
   "source": [
    "### What day of the week attackers attack the most?"
   ]
  },
  {
   "cell_type": "code",
   "execution_count": 80,
   "id": "254483c5-1ddc-488e-a54e-601e224897ff",
   "metadata": {},
   "outputs": [],
   "source": [
    "attacks_by_weekday = df.groupby('Weekday')['TotPkts'].count()"
   ]
  },
  {
   "cell_type": "code",
   "execution_count": 81,
   "id": "7a8a0a76-932c-483a-97ed-5e8cf9465db4",
   "metadata": {},
   "outputs": [
    {
     "data": {
      "text/plain": [
       "Weekday\n",
       "Friday       26610\n",
       "Thursday     23648\n",
       "Wednesday    19237\n",
       "Saturday     16728\n",
       "Monday       15368\n",
       "Tuesday      15053\n",
       "Sunday       13475\n",
       "Name: TotPkts, dtype: int64"
      ]
     },
     "execution_count": 81,
     "metadata": {},
     "output_type": "execute_result"
    }
   ],
   "source": [
    "attacks_by_weekday.sort_values(ascending=False)"
   ]
  },
  {
   "cell_type": "markdown",
   "id": "90a353a6-265a-44c6-a4d4-768aec314a8e",
   "metadata": {},
   "source": [
    "The highest number of attacks occurred on Friday. Thursday had the second-highest number of attacks, followed by Wednesday , and Saturday,Sunday had the lowest number of attacks."
   ]
  },
  {
   "cell_type": "code",
   "execution_count": 82,
   "id": "b231adac-949a-4ed3-8212-ce076a0f8e6c",
   "metadata": {},
   "outputs": [
    {
     "data": {
      "image/png": "[encoded data removed]",
      "text/plain": [
       "<Figure size 800x600 with 1 Axes>"
      ]
     },
     "metadata": {},
     "output_type": "display_data"
    }
   ],
   "source": [
    "weekday_order = ['Monday', 'Tuesday', 'Wednesday', 'Thursday', 'Friday', 'Saturday', 'Sunday']\n",
    "attacks_by_weekday_sorted = attacks_by_weekday.reindex(weekday_order)\n",
    "\n",
    "\n",
    "fig, ax = plt.subplots(figsize=(8,6))\n",
    "ax.barh(attacks_by_weekday_sorted.index, attacks_by_weekday_sorted.values, color='#bc5090')\n",
    "ax.set_xlabel('Number of attacks')\n",
    "ax.set_ylabel('Day of the week')\n",
    "ax.set_title('Number of attacks per day of the week')\n",
    "\n",
    "plt.show()\n",
    "#plt.savefig('n_of_attacks_per_day_of_the_week.png', dpi=300, transparent=True)"
   ]
  },
  {
   "cell_type": "markdown",
   "id": "152a4b4a-f17d-4e04-9f0f-e46ca18ffafb",
   "metadata": {
    "tags": []
   },
   "source": [
    "### Which country has spent the highest overall duration of time attacking honeypots?"
   ]
  },
  {
   "cell_type": "code",
   "execution_count": 83,
   "id": "ad9c2f3f-a877-413c-ac22-ee3fd4ae537c",
   "metadata": {},
   "outputs": [],
   "source": [
    "df_top10_country_by_dur = df.groupby(by='Country Code')['Dur'].sum().sort_values(ascending=False)[:10]"
   ]
  },
  {
   "cell_type": "code",
   "execution_count": 84,
   "id": "0d7f77a4-c899-4ab8-9047-f24653148822",
   "metadata": {},
   "outputs": [
    {
     "data": {
      "text/plain": [
       "Country Code\n",
       "US    128884.555636\n",
       "CN     66658.094638\n",
       "SE     48273.873330\n",
       "JP     31943.065765\n",
       "CA     23166.023826\n",
       "ZA     22860.997157\n",
       "BR     20228.501871\n",
       "DE     18411.925316\n",
       "PL     13640.396696\n",
       "ES     12178.865614\n",
       "Name: Dur, dtype: float64"
      ]
     },
     "execution_count": 84,
     "metadata": {},
     "output_type": "execute_result"
    }
   ],
   "source": [
    "df_top10_country_by_dur"
   ]
  },
  {
   "cell_type": "markdown",
   "id": "51d11ff3-7332-41ff-ba52-3a3775e81db6",
   "metadata": {},
   "source": [
    "* Duration was measured in microseconds "
   ]
  },
  {
   "cell_type": "code",
   "execution_count": 85,
   "id": "d1b8dcf0-c043-47d1-9004-bf0dca42550b",
   "metadata": {},
   "outputs": [],
   "source": [
    "average_duration = df['Dur'].mean()"
   ]
  },
  {
   "cell_type": "code",
   "execution_count": 86,
   "id": "edba0e64-a308-4b68-a845-5cd5c254b6a0",
   "metadata": {},
   "outputs": [
    {
     "data": {
      "text/plain": [
       "3.4666712678932363"
      ]
     },
     "execution_count": 86,
     "metadata": {},
     "output_type": "execute_result"
    }
   ],
   "source": [
    "\n",
    "average_duration"
   ]
  },
  {
   "cell_type": "markdown",
   "id": "6fd8b06a-ef4b-4cc6-835d-bb0e8bc261ae",
   "metadata": {},
   "source": [
    "* Average attack duration: 3.4666712678932363microseconds =  0.000003 seconds\n",
    "* The country responsible for the longest attack is the United States (US), with a total duration of 128.885 seconds\n",
    "    - US: 128,884.555636 microseconds = 128.885 seconds (rounded to 3 decimal places)\n",
    "* China (CN) had the second-longest attack with a duration of 66.658 seconds\n",
    "    - CN: 66,658.094638 microseconds = 66.658 seconds (rounded to 3 decimal places)\n",
    "* followed by Sweden (SE) with a duration of 48.274 seconds\n",
    "    - SE: 48,273.873330 microseconds = 48.274 seconds (rounded to 3 decimal places)"
   ]
  },
  {
   "cell_type": "markdown",
   "id": "ade10ebd-0519-4f9b-94a9-dda217ca3af3",
   "metadata": {},
   "source": [
    "* Calculate how many times the United States' attack duration was longer than the average duration"
   ]
  },
  {
   "cell_type": "code",
   "execution_count": 87,
   "id": "97abd99b-176f-484f-9cca-2a1d13ed5c08",
   "metadata": {},
   "outputs": [
    {
     "data": {
      "text/plain": [
       "42961666.666666664"
      ]
     },
     "execution_count": 87,
     "metadata": {},
     "output_type": "execute_result"
    }
   ],
   "source": [
    "us_attack_dur_in_sec = 128.885 \n",
    "average_duration_in_sec =  0.000003 \n",
    "us_attack_dur_in_sec / average_duration_in_sec"
   ]
  },
  {
   "cell_type": "markdown",
   "id": "7d1c1c93-0b07-4888-960b-75888a2d9cfc",
   "metadata": {},
   "source": [
    "### What are the most common protocols used in the honeypot data?\n",
    "\n",
    "The most common protocol is `TCP,` which appears 117100 times. <br>\n",
    "The second and third most common protocols are `ICMP` and `UDP`, which appear 6606 and 6410 times respectively. <br>\n",
    "The very low frequency of `SCTP`, and `UDT` protocols suggests that they are not commonly used. <br>"
   ]
  },
  {
   "cell_type": "code",
   "execution_count": 88,
   "id": "10024462-ea33-435d-a78d-7c008e3e1eb7",
   "metadata": {},
   "outputs": [
    {
     "data": {
      "text/html": [
       "<div>\n",
       "<style scoped>\n",
       "    .dataframe tbody tr th:only-of-type {\n",
       "        vertical-align: middle;\n",
       "    }\n",
       "\n",
       "    .dataframe tbody tr th {\n",
       "        vertical-align: top;\n",
       "    }\n",
       "\n",
       "    .dataframe thead th {\n",
       "        text-align: right;\n",
       "    }\n",
       "</style>\n",
       "<table border=\"1\" class=\"dataframe\">\n",
       "  <thead>\n",
       "    <tr style=\"text-align: right;\">\n",
       "      <th></th>\n",
       "      <th>Protocol</th>\n",
       "      <th>Frequency</th>\n",
       "    </tr>\n",
       "  </thead>\n",
       "  <tbody>\n",
       "    <tr>\n",
       "      <th>0</th>\n",
       "      <td>tcp</td>\n",
       "      <td>117100</td>\n",
       "    </tr>\n",
       "    <tr>\n",
       "      <th>1</th>\n",
       "      <td>icmp</td>\n",
       "      <td>6606</td>\n",
       "    </tr>\n",
       "    <tr>\n",
       "      <th>2</th>\n",
       "      <td>udp</td>\n",
       "      <td>6410</td>\n",
       "    </tr>\n",
       "    <tr>\n",
       "      <th>3</th>\n",
       "      <td>sctp</td>\n",
       "      <td>2</td>\n",
       "    </tr>\n",
       "    <tr>\n",
       "      <th>4</th>\n",
       "      <td>udt</td>\n",
       "      <td>1</td>\n",
       "    </tr>\n",
       "  </tbody>\n",
       "</table>\n",
       "</div>"
      ],
      "text/plain": [
       "  Protocol  Frequency\n",
       "0      tcp     117100\n",
       "1     icmp       6606\n",
       "2      udp       6410\n",
       "3     sctp          2\n",
       "4      udt          1"
      ]
     },
     "execution_count": 88,
     "metadata": {},
     "output_type": "execute_result"
    }
   ],
   "source": [
    "proto_freq = df['Proto'].value_counts()\n",
    "proto_df = pd.DataFrame({'Protocol': proto_freq.index, 'Frequency': proto_freq.values})\n",
    "proto_df"
   ]
  },
  {
   "cell_type": "code",
   "execution_count": 89,
   "id": "1758aa88-5cce-4f60-ab2f-06a4c9918f31",
   "metadata": {},
   "outputs": [
    {
     "data": {
      "image/png": "[encoded data removed]",
      "text/plain": [
       "<Figure size 1000x800 with 2 Axes>"
      ]
     },
     "metadata": {},
     "output_type": "display_data"
    }
   ],
   "source": [
    "plt.figure(figsize=(10, 8))\n",
    "\n",
    "# Plot 1 most common proto\n",
    "plt.subplot(2, 2, 1)\n",
    "plt.bar(proto_df['Protocol'], proto_df['Frequency'], color=\"#bc5090\")\n",
    "plt.xlabel('Protocol')\n",
    "plt.ylabel('Frequency')\n",
    "plt.title('Protocol Frequency')\n",
    "\n",
    "# Plot 2 top10_country_by_duration\n",
    "plt.subplot(2, 2, 2)\n",
    "plt.bar(df_top10_country_by_dur.index, df_top10_country_by_dur.values, color='#bc5090')\n",
    "plt.title('Total Attack Duration by Country')\n",
    "plt.xlabel('Country Code')\n",
    "plt.xticks(rotation=0)\n",
    "plt.ylabel('Duration (microseconds)')\n",
    "plt.subplots_adjust(hspace=0.1)\n",
    "\n",
    "plt.show()\n",
    "#plt.savefig('protocol_freq_and_attack_duration_by_country.png', dpi=300, transparent=True)"
   ]
  },
  {
   "cell_type": "markdown",
   "id": "4276f1f7-09de-4c89-a7dc-1e8d898ec344",
   "metadata": {
    "tags": []
   },
   "source": [
    "### Univariate analysis of numerical variables"
   ]
  },
  {
   "cell_type": "code",
   "execution_count": 90,
   "id": "37c481f7-609b-4b2d-bbc8-df6b9fa51c48",
   "metadata": {},
   "outputs": [
    {
     "data": {
      "text/plain": [
       "StartTime       datetime64[ns]\n",
       "Dur                    float64\n",
       "Proto                   object\n",
       "SrcAddr                 object\n",
       "DstAddr                 object\n",
       "TotPkts                  int64\n",
       "TotBytes                 int64\n",
       "SrcBytes                 int64\n",
       "SrcPkts                  int64\n",
       "Country                 object\n",
       "Country Code            object\n",
       "Weekday                 object\n",
       "Hour                     int64\n",
       "dtype: object"
      ]
     },
     "execution_count": 90,
     "metadata": {},
     "output_type": "execute_result"
    }
   ],
   "source": [
    "df.dtypes"
   ]
  },
  {
   "cell_type": "code",
   "execution_count": 91,
   "id": "79aaa698-1966-40c1-a3e9-d13c4a563c1e",
   "metadata": {},
   "outputs": [],
   "source": [
    "numerical_features = [\"Dur\", \"TotPkts\", \"TotBytes\", \"SrcBytes\", \"SrcPkts\"]"
   ]
  },
  {
   "cell_type": "code",
   "execution_count": 92,
   "id": "56d618c8-6669-49df-822a-e1e0aeb28f94",
   "metadata": {},
   "outputs": [],
   "source": [
    "summary_stats = df[numerical_features].describe()"
   ]
  },
  {
   "cell_type": "code",
   "execution_count": 93,
   "id": "776beebf-8f55-4308-ae2c-7739489e6e8c",
   "metadata": {},
   "outputs": [
    {
     "data": {
      "text/html": [
       "<div>\n",
       "<style scoped>\n",
       "    .dataframe tbody tr th:only-of-type {\n",
       "        vertical-align: middle;\n",
       "    }\n",
       "\n",
       "    .dataframe tbody tr th {\n",
       "        vertical-align: top;\n",
       "    }\n",
       "\n",
       "    .dataframe thead th {\n",
       "        text-align: right;\n",
       "    }\n",
       "</style>\n",
       "<table border=\"1\" class=\"dataframe\">\n",
       "  <thead>\n",
       "    <tr style=\"text-align: right;\">\n",
       "      <th></th>\n",
       "      <th>Dur</th>\n",
       "      <th>TotPkts</th>\n",
       "      <th>TotBytes</th>\n",
       "      <th>SrcBytes</th>\n",
       "      <th>SrcPkts</th>\n",
       "    </tr>\n",
       "  </thead>\n",
       "  <tbody>\n",
       "    <tr>\n",
       "      <th>count</th>\n",
       "      <td>130119.000000</td>\n",
       "      <td>130119.000000</td>\n",
       "      <td>130119.000000</td>\n",
       "      <td>130119.000000</td>\n",
       "      <td>130119.000000</td>\n",
       "    </tr>\n",
       "    <tr>\n",
       "      <th>mean</th>\n",
       "      <td>3.466671</td>\n",
       "      <td>2.597153</td>\n",
       "      <td>156.769303</td>\n",
       "      <td>96.666605</td>\n",
       "      <td>1.528078</td>\n",
       "    </tr>\n",
       "    <tr>\n",
       "      <th>std</th>\n",
       "      <td>66.638987</td>\n",
       "      <td>1.160274</td>\n",
       "      <td>88.498191</td>\n",
       "      <td>59.291582</td>\n",
       "      <td>0.678906</td>\n",
       "    </tr>\n",
       "    <tr>\n",
       "      <th>min</th>\n",
       "      <td>0.000000</td>\n",
       "      <td>1.000000</td>\n",
       "      <td>56.000000</td>\n",
       "      <td>0.000000</td>\n",
       "      <td>0.000000</td>\n",
       "    </tr>\n",
       "    <tr>\n",
       "      <th>25%</th>\n",
       "      <td>0.000028</td>\n",
       "      <td>2.000000</td>\n",
       "      <td>112.000000</td>\n",
       "      <td>58.000000</td>\n",
       "      <td>1.000000</td>\n",
       "    </tr>\n",
       "    <tr>\n",
       "      <th>50%</th>\n",
       "      <td>0.009910</td>\n",
       "      <td>3.000000</td>\n",
       "      <td>166.000000</td>\n",
       "      <td>112.000000</td>\n",
       "      <td>2.000000</td>\n",
       "    </tr>\n",
       "    <tr>\n",
       "      <th>75%</th>\n",
       "      <td>0.057926</td>\n",
       "      <td>3.000000</td>\n",
       "      <td>166.000000</td>\n",
       "      <td>112.000000</td>\n",
       "      <td>2.000000</td>\n",
       "    </tr>\n",
       "    <tr>\n",
       "      <th>max</th>\n",
       "      <td>3527.245117</td>\n",
       "      <td>208.000000</td>\n",
       "      <td>11440.000000</td>\n",
       "      <td>5824.000000</td>\n",
       "      <td>104.000000</td>\n",
       "    </tr>\n",
       "  </tbody>\n",
       "</table>\n",
       "</div>"
      ],
      "text/plain": [
       "                 Dur        TotPkts       TotBytes       SrcBytes  \\\n",
       "count  130119.000000  130119.000000  130119.000000  130119.000000   \n",
       "mean        3.466671       2.597153     156.769303      96.666605   \n",
       "std        66.638987       1.160274      88.498191      59.291582   \n",
       "min         0.000000       1.000000      56.000000       0.000000   \n",
       "25%         0.000028       2.000000     112.000000      58.000000   \n",
       "50%         0.009910       3.000000     166.000000     112.000000   \n",
       "75%         0.057926       3.000000     166.000000     112.000000   \n",
       "max      3527.245117     208.000000   11440.000000    5824.000000   \n",
       "\n",
       "             SrcPkts  \n",
       "count  130119.000000  \n",
       "mean        1.528078  \n",
       "std         0.678906  \n",
       "min         0.000000  \n",
       "25%         1.000000  \n",
       "50%         2.000000  \n",
       "75%         2.000000  \n",
       "max       104.000000  "
      ]
     },
     "execution_count": 93,
     "metadata": {},
     "output_type": "execute_result"
    }
   ],
   "source": [
    "summary_stats"
   ]
  },
  {
   "cell_type": "markdown",
   "id": "9a60dfe9-f8f0-47af-81a3-a13de66af25f",
   "metadata": {},
   "source": [
    "Comparing the median values of the variables, we can see that \"Dur\" has a much smaller median than the other variables. This indicates that the distribution of \"Dur\" is likely skewed, with some network flows having a much longer duration than others. \n",
    "\n",
    "\"TotPkts\" and \"SrcPkts\" have a median value of 3 and 2 respectively, which means that half of the network flows have three or fewer packets and half have more than three for \"TotPkts\", while for \"SrcPkts\", half of the network flows have two or fewer packets and half have more than two. This indicates that the number of packets in a network flow varies widely, with some flows having very few packets and others having many. \n",
    "\n",
    "\"TotBytes\" and \"SrcBytes\" have similar median values of 166 and 112 respectively. This indicates that, on average, the total and source bytes transmitted in a network flow are similar across flows. "
   ]
  },
  {
   "cell_type": "code",
   "execution_count": 94,
   "id": "73a70eb8-87ce-45a0-bafa-11bae2690167",
   "metadata": {},
   "outputs": [
    {
     "name": "stdout",
     "output_type": "stream",
     "text": [
      "Mean:\n",
      " Dur           3.466671\n",
      "TotPkts       2.597153\n",
      "TotBytes    156.769303\n",
      "SrcBytes     96.666605\n",
      "SrcPkts       1.528078\n",
      "Name: mean, dtype: float64\n",
      "Median:\n",
      " Dur           0.00991\n",
      "TotPkts       3.00000\n",
      "TotBytes    166.00000\n",
      "SrcBytes    112.00000\n",
      "SrcPkts       2.00000\n",
      "Name: 50%, dtype: float64\n",
      "Interquartile Range (IQR):\n",
      " Dur          0.057898\n",
      "TotPkts      1.000000\n",
      "TotBytes    54.000000\n",
      "SrcBytes    54.000000\n",
      "SrcPkts      1.000000\n",
      "dtype: float64\n"
     ]
    }
   ],
   "source": [
    "mean = summary_stats.loc['mean']\n",
    "median = summary_stats.loc['50%']\n",
    "q1 = summary_stats.loc['25%']\n",
    "q3 = summary_stats.loc['75%']\n",
    "\n",
    "print(\"Mean:\\n\", mean)\n",
    "print(\"Median:\\n\", median)\n",
    "print(\"Interquartile Range (IQR):\\n\", q3 - q1)"
   ]
  },
  {
   "cell_type": "markdown",
   "id": "b56f61fd-5b0a-467a-bc4a-401da73408d7",
   "metadata": {},
   "source": [
    "* Skew or skewness measures the asymmetry of a distribution around its mean.\n",
    "A negative skew indicates that the distribution has a longer tail on its left side, while a positive skew indicates a longer tail on its right side. Symmetric distributions have a skew of 0. \n",
    "\n",
    "Our data is positevly skewed with long tail on its rigth side."
   ]
  },
  {
   "cell_type": "code",
   "execution_count": 95,
   "id": "1c863da9-c61b-40e6-83fa-bc07faa02281",
   "metadata": {},
   "outputs": [
    {
     "data": {
      "text/plain": [
       "Dur         29.480135\n",
       "TotPkts     51.151379\n",
       "TotBytes    31.664167\n",
       "SrcBytes    15.109679\n",
       "SrcPkts     32.445302\n",
       "dtype: float64"
      ]
     },
     "execution_count": 95,
     "metadata": {},
     "output_type": "execute_result"
    }
   ],
   "source": [
    "df[numerical_features].skew()"
   ]
  },
  {
   "cell_type": "code",
   "execution_count": 96,
   "id": "76a657cc-1b76-4c47-a817-d1ac472d0ffe",
   "metadata": {},
   "outputs": [
    {
     "data": {
      "image/png": "[encoded data removed]",
      "text/plain": [
       "<Figure size 1200x800 with 5 Axes>"
      ]
     },
     "metadata": {},
     "output_type": "display_data"
    }
   ],
   "source": [
    "nrows = 2\n",
    "ncols = 3\n",
    "fig, axs = plt.subplots(nrows=nrows, ncols=ncols, figsize=(12, 8))\n",
    "fig.suptitle(\"Histograms of numerical features with skewness coefficient\", fontsize=16)\n",
    "\n",
    "for i, feature in enumerate(numerical_features):\n",
    "    row = i // ncols\n",
    "    col = i % ncols\n",
    "    skewness = round((df[feature].skew()), 2)\n",
    "    ax = axs[row, col]\n",
    "    if not df[feature].empty:\n",
    "        ax.hist(df[feature], bins=50, color='#bc5090', log=True)\n",
    "        ax.set_xlabel(feature + f\" (skewness {skewness})\")\n",
    "        ax.set_ylabel(\"Frequency (log scale)\")\n",
    "\n",
    "if i < nrows * ncols - 1:\n",
    "    for j in range(i + 1, nrows * ncols):\n",
    "        row = j // ncols\n",
    "        col = j % ncols\n",
    "        fig.delaxes(axs[row, col])\n",
    "\n",
    "plt.tight_layout()\n",
    "plt.show()\n",
    "#plt.savefig('hists_of_numerical_feat_and_skew.png', dpi=300, transparent=True)"
   ]
  },
  {
   "cell_type": "markdown",
   "id": "7e4ff4bf-f83c-411a-b506-4b3aac157dfd",
   "metadata": {},
   "source": [
    "Comparing the median values of the variables, we can see that \"Dur\" has a much smaller median than the other variables. This indicates that the distribution of \"Dur\" is likely skewed, with some network flows having a much longer duration than others.\n",
    "\n",
    "\"TotPkts\" and \"SrcPkts\" have a median value of 3 and 2 respectively, which means that half of the network flows have three or fewer packets and half have more than three for \"TotPkts\", while for \"SrcPkts\", half of the network flows have two or fewer packets and half have more than two. This indicates that the number of packets in a network flow varies widely, with some flows having very few packets and others having many.\n",
    "\n",
    "\"TotBytes\" and \"SrcBytes\" have similar median values of 166 and 112 respectively. This indicates that, on average, the total and source bytes transmitted in a network flow are similar across flows."
   ]
  },
  {
   "cell_type": "markdown",
   "id": "3698d667-cca2-4aa5-a42e-585d2662b3ad",
   "metadata": {
    "tags": []
   },
   "source": [
    "# Bivariate analysis: exploring relationships"
   ]
  },
  {
   "cell_type": "markdown",
   "id": "991c53c2-9de7-4b1e-8b93-39787383932c",
   "metadata": {
    "tags": []
   },
   "source": [
    "### Correlation Coefficients"
   ]
  },
  {
   "cell_type": "code",
   "execution_count": 97,
   "id": "d875f4f2-4124-4619-9865-75b8f873d731",
   "metadata": {},
   "outputs": [],
   "source": [
    "corr_cols = ['Dur', 'TotPkts', 'TotBytes', 'SrcBytes', 'SrcPkts']"
   ]
  },
  {
   "cell_type": "code",
   "execution_count": 98,
   "id": "1abc564a-fd9c-4026-84c6-c431432bdc5a",
   "metadata": {},
   "outputs": [],
   "source": [
    "correlation = df[corr_cols].corr()"
   ]
  },
  {
   "cell_type": "markdown",
   "id": "ba65dc13-fc4f-42e4-af5f-80dc78be4819",
   "metadata": {},
   "source": [
    "The table below shows the Pearson correlation coefficients between the duration of attack, the total number of packets, the total number of bytes, the number of source bytes, and the number of source packets. The correlation coefficient ranges from -1 to 1, where -1 represents a perfect negative correlation, 0 represents no correlation, and 1 represents a perfect positive correlation.\n",
    "\n",
    "The table suggests that there is not strong correlation between the duration of attack and the other variables. The highest correlation coefficient is between the total number of packets and the number of source packets, which is 0.923. The correlation between the total number of packets and the total number of bytes is also relatively strong, with a correlation coefficient of 0.715. The correlation between the total number of bytes and the number of source bytes is even stronger, with a correlation coefficient of 0.897.\n",
    "The reason why there is a strong correlation between these variables could be because they are all related to the size and amount of data being transmitted in the network traffic."
   ]
  },
  {
   "cell_type": "code",
   "execution_count": 99,
   "id": "256a9648-834f-4c40-94b9-652f74b8f5e3",
   "metadata": {},
   "outputs": [
    {
     "data": {
      "text/html": [
       "<div>\n",
       "<style scoped>\n",
       "    .dataframe tbody tr th:only-of-type {\n",
       "        vertical-align: middle;\n",
       "    }\n",
       "\n",
       "    .dataframe tbody tr th {\n",
       "        vertical-align: top;\n",
       "    }\n",
       "\n",
       "    .dataframe thead th {\n",
       "        text-align: right;\n",
       "    }\n",
       "</style>\n",
       "<table border=\"1\" class=\"dataframe\">\n",
       "  <thead>\n",
       "    <tr style=\"text-align: right;\">\n",
       "      <th></th>\n",
       "      <th>Dur</th>\n",
       "      <th>TotPkts</th>\n",
       "      <th>TotBytes</th>\n",
       "      <th>SrcBytes</th>\n",
       "      <th>SrcPkts</th>\n",
       "    </tr>\n",
       "  </thead>\n",
       "  <tbody>\n",
       "    <tr>\n",
       "      <th>Dur</th>\n",
       "      <td>1.000000</td>\n",
       "      <td>0.220415</td>\n",
       "      <td>0.208951</td>\n",
       "      <td>0.182856</td>\n",
       "      <td>0.205740</td>\n",
       "    </tr>\n",
       "    <tr>\n",
       "      <th>TotPkts</th>\n",
       "      <td>0.220415</td>\n",
       "      <td>1.000000</td>\n",
       "      <td>0.714742</td>\n",
       "      <td>0.530762</td>\n",
       "      <td>0.923496</td>\n",
       "    </tr>\n",
       "    <tr>\n",
       "      <th>TotBytes</th>\n",
       "      <td>0.208951</td>\n",
       "      <td>0.714742</td>\n",
       "      <td>1.000000</td>\n",
       "      <td>0.896703</td>\n",
       "      <td>0.667384</td>\n",
       "    </tr>\n",
       "    <tr>\n",
       "      <th>SrcBytes</th>\n",
       "      <td>0.182856</td>\n",
       "      <td>0.530762</td>\n",
       "      <td>0.896703</td>\n",
       "      <td>1.000000</td>\n",
       "      <td>0.604390</td>\n",
       "    </tr>\n",
       "    <tr>\n",
       "      <th>SrcPkts</th>\n",
       "      <td>0.205740</td>\n",
       "      <td>0.923496</td>\n",
       "      <td>0.667384</td>\n",
       "      <td>0.604390</td>\n",
       "      <td>1.000000</td>\n",
       "    </tr>\n",
       "  </tbody>\n",
       "</table>\n",
       "</div>"
      ],
      "text/plain": [
       "               Dur   TotPkts  TotBytes  SrcBytes   SrcPkts\n",
       "Dur       1.000000  0.220415  0.208951  0.182856  0.205740\n",
       "TotPkts   0.220415  1.000000  0.714742  0.530762  0.923496\n",
       "TotBytes  0.208951  0.714742  1.000000  0.896703  0.667384\n",
       "SrcBytes  0.182856  0.530762  0.896703  1.000000  0.604390\n",
       "SrcPkts   0.205740  0.923496  0.667384  0.604390  1.000000"
      ]
     },
     "execution_count": 99,
     "metadata": {},
     "output_type": "execute_result"
    }
   ],
   "source": [
    "correlation"
   ]
  },
  {
   "cell_type": "code",
   "execution_count": 100,
   "id": "589e900f-09a3-41fd-9ab9-938bf670ed90",
   "metadata": {},
   "outputs": [
    {
     "data": {
      "image/png": "[encoded data removed]",
      "text/plain": [
       "<Figure size 1000x800 with 2 Axes>"
      ]
     },
     "metadata": {},
     "output_type": "display_data"
    }
   ],
   "source": [
    "sns.set_theme('notebook')\n",
    "cmap = sns.diverging_palette(230, 20, as_cmap=True)\n",
    "\n",
    "plt.figure(figsize=(10,8))\n",
    "sns.heatmap(correlation, annot=True, cmap=cmap, center=0, square=True, linewidths=1.)\n",
    "#plt.savefig('correlation_heatmap.png', dpi=300, transparent=True)\n",
    "plt.show()"
   ]
  },
  {
   "cell_type": "code",
   "execution_count": 101,
   "id": "e44da4ad-c7f7-4edf-9693-e0e6d4507c9a",
   "metadata": {},
   "outputs": [
    {
     "data": {
      "text/plain": [
       "<seaborn.axisgrid.PairGrid at 0x7fed2c3ed0d0>"
      ]
     },
     "execution_count": 101,
     "metadata": {},
     "output_type": "execute_result"
    },
    {
     "data": {
      "image/png": "[encoded data removed]",
      "text/plain": [
       "<Figure size 1000x1000 with 30 Axes>"
      ]
     },
     "metadata": {},
     "output_type": "display_data"
    }
   ],
   "source": [
    "sns.set()\n",
    "columns = [\"Dur\",\"TotPkts\", \"TotBytes\", \"SrcBytes\", \"SrcPkts\"]\n",
    "sns.pairplot(df[columns],height = 2 ,kind ='scatter',diag_kind='kde')\n",
    "# plt.savefig('scatter_plot_visualisation_of_relationships_between_variables.png', dpi=300, transparent=True)"
   ]
  },
  {
   "cell_type": "markdown",
   "id": "2fa2b48c-0a24-4a82-b6a9-4cad05f47e77",
   "metadata": {
    "tags": []
   },
   "source": [
    "# Regression model"
   ]
  },
  {
   "cell_type": "markdown",
   "id": "c5f56fa5-3938-43b7-a72a-5ea8ec7de3ae",
   "metadata": {},
   "source": [
    "#### How many unique country we have in dataset?\n",
    "\n",
    "We have 179 unique contries attacking our honeypot. It is quite a lot for cattegorical variable;"
   ]
  },
  {
   "cell_type": "code",
   "execution_count": 102,
   "id": "398533c7-691b-41c3-8426-fb5c51de9882",
   "metadata": {},
   "outputs": [
    {
     "name": "stdout",
     "output_type": "stream",
     "text": [
      "There are 179 unique country codes in the dataframe\n"
     ]
    }
   ],
   "source": [
    "unique_codes = df['Country Code'].unique()\n",
    "print(f\"There are {len(unique_codes)} unique country codes in the dataframe\")\n"
   ]
  },
  {
   "cell_type": "markdown",
   "id": "e5a11cf1-ae4c-4c50-9462-097faec434fc",
   "metadata": {},
   "source": [
    "### How many percent of attacks are coming from top 10 contries?\n",
    "\n",
    "So our calculation suggest 79% of attacks are coming from top 10 countries. So we can focus of them only"
   ]
  },
  {
   "cell_type": "code",
   "execution_count": 103,
   "id": "a0edeaf5-824c-481f-9547-000f742b2aae",
   "metadata": {},
   "outputs": [
    {
     "name": "stdout",
     "output_type": "stream",
     "text": [
      "There are 27706 rows in the dataframe that are not in the top 10 countries.\n"
     ]
    }
   ],
   "source": [
    "top_10_codes = top_10_countries.index.tolist()\n",
    "\n",
    "# Filter the dataframe to exclude rows for the top 10 countries\n",
    "other_countries_df = df[~df['Country Code'].isin(top_10_codes)]\n",
    "other_count = len(other_countries_df)\n",
    "\n",
    "print(f\"There are {other_count} rows in the dataframe that are not in the top 10 countries.\")\n"
   ]
  },
  {
   "cell_type": "code",
   "execution_count": 104,
   "id": "05706c3e-9d2b-4338-bead-d4afbf45541a",
   "metadata": {},
   "outputs": [
    {
     "name": "stdout",
     "output_type": "stream",
     "text": [
      "21.29% of the rows in the dataframe are not in the top 10\n"
     ]
    }
   ],
   "source": [
    "percentage = (other_count / len(df)) * 100\n",
    "\n",
    "print(f\"{percentage:.2f}% of the rows in the dataframe are not in the top 10\")"
   ]
  },
  {
   "cell_type": "code",
   "execution_count": 105,
   "id": "f740ddc4-dee8-4ab0-a45f-61244dbbec36",
   "metadata": {},
   "outputs": [],
   "source": [
    "df_top_10_only = df[df['Country Code'].isin(top_10_codes)]"
   ]
  },
  {
   "cell_type": "code",
   "execution_count": 106,
   "id": "d84e6252-f0ea-472f-a43f-7cab7e8b7baa",
   "metadata": {},
   "outputs": [
    {
     "data": {
      "text/plain": [
       "((102413, 13), (27706, 13), (130119, 13))"
      ]
     },
     "execution_count": 106,
     "metadata": {},
     "output_type": "execute_result"
    }
   ],
   "source": [
    "df_top_10_only.shape, other_countries_df.shape, df.shape"
   ]
  },
  {
   "cell_type": "code",
   "execution_count": 107,
   "id": "3e4031d5-09ef-4ac7-bcc6-95add6ec5cb0",
   "metadata": {},
   "outputs": [
    {
     "data": {
      "text/plain": [
       "Index(['StartTime', 'Dur', 'Proto', 'SrcAddr', 'DstAddr', 'TotPkts',\n",
       "       'TotBytes', 'SrcBytes', 'SrcPkts', 'Country', 'Country Code', 'Weekday',\n",
       "       'Hour'],\n",
       "      dtype='object')"
      ]
     },
     "execution_count": 107,
     "metadata": {},
     "output_type": "execute_result"
    }
   ],
   "source": [
    "df_top_10_only.columns"
   ]
  },
  {
   "cell_type": "code",
   "execution_count": 108,
   "id": "7e08d0b4-f015-45b6-8430-37e8d3efe85e",
   "metadata": {},
   "outputs": [
    {
     "data": {
      "text/plain": [
       "(102413, 13)"
      ]
     },
     "execution_count": 108,
     "metadata": {},
     "output_type": "execute_result"
    }
   ],
   "source": [
    "df_top_10_only.shape"
   ]
  },
  {
   "cell_type": "markdown",
   "id": "f47ec8d7-a242-442b-84c4-05d37e235bc3",
   "metadata": {},
   "source": [
    "*  drop irrelevant and highly corelated features  features\n",
    "    \"StartTime\", \"SrcAddr\",\"DstAddr\",\"Country\",  'SrcBytes', 'SrcPkts'"
   ]
  },
  {
   "cell_type": "code",
   "execution_count": 109,
   "id": "1fc734d7-8340-44aa-aa89-6a4a06d43282",
   "metadata": {},
   "outputs": [],
   "source": [
    "drop_irrelevant_features = [\"StartTime\", \"SrcAddr\",\"DstAddr\",\"Country\", 'SrcBytes', 'SrcPkts']"
   ]
  },
  {
   "cell_type": "code",
   "execution_count": 110,
   "id": "1d899217-d36f-4339-b624-c18283194d1d",
   "metadata": {},
   "outputs": [],
   "source": [
    "df_agg = df_top_10_only.drop(drop_irrelevant_features, axis=1)"
   ]
  },
  {
   "cell_type": "code",
   "execution_count": 111,
   "id": "1e45f5c5-e2ac-432f-a8e3-2aef77adc571",
   "metadata": {},
   "outputs": [
    {
     "data": {
      "text/html": [
       "<div>\n",
       "<style scoped>\n",
       "    .dataframe tbody tr th:only-of-type {\n",
       "        vertical-align: middle;\n",
       "    }\n",
       "\n",
       "    .dataframe tbody tr th {\n",
       "        vertical-align: top;\n",
       "    }\n",
       "\n",
       "    .dataframe thead th {\n",
       "        text-align: right;\n",
       "    }\n",
       "</style>\n",
       "<table border=\"1\" class=\"dataframe\">\n",
       "  <thead>\n",
       "    <tr style=\"text-align: right;\">\n",
       "      <th></th>\n",
       "      <th>Dur</th>\n",
       "      <th>Proto</th>\n",
       "      <th>TotPkts</th>\n",
       "      <th>TotBytes</th>\n",
       "      <th>Country Code</th>\n",
       "      <th>Weekday</th>\n",
       "      <th>Hour</th>\n",
       "    </tr>\n",
       "  </thead>\n",
       "  <tbody>\n",
       "    <tr>\n",
       "      <th>1</th>\n",
       "      <td>0.000045</td>\n",
       "      <td>udp</td>\n",
       "      <td>1</td>\n",
       "      <td>56</td>\n",
       "      <td>RU</td>\n",
       "      <td>Thursday</td>\n",
       "      <td>2</td>\n",
       "    </tr>\n",
       "    <tr>\n",
       "      <th>2</th>\n",
       "      <td>0.132838</td>\n",
       "      <td>tcp</td>\n",
       "      <td>3</td>\n",
       "      <td>166</td>\n",
       "      <td>RU</td>\n",
       "      <td>Thursday</td>\n",
       "      <td>2</td>\n",
       "    </tr>\n",
       "    <tr>\n",
       "      <th>3</th>\n",
       "      <td>0.121702</td>\n",
       "      <td>tcp</td>\n",
       "      <td>3</td>\n",
       "      <td>166</td>\n",
       "      <td>RU</td>\n",
       "      <td>Thursday</td>\n",
       "      <td>2</td>\n",
       "    </tr>\n",
       "    <tr>\n",
       "      <th>4</th>\n",
       "      <td>0.062870</td>\n",
       "      <td>tcp</td>\n",
       "      <td>3</td>\n",
       "      <td>166</td>\n",
       "      <td>RU</td>\n",
       "      <td>Thursday</td>\n",
       "      <td>2</td>\n",
       "    </tr>\n",
       "    <tr>\n",
       "      <th>5</th>\n",
       "      <td>0.000028</td>\n",
       "      <td>tcp</td>\n",
       "      <td>2</td>\n",
       "      <td>120</td>\n",
       "      <td>CN</td>\n",
       "      <td>Thursday</td>\n",
       "      <td>2</td>\n",
       "    </tr>\n",
       "    <tr>\n",
       "      <th>...</th>\n",
       "      <td>...</td>\n",
       "      <td>...</td>\n",
       "      <td>...</td>\n",
       "      <td>...</td>\n",
       "      <td>...</td>\n",
       "      <td>...</td>\n",
       "      <td>...</td>\n",
       "    </tr>\n",
       "    <tr>\n",
       "      <th>130600</th>\n",
       "      <td>0.000029</td>\n",
       "      <td>tcp</td>\n",
       "      <td>2</td>\n",
       "      <td>110</td>\n",
       "      <td>DE</td>\n",
       "      <td>Wednesday</td>\n",
       "      <td>1</td>\n",
       "    </tr>\n",
       "    <tr>\n",
       "      <th>130601</th>\n",
       "      <td>0.063831</td>\n",
       "      <td>tcp</td>\n",
       "      <td>3</td>\n",
       "      <td>166</td>\n",
       "      <td>BG</td>\n",
       "      <td>Wednesday</td>\n",
       "      <td>1</td>\n",
       "    </tr>\n",
       "    <tr>\n",
       "      <th>130602</th>\n",
       "      <td>0.043038</td>\n",
       "      <td>tcp</td>\n",
       "      <td>3</td>\n",
       "      <td>166</td>\n",
       "      <td>BG</td>\n",
       "      <td>Wednesday</td>\n",
       "      <td>1</td>\n",
       "    </tr>\n",
       "    <tr>\n",
       "      <th>130603</th>\n",
       "      <td>0.060210</td>\n",
       "      <td>tcp</td>\n",
       "      <td>3</td>\n",
       "      <td>166</td>\n",
       "      <td>BG</td>\n",
       "      <td>Wednesday</td>\n",
       "      <td>1</td>\n",
       "    </tr>\n",
       "    <tr>\n",
       "      <th>130604</th>\n",
       "      <td>0.000037</td>\n",
       "      <td>tcp</td>\n",
       "      <td>2</td>\n",
       "      <td>112</td>\n",
       "      <td>US</td>\n",
       "      <td>Wednesday</td>\n",
       "      <td>1</td>\n",
       "    </tr>\n",
       "  </tbody>\n",
       "</table>\n",
       "<p>102413 rows × 7 columns</p>\n",
       "</div>"
      ],
      "text/plain": [
       "             Dur Proto  TotPkts  TotBytes Country Code    Weekday  Hour\n",
       "1       0.000045   udp        1        56           RU   Thursday     2\n",
       "2       0.132838   tcp        3       166           RU   Thursday     2\n",
       "3       0.121702   tcp        3       166           RU   Thursday     2\n",
       "4       0.062870   tcp        3       166           RU   Thursday     2\n",
       "5       0.000028   tcp        2       120           CN   Thursday     2\n",
       "...          ...   ...      ...       ...          ...        ...   ...\n",
       "130600  0.000029   tcp        2       110           DE  Wednesday     1\n",
       "130601  0.063831   tcp        3       166           BG  Wednesday     1\n",
       "130602  0.043038   tcp        3       166           BG  Wednesday     1\n",
       "130603  0.060210   tcp        3       166           BG  Wednesday     1\n",
       "130604  0.000037   tcp        2       112           US  Wednesday     1\n",
       "\n",
       "[102413 rows x 7 columns]"
      ]
     },
     "execution_count": 111,
     "metadata": {},
     "output_type": "execute_result"
    }
   ],
   "source": [
    "df_agg"
   ]
  },
  {
   "cell_type": "markdown",
   "id": "9c35dd5c-0ded-4e77-9af2-bc36d82337f7",
   "metadata": {},
   "source": [
    "#### One-Hot Encoding: Getting dummies for non-numerical variables"
   ]
  },
  {
   "cell_type": "code",
   "execution_count": 112,
   "id": "a55fb9bf-0d96-473c-bd61-bfd1dc42fd42",
   "metadata": {},
   "outputs": [],
   "source": [
    "non_numeric_cols = df_agg.select_dtypes(exclude=['float64', 'int64']).columns.tolist()"
   ]
  },
  {
   "cell_type": "code",
   "execution_count": 113,
   "id": "b33aa90e-2ea9-4cb7-85c2-c996bc8b9832",
   "metadata": {},
   "outputs": [
    {
     "data": {
      "text/plain": [
       "['Proto', 'Country Code', 'Weekday']"
      ]
     },
     "execution_count": 113,
     "metadata": {},
     "output_type": "execute_result"
    }
   ],
   "source": [
    "non_numeric_cols"
   ]
  },
  {
   "cell_type": "code",
   "execution_count": 114,
   "id": "bed17c9e-bf1f-4b4b-9c62-8e5ad5479ace",
   "metadata": {},
   "outputs": [],
   "source": [
    "for col in non_numeric_cols:\n",
    "    dummies = pd.get_dummies(df_agg[col], prefix=col)\n",
    "    df_agg = pd.concat([df_agg, dummies], axis=1)"
   ]
  },
  {
   "cell_type": "code",
   "execution_count": 115,
   "id": "b8587488-8d84-47a7-b2e3-addedfb9e543",
   "metadata": {},
   "outputs": [],
   "source": [
    "df_agg = df_agg.drop(non_numeric_cols, axis=1)"
   ]
  },
  {
   "cell_type": "code",
   "execution_count": 116,
   "id": "0066df32-574b-42ab-a5b2-fadadd3ec81f",
   "metadata": {},
   "outputs": [
    {
     "data": {
      "text/plain": [
       "Index(['Dur', 'TotPkts', 'TotBytes', 'Hour', 'Proto_icmp', 'Proto_sctp',\n",
       "       'Proto_tcp', 'Proto_udp', 'Country Code_BG', 'Country Code_BR',\n",
       "       'Country Code_CN', 'Country Code_DE', 'Country Code_IN',\n",
       "       'Country Code_NL', 'Country Code_RU', 'Country Code_UA',\n",
       "       'Country Code_US', 'Country Code_VN', 'Weekday_Friday',\n",
       "       'Weekday_Monday', 'Weekday_Saturday', 'Weekday_Sunday',\n",
       "       'Weekday_Thursday', 'Weekday_Tuesday', 'Weekday_Wednesday'],\n",
       "      dtype='object')"
      ]
     },
     "execution_count": 116,
     "metadata": {},
     "output_type": "execute_result"
    }
   ],
   "source": [
    "df_agg.columns"
   ]
  },
  {
   "cell_type": "code",
   "execution_count": 117,
   "id": "7746e9d2-5f32-4b4c-96b5-6b194fc874cf",
   "metadata": {},
   "outputs": [
    {
     "data": {
      "text/html": [
       "<div>\n",
       "<style scoped>\n",
       "    .dataframe tbody tr th:only-of-type {\n",
       "        vertical-align: middle;\n",
       "    }\n",
       "\n",
       "    .dataframe tbody tr th {\n",
       "        vertical-align: top;\n",
       "    }\n",
       "\n",
       "    .dataframe thead th {\n",
       "        text-align: right;\n",
       "    }\n",
       "</style>\n",
       "<table border=\"1\" class=\"dataframe\">\n",
       "  <thead>\n",
       "    <tr style=\"text-align: right;\">\n",
       "      <th></th>\n",
       "      <th>Dur</th>\n",
       "      <th>TotPkts</th>\n",
       "      <th>TotBytes</th>\n",
       "      <th>Hour</th>\n",
       "      <th>Proto_icmp</th>\n",
       "      <th>Proto_sctp</th>\n",
       "      <th>Proto_tcp</th>\n",
       "      <th>Proto_udp</th>\n",
       "      <th>Country Code_BG</th>\n",
       "      <th>Country Code_BR</th>\n",
       "      <th>...</th>\n",
       "      <th>Country Code_UA</th>\n",
       "      <th>Country Code_US</th>\n",
       "      <th>Country Code_VN</th>\n",
       "      <th>Weekday_Friday</th>\n",
       "      <th>Weekday_Monday</th>\n",
       "      <th>Weekday_Saturday</th>\n",
       "      <th>Weekday_Sunday</th>\n",
       "      <th>Weekday_Thursday</th>\n",
       "      <th>Weekday_Tuesday</th>\n",
       "      <th>Weekday_Wednesday</th>\n",
       "    </tr>\n",
       "  </thead>\n",
       "  <tbody>\n",
       "    <tr>\n",
       "      <th>1</th>\n",
       "      <td>0.000045</td>\n",
       "      <td>1</td>\n",
       "      <td>56</td>\n",
       "      <td>2</td>\n",
       "      <td>0</td>\n",
       "      <td>0</td>\n",
       "      <td>0</td>\n",
       "      <td>1</td>\n",
       "      <td>0</td>\n",
       "      <td>0</td>\n",
       "      <td>...</td>\n",
       "      <td>0</td>\n",
       "      <td>0</td>\n",
       "      <td>0</td>\n",
       "      <td>0</td>\n",
       "      <td>0</td>\n",
       "      <td>0</td>\n",
       "      <td>0</td>\n",
       "      <td>1</td>\n",
       "      <td>0</td>\n",
       "      <td>0</td>\n",
       "    </tr>\n",
       "    <tr>\n",
       "      <th>2</th>\n",
       "      <td>0.132838</td>\n",
       "      <td>3</td>\n",
       "      <td>166</td>\n",
       "      <td>2</td>\n",
       "      <td>0</td>\n",
       "      <td>0</td>\n",
       "      <td>1</td>\n",
       "      <td>0</td>\n",
       "      <td>0</td>\n",
       "      <td>0</td>\n",
       "      <td>...</td>\n",
       "      <td>0</td>\n",
       "      <td>0</td>\n",
       "      <td>0</td>\n",
       "      <td>0</td>\n",
       "      <td>0</td>\n",
       "      <td>0</td>\n",
       "      <td>0</td>\n",
       "      <td>1</td>\n",
       "      <td>0</td>\n",
       "      <td>0</td>\n",
       "    </tr>\n",
       "    <tr>\n",
       "      <th>3</th>\n",
       "      <td>0.121702</td>\n",
       "      <td>3</td>\n",
       "      <td>166</td>\n",
       "      <td>2</td>\n",
       "      <td>0</td>\n",
       "      <td>0</td>\n",
       "      <td>1</td>\n",
       "      <td>0</td>\n",
       "      <td>0</td>\n",
       "      <td>0</td>\n",
       "      <td>...</td>\n",
       "      <td>0</td>\n",
       "      <td>0</td>\n",
       "      <td>0</td>\n",
       "      <td>0</td>\n",
       "      <td>0</td>\n",
       "      <td>0</td>\n",
       "      <td>0</td>\n",
       "      <td>1</td>\n",
       "      <td>0</td>\n",
       "      <td>0</td>\n",
       "    </tr>\n",
       "  </tbody>\n",
       "</table>\n",
       "<p>3 rows × 25 columns</p>\n",
       "</div>"
      ],
      "text/plain": [
       "        Dur  TotPkts  TotBytes  Hour  Proto_icmp  Proto_sctp  Proto_tcp  \\\n",
       "1  0.000045        1        56     2           0           0          0   \n",
       "2  0.132838        3       166     2           0           0          1   \n",
       "3  0.121702        3       166     2           0           0          1   \n",
       "\n",
       "   Proto_udp  Country Code_BG  Country Code_BR  ...  Country Code_UA  \\\n",
       "1          1                0                0  ...                0   \n",
       "2          0                0                0  ...                0   \n",
       "3          0                0                0  ...                0   \n",
       "\n",
       "   Country Code_US  Country Code_VN  Weekday_Friday  Weekday_Monday  \\\n",
       "1                0                0               0               0   \n",
       "2                0                0               0               0   \n",
       "3                0                0               0               0   \n",
       "\n",
       "   Weekday_Saturday  Weekday_Sunday  Weekday_Thursday  Weekday_Tuesday  \\\n",
       "1                 0               0                 1                0   \n",
       "2                 0               0                 1                0   \n",
       "3                 0               0                 1                0   \n",
       "\n",
       "   Weekday_Wednesday  \n",
       "1                  0  \n",
       "2                  0  \n",
       "3                  0  \n",
       "\n",
       "[3 rows x 25 columns]"
      ]
     },
     "execution_count": 117,
     "metadata": {},
     "output_type": "execute_result"
    }
   ],
   "source": [
    "df_agg.head(3)"
   ]
  },
  {
   "cell_type": "code",
   "execution_count": 118,
   "id": "72c08ff2-79c3-4911-adb1-f5a650339fde",
   "metadata": {},
   "outputs": [
    {
     "data": {
      "text/plain": [
       "Index(['Dur', 'TotPkts', 'TotBytes', 'Hour', 'Proto_icmp', 'Proto_sctp',\n",
       "       'Proto_tcp', 'Proto_udp', 'Country Code_BG', 'Country Code_BR',\n",
       "       'Country Code_CN', 'Country Code_DE', 'Country Code_IN',\n",
       "       'Country Code_NL', 'Country Code_RU', 'Country Code_UA',\n",
       "       'Country Code_US', 'Country Code_VN', 'Weekday_Friday',\n",
       "       'Weekday_Monday', 'Weekday_Saturday', 'Weekday_Sunday',\n",
       "       'Weekday_Thursday', 'Weekday_Tuesday', 'Weekday_Wednesday'],\n",
       "      dtype='object')"
      ]
     },
     "execution_count": 118,
     "metadata": {},
     "output_type": "execute_result"
    }
   ],
   "source": [
    "df_agg.columns"
   ]
  },
  {
   "cell_type": "code",
   "execution_count": 119,
   "id": "7074d504-2b6b-40b0-a4de-4ca5b8b95f66",
   "metadata": {},
   "outputs": [],
   "source": [
    "# at country X at what time Y how many attacks happened?\n",
    "# we have to get an aggr on country and time\n",
    "grouped = df_agg.groupby(['Country Code_BG', 'Country Code_BR', 'Country Code_CN', 'Country Code_DE',\n",
    "                      'Country Code_IN', 'Country Code_NL', 'Country Code_RU', 'Country Code_UA',\n",
    "                      'Country Code_US', 'Country Code_VN', 'Hour']).mean()"
   ]
  },
  {
   "cell_type": "code",
   "execution_count": 120,
   "id": "810730b0-7ff6-44bd-a96e-dbce949c78ea",
   "metadata": {},
   "outputs": [
    {
     "data": {
      "text/html": [
       "<div>\n",
       "<style scoped>\n",
       "    .dataframe tbody tr th:only-of-type {\n",
       "        vertical-align: middle;\n",
       "    }\n",
       "\n",
       "    .dataframe tbody tr th {\n",
       "        vertical-align: top;\n",
       "    }\n",
       "\n",
       "    .dataframe thead th {\n",
       "        text-align: right;\n",
       "    }\n",
       "</style>\n",
       "<table border=\"1\" class=\"dataframe\">\n",
       "  <thead>\n",
       "    <tr style=\"text-align: right;\">\n",
       "      <th></th>\n",
       "      <th></th>\n",
       "      <th></th>\n",
       "      <th></th>\n",
       "      <th></th>\n",
       "      <th></th>\n",
       "      <th></th>\n",
       "      <th></th>\n",
       "      <th></th>\n",
       "      <th></th>\n",
       "      <th></th>\n",
       "      <th>Dur</th>\n",
       "      <th>TotPkts</th>\n",
       "      <th>TotBytes</th>\n",
       "      <th>Proto_icmp</th>\n",
       "      <th>Proto_sctp</th>\n",
       "      <th>Proto_tcp</th>\n",
       "      <th>Proto_udp</th>\n",
       "      <th>Weekday_Friday</th>\n",
       "      <th>Weekday_Monday</th>\n",
       "      <th>Weekday_Saturday</th>\n",
       "      <th>Weekday_Sunday</th>\n",
       "      <th>Weekday_Thursday</th>\n",
       "      <th>Weekday_Tuesday</th>\n",
       "      <th>Weekday_Wednesday</th>\n",
       "    </tr>\n",
       "    <tr>\n",
       "      <th>Country Code_BG</th>\n",
       "      <th>Country Code_BR</th>\n",
       "      <th>Country Code_CN</th>\n",
       "      <th>Country Code_DE</th>\n",
       "      <th>Country Code_IN</th>\n",
       "      <th>Country Code_NL</th>\n",
       "      <th>Country Code_RU</th>\n",
       "      <th>Country Code_UA</th>\n",
       "      <th>Country Code_US</th>\n",
       "      <th>Country Code_VN</th>\n",
       "      <th>Hour</th>\n",
       "      <th></th>\n",
       "      <th></th>\n",
       "      <th></th>\n",
       "      <th></th>\n",
       "      <th></th>\n",
       "      <th></th>\n",
       "      <th></th>\n",
       "      <th></th>\n",
       "      <th></th>\n",
       "      <th></th>\n",
       "      <th></th>\n",
       "      <th></th>\n",
       "      <th></th>\n",
       "      <th></th>\n",
       "    </tr>\n",
       "  </thead>\n",
       "  <tbody>\n",
       "    <tr>\n",
       "      <th rowspan=\"5\" valign=\"top\">0</th>\n",
       "      <th rowspan=\"5\" valign=\"top\">0</th>\n",
       "      <th rowspan=\"5\" valign=\"top\">0</th>\n",
       "      <th rowspan=\"5\" valign=\"top\">0</th>\n",
       "      <th rowspan=\"5\" valign=\"top\">0</th>\n",
       "      <th rowspan=\"5\" valign=\"top\">0</th>\n",
       "      <th rowspan=\"5\" valign=\"top\">0</th>\n",
       "      <th rowspan=\"5\" valign=\"top\">0</th>\n",
       "      <th rowspan=\"5\" valign=\"top\">0</th>\n",
       "      <th rowspan=\"5\" valign=\"top\">1</th>\n",
       "      <th>0</th>\n",
       "      <td>1.995248</td>\n",
       "      <td>2.389034</td>\n",
       "      <td>132.934726</td>\n",
       "      <td>0.0</td>\n",
       "      <td>0.0</td>\n",
       "      <td>1.000000</td>\n",
       "      <td>0.000000</td>\n",
       "      <td>0.229765</td>\n",
       "      <td>0.010444</td>\n",
       "      <td>0.234987</td>\n",
       "      <td>0.002611</td>\n",
       "      <td>0.219321</td>\n",
       "      <td>0.041775</td>\n",
       "      <td>0.261097</td>\n",
       "    </tr>\n",
       "    <tr>\n",
       "      <th>1</th>\n",
       "      <td>2.867968</td>\n",
       "      <td>2.258462</td>\n",
       "      <td>125.766154</td>\n",
       "      <td>0.0</td>\n",
       "      <td>0.0</td>\n",
       "      <td>1.000000</td>\n",
       "      <td>0.000000</td>\n",
       "      <td>0.267692</td>\n",
       "      <td>0.012308</td>\n",
       "      <td>0.270769</td>\n",
       "      <td>0.012308</td>\n",
       "      <td>0.264615</td>\n",
       "      <td>0.036923</td>\n",
       "      <td>0.135385</td>\n",
       "    </tr>\n",
       "    <tr>\n",
       "      <th>2</th>\n",
       "      <td>0.546525</td>\n",
       "      <td>2.382470</td>\n",
       "      <td>134.270916</td>\n",
       "      <td>0.0</td>\n",
       "      <td>0.0</td>\n",
       "      <td>1.000000</td>\n",
       "      <td>0.000000</td>\n",
       "      <td>0.382470</td>\n",
       "      <td>0.015936</td>\n",
       "      <td>0.023904</td>\n",
       "      <td>0.039841</td>\n",
       "      <td>0.338645</td>\n",
       "      <td>0.103586</td>\n",
       "      <td>0.095618</td>\n",
       "    </tr>\n",
       "    <tr>\n",
       "      <th>3</th>\n",
       "      <td>0.396108</td>\n",
       "      <td>2.661871</td>\n",
       "      <td>152.924460</td>\n",
       "      <td>0.0</td>\n",
       "      <td>0.0</td>\n",
       "      <td>0.996403</td>\n",
       "      <td>0.003597</td>\n",
       "      <td>0.330935</td>\n",
       "      <td>0.017986</td>\n",
       "      <td>0.035971</td>\n",
       "      <td>0.043165</td>\n",
       "      <td>0.381295</td>\n",
       "      <td>0.097122</td>\n",
       "      <td>0.093525</td>\n",
       "    </tr>\n",
       "    <tr>\n",
       "      <th>4</th>\n",
       "      <td>0.498405</td>\n",
       "      <td>2.563177</td>\n",
       "      <td>146.498195</td>\n",
       "      <td>0.0</td>\n",
       "      <td>0.0</td>\n",
       "      <td>0.996390</td>\n",
       "      <td>0.003610</td>\n",
       "      <td>0.335740</td>\n",
       "      <td>0.039711</td>\n",
       "      <td>0.018051</td>\n",
       "      <td>0.039711</td>\n",
       "      <td>0.364621</td>\n",
       "      <td>0.111913</td>\n",
       "      <td>0.090253</td>\n",
       "    </tr>\n",
       "  </tbody>\n",
       "</table>\n",
       "</div>"
      ],
      "text/plain": [
       "                                                                                                                                                                           Dur  \\\n",
       "Country Code_BG Country Code_BR Country Code_CN Country Code_DE Country Code_IN Country Code_NL Country Code_RU Country Code_UA Country Code_US Country Code_VN Hour             \n",
       "0               0               0               0               0               0               0               0               0               1               0     1.995248   \n",
       "                                                                                                                                                                1     2.867968   \n",
       "                                                                                                                                                                2     0.546525   \n",
       "                                                                                                                                                                3     0.396108   \n",
       "                                                                                                                                                                4     0.498405   \n",
       "\n",
       "                                                                                                                                                                       TotPkts  \\\n",
       "Country Code_BG Country Code_BR Country Code_CN Country Code_DE Country Code_IN Country Code_NL Country Code_RU Country Code_UA Country Code_US Country Code_VN Hour             \n",
       "0               0               0               0               0               0               0               0               0               1               0     2.389034   \n",
       "                                                                                                                                                                1     2.258462   \n",
       "                                                                                                                                                                2     2.382470   \n",
       "                                                                                                                                                                3     2.661871   \n",
       "                                                                                                                                                                4     2.563177   \n",
       "\n",
       "                                                                                                                                                                        TotBytes  \\\n",
       "Country Code_BG Country Code_BR Country Code_CN Country Code_DE Country Code_IN Country Code_NL Country Code_RU Country Code_UA Country Code_US Country Code_VN Hour               \n",
       "0               0               0               0               0               0               0               0               0               1               0     132.934726   \n",
       "                                                                                                                                                                1     125.766154   \n",
       "                                                                                                                                                                2     134.270916   \n",
       "                                                                                                                                                                3     152.924460   \n",
       "                                                                                                                                                                4     146.498195   \n",
       "\n",
       "                                                                                                                                                                      Proto_icmp  \\\n",
       "Country Code_BG Country Code_BR Country Code_CN Country Code_DE Country Code_IN Country Code_NL Country Code_RU Country Code_UA Country Code_US Country Code_VN Hour               \n",
       "0               0               0               0               0               0               0               0               0               1               0            0.0   \n",
       "                                                                                                                                                                1            0.0   \n",
       "                                                                                                                                                                2            0.0   \n",
       "                                                                                                                                                                3            0.0   \n",
       "                                                                                                                                                                4            0.0   \n",
       "\n",
       "                                                                                                                                                                      Proto_sctp  \\\n",
       "Country Code_BG Country Code_BR Country Code_CN Country Code_DE Country Code_IN Country Code_NL Country Code_RU Country Code_UA Country Code_US Country Code_VN Hour               \n",
       "0               0               0               0               0               0               0               0               0               1               0            0.0   \n",
       "                                                                                                                                                                1            0.0   \n",
       "                                                                                                                                                                2            0.0   \n",
       "                                                                                                                                                                3            0.0   \n",
       "                                                                                                                                                                4            0.0   \n",
       "\n",
       "                                                                                                                                                                      Proto_tcp  \\\n",
       "Country Code_BG Country Code_BR Country Code_CN Country Code_DE Country Code_IN Country Code_NL Country Code_RU Country Code_UA Country Code_US Country Code_VN Hour              \n",
       "0               0               0               0               0               0               0               0               0               1               0      1.000000   \n",
       "                                                                                                                                                                1      1.000000   \n",
       "                                                                                                                                                                2      1.000000   \n",
       "                                                                                                                                                                3      0.996403   \n",
       "                                                                                                                                                                4      0.996390   \n",
       "\n",
       "                                                                                                                                                                      Proto_udp  \\\n",
       "Country Code_BG Country Code_BR Country Code_CN Country Code_DE Country Code_IN Country Code_NL Country Code_RU Country Code_UA Country Code_US Country Code_VN Hour              \n",
       "0               0               0               0               0               0               0               0               0               1               0      0.000000   \n",
       "                                                                                                                                                                1      0.000000   \n",
       "                                                                                                                                                                2      0.000000   \n",
       "                                                                                                                                                                3      0.003597   \n",
       "                                                                                                                                                                4      0.003610   \n",
       "\n",
       "                                                                                                                                                                      Weekday_Friday  \\\n",
       "Country Code_BG Country Code_BR Country Code_CN Country Code_DE Country Code_IN Country Code_NL Country Code_RU Country Code_UA Country Code_US Country Code_VN Hour                   \n",
       "0               0               0               0               0               0               0               0               0               1               0           0.229765   \n",
       "                                                                                                                                                                1           0.267692   \n",
       "                                                                                                                                                                2           0.382470   \n",
       "                                                                                                                                                                3           0.330935   \n",
       "                                                                                                                                                                4           0.335740   \n",
       "\n",
       "                                                                                                                                                                      Weekday_Monday  \\\n",
       "Country Code_BG Country Code_BR Country Code_CN Country Code_DE Country Code_IN Country Code_NL Country Code_RU Country Code_UA Country Code_US Country Code_VN Hour                   \n",
       "0               0               0               0               0               0               0               0               0               1               0           0.010444   \n",
       "                                                                                                                                                                1           0.012308   \n",
       "                                                                                                                                                                2           0.015936   \n",
       "                                                                                                                                                                3           0.017986   \n",
       "                                                                                                                                                                4           0.039711   \n",
       "\n",
       "                                                                                                                                                                      Weekday_Saturday  \\\n",
       "Country Code_BG Country Code_BR Country Code_CN Country Code_DE Country Code_IN Country Code_NL Country Code_RU Country Code_UA Country Code_US Country Code_VN Hour                     \n",
       "0               0               0               0               0               0               0               0               0               1               0             0.234987   \n",
       "                                                                                                                                                                1             0.270769   \n",
       "                                                                                                                                                                2             0.023904   \n",
       "                                                                                                                                                                3             0.035971   \n",
       "                                                                                                                                                                4             0.018051   \n",
       "\n",
       "                                                                                                                                                                      Weekday_Sunday  \\\n",
       "Country Code_BG Country Code_BR Country Code_CN Country Code_DE Country Code_IN Country Code_NL Country Code_RU Country Code_UA Country Code_US Country Code_VN Hour                   \n",
       "0               0               0               0               0               0               0               0               0               1               0           0.002611   \n",
       "                                                                                                                                                                1           0.012308   \n",
       "                                                                                                                                                                2           0.039841   \n",
       "                                                                                                                                                                3           0.043165   \n",
       "                                                                                                                                                                4           0.039711   \n",
       "\n",
       "                                                                                                                                                                      Weekday_Thursday  \\\n",
       "Country Code_BG Country Code_BR Country Code_CN Country Code_DE Country Code_IN Country Code_NL Country Code_RU Country Code_UA Country Code_US Country Code_VN Hour                     \n",
       "0               0               0               0               0               0               0               0               0               1               0             0.219321   \n",
       "                                                                                                                                                                1             0.264615   \n",
       "                                                                                                                                                                2             0.338645   \n",
       "                                                                                                                                                                3             0.381295   \n",
       "                                                                                                                                                                4             0.364621   \n",
       "\n",
       "                                                                                                                                                                      Weekday_Tuesday  \\\n",
       "Country Code_BG Country Code_BR Country Code_CN Country Code_DE Country Code_IN Country Code_NL Country Code_RU Country Code_UA Country Code_US Country Code_VN Hour                    \n",
       "0               0               0               0               0               0               0               0               0               1               0            0.041775   \n",
       "                                                                                                                                                                1            0.036923   \n",
       "                                                                                                                                                                2            0.103586   \n",
       "                                                                                                                                                                3            0.097122   \n",
       "                                                                                                                                                                4            0.111913   \n",
       "\n",
       "                                                                                                                                                                      Weekday_Wednesday  \n",
       "Country Code_BG Country Code_BR Country Code_CN Country Code_DE Country Code_IN Country Code_NL Country Code_RU Country Code_UA Country Code_US Country Code_VN Hour                     \n",
       "0               0               0               0               0               0               0               0               0               1               0              0.261097  \n",
       "                                                                                                                                                                1              0.135385  \n",
       "                                                                                                                                                                2              0.095618  \n",
       "                                                                                                                                                                3              0.093525  \n",
       "                                                                                                                                                                4              0.090253  "
      ]
     },
     "execution_count": 120,
     "metadata": {},
     "output_type": "execute_result"
    }
   ],
   "source": [
    "grouped.head()"
   ]
  },
  {
   "cell_type": "code",
   "execution_count": 121,
   "id": "f3faf858-9ac1-407f-be6a-6a605bdc46ec",
   "metadata": {},
   "outputs": [],
   "source": [
    "grouped[\"Attack_Frequency\"] = df_agg.groupby(['Country Code_BG', 'Country Code_BR', 'Country Code_CN', 'Country Code_DE',\n",
    "                      'Country Code_IN', 'Country Code_NL', 'Country Code_RU', 'Country Code_UA',\n",
    "                      'Country Code_US', 'Country Code_VN', 'Hour'])[\"Dur\"].count() "
   ]
  },
  {
   "cell_type": "code",
   "execution_count": 122,
   "id": "3dcb07cd-d500-49b0-b279-fb8e7d37e62a",
   "metadata": {},
   "outputs": [
    {
     "data": {
      "text/html": [
       "<div>\n",
       "<style scoped>\n",
       "    .dataframe tbody tr th:only-of-type {\n",
       "        vertical-align: middle;\n",
       "    }\n",
       "\n",
       "    .dataframe tbody tr th {\n",
       "        vertical-align: top;\n",
       "    }\n",
       "\n",
       "    .dataframe thead th {\n",
       "        text-align: right;\n",
       "    }\n",
       "</style>\n",
       "<table border=\"1\" class=\"dataframe\">\n",
       "  <thead>\n",
       "    <tr style=\"text-align: right;\">\n",
       "      <th></th>\n",
       "      <th></th>\n",
       "      <th></th>\n",
       "      <th></th>\n",
       "      <th></th>\n",
       "      <th></th>\n",
       "      <th></th>\n",
       "      <th></th>\n",
       "      <th></th>\n",
       "      <th></th>\n",
       "      <th></th>\n",
       "      <th>Dur</th>\n",
       "      <th>TotPkts</th>\n",
       "      <th>TotBytes</th>\n",
       "      <th>Proto_icmp</th>\n",
       "      <th>Proto_sctp</th>\n",
       "      <th>Proto_tcp</th>\n",
       "      <th>Proto_udp</th>\n",
       "      <th>Weekday_Friday</th>\n",
       "      <th>Weekday_Monday</th>\n",
       "      <th>Weekday_Saturday</th>\n",
       "      <th>Weekday_Sunday</th>\n",
       "      <th>Weekday_Thursday</th>\n",
       "      <th>Weekday_Tuesday</th>\n",
       "      <th>Weekday_Wednesday</th>\n",
       "      <th>Attack_Frequency</th>\n",
       "    </tr>\n",
       "    <tr>\n",
       "      <th>Country Code_BG</th>\n",
       "      <th>Country Code_BR</th>\n",
       "      <th>Country Code_CN</th>\n",
       "      <th>Country Code_DE</th>\n",
       "      <th>Country Code_IN</th>\n",
       "      <th>Country Code_NL</th>\n",
       "      <th>Country Code_RU</th>\n",
       "      <th>Country Code_UA</th>\n",
       "      <th>Country Code_US</th>\n",
       "      <th>Country Code_VN</th>\n",
       "      <th>Hour</th>\n",
       "      <th></th>\n",
       "      <th></th>\n",
       "      <th></th>\n",
       "      <th></th>\n",
       "      <th></th>\n",
       "      <th></th>\n",
       "      <th></th>\n",
       "      <th></th>\n",
       "      <th></th>\n",
       "      <th></th>\n",
       "      <th></th>\n",
       "      <th></th>\n",
       "      <th></th>\n",
       "      <th></th>\n",
       "      <th></th>\n",
       "    </tr>\n",
       "  </thead>\n",
       "  <tbody>\n",
       "    <tr>\n",
       "      <th rowspan=\"3\" valign=\"top\">0</th>\n",
       "      <th rowspan=\"3\" valign=\"top\">0</th>\n",
       "      <th rowspan=\"3\" valign=\"top\">0</th>\n",
       "      <th rowspan=\"3\" valign=\"top\">0</th>\n",
       "      <th rowspan=\"3\" valign=\"top\">0</th>\n",
       "      <th rowspan=\"3\" valign=\"top\">0</th>\n",
       "      <th rowspan=\"3\" valign=\"top\">0</th>\n",
       "      <th rowspan=\"3\" valign=\"top\">0</th>\n",
       "      <th rowspan=\"3\" valign=\"top\">0</th>\n",
       "      <th rowspan=\"3\" valign=\"top\">1</th>\n",
       "      <th>0</th>\n",
       "      <td>1.995248</td>\n",
       "      <td>2.389034</td>\n",
       "      <td>132.934726</td>\n",
       "      <td>0.0</td>\n",
       "      <td>0.0</td>\n",
       "      <td>1.0</td>\n",
       "      <td>0.0</td>\n",
       "      <td>0.229765</td>\n",
       "      <td>0.010444</td>\n",
       "      <td>0.234987</td>\n",
       "      <td>0.002611</td>\n",
       "      <td>0.219321</td>\n",
       "      <td>0.041775</td>\n",
       "      <td>0.261097</td>\n",
       "      <td>383</td>\n",
       "    </tr>\n",
       "    <tr>\n",
       "      <th>1</th>\n",
       "      <td>2.867968</td>\n",
       "      <td>2.258462</td>\n",
       "      <td>125.766154</td>\n",
       "      <td>0.0</td>\n",
       "      <td>0.0</td>\n",
       "      <td>1.0</td>\n",
       "      <td>0.0</td>\n",
       "      <td>0.267692</td>\n",
       "      <td>0.012308</td>\n",
       "      <td>0.270769</td>\n",
       "      <td>0.012308</td>\n",
       "      <td>0.264615</td>\n",
       "      <td>0.036923</td>\n",
       "      <td>0.135385</td>\n",
       "      <td>325</td>\n",
       "    </tr>\n",
       "    <tr>\n",
       "      <th>2</th>\n",
       "      <td>0.546525</td>\n",
       "      <td>2.382470</td>\n",
       "      <td>134.270916</td>\n",
       "      <td>0.0</td>\n",
       "      <td>0.0</td>\n",
       "      <td>1.0</td>\n",
       "      <td>0.0</td>\n",
       "      <td>0.382470</td>\n",
       "      <td>0.015936</td>\n",
       "      <td>0.023904</td>\n",
       "      <td>0.039841</td>\n",
       "      <td>0.338645</td>\n",
       "      <td>0.103586</td>\n",
       "      <td>0.095618</td>\n",
       "      <td>251</td>\n",
       "    </tr>\n",
       "  </tbody>\n",
       "</table>\n",
       "</div>"
      ],
      "text/plain": [
       "                                                                                                                                                                           Dur  \\\n",
       "Country Code_BG Country Code_BR Country Code_CN Country Code_DE Country Code_IN Country Code_NL Country Code_RU Country Code_UA Country Code_US Country Code_VN Hour             \n",
       "0               0               0               0               0               0               0               0               0               1               0     1.995248   \n",
       "                                                                                                                                                                1     2.867968   \n",
       "                                                                                                                                                                2     0.546525   \n",
       "\n",
       "                                                                                                                                                                       TotPkts  \\\n",
       "Country Code_BG Country Code_BR Country Code_CN Country Code_DE Country Code_IN Country Code_NL Country Code_RU Country Code_UA Country Code_US Country Code_VN Hour             \n",
       "0               0               0               0               0               0               0               0               0               1               0     2.389034   \n",
       "                                                                                                                                                                1     2.258462   \n",
       "                                                                                                                                                                2     2.382470   \n",
       "\n",
       "                                                                                                                                                                        TotBytes  \\\n",
       "Country Code_BG Country Code_BR Country Code_CN Country Code_DE Country Code_IN Country Code_NL Country Code_RU Country Code_UA Country Code_US Country Code_VN Hour               \n",
       "0               0               0               0               0               0               0               0               0               1               0     132.934726   \n",
       "                                                                                                                                                                1     125.766154   \n",
       "                                                                                                                                                                2     134.270916   \n",
       "\n",
       "                                                                                                                                                                      Proto_icmp  \\\n",
       "Country Code_BG Country Code_BR Country Code_CN Country Code_DE Country Code_IN Country Code_NL Country Code_RU Country Code_UA Country Code_US Country Code_VN Hour               \n",
       "0               0               0               0               0               0               0               0               0               1               0            0.0   \n",
       "                                                                                                                                                                1            0.0   \n",
       "                                                                                                                                                                2            0.0   \n",
       "\n",
       "                                                                                                                                                                      Proto_sctp  \\\n",
       "Country Code_BG Country Code_BR Country Code_CN Country Code_DE Country Code_IN Country Code_NL Country Code_RU Country Code_UA Country Code_US Country Code_VN Hour               \n",
       "0               0               0               0               0               0               0               0               0               1               0            0.0   \n",
       "                                                                                                                                                                1            0.0   \n",
       "                                                                                                                                                                2            0.0   \n",
       "\n",
       "                                                                                                                                                                      Proto_tcp  \\\n",
       "Country Code_BG Country Code_BR Country Code_CN Country Code_DE Country Code_IN Country Code_NL Country Code_RU Country Code_UA Country Code_US Country Code_VN Hour              \n",
       "0               0               0               0               0               0               0               0               0               1               0           1.0   \n",
       "                                                                                                                                                                1           1.0   \n",
       "                                                                                                                                                                2           1.0   \n",
       "\n",
       "                                                                                                                                                                      Proto_udp  \\\n",
       "Country Code_BG Country Code_BR Country Code_CN Country Code_DE Country Code_IN Country Code_NL Country Code_RU Country Code_UA Country Code_US Country Code_VN Hour              \n",
       "0               0               0               0               0               0               0               0               0               1               0           0.0   \n",
       "                                                                                                                                                                1           0.0   \n",
       "                                                                                                                                                                2           0.0   \n",
       "\n",
       "                                                                                                                                                                      Weekday_Friday  \\\n",
       "Country Code_BG Country Code_BR Country Code_CN Country Code_DE Country Code_IN Country Code_NL Country Code_RU Country Code_UA Country Code_US Country Code_VN Hour                   \n",
       "0               0               0               0               0               0               0               0               0               1               0           0.229765   \n",
       "                                                                                                                                                                1           0.267692   \n",
       "                                                                                                                                                                2           0.382470   \n",
       "\n",
       "                                                                                                                                                                      Weekday_Monday  \\\n",
       "Country Code_BG Country Code_BR Country Code_CN Country Code_DE Country Code_IN Country Code_NL Country Code_RU Country Code_UA Country Code_US Country Code_VN Hour                   \n",
       "0               0               0               0               0               0               0               0               0               1               0           0.010444   \n",
       "                                                                                                                                                                1           0.012308   \n",
       "                                                                                                                                                                2           0.015936   \n",
       "\n",
       "                                                                                                                                                                      Weekday_Saturday  \\\n",
       "Country Code_BG Country Code_BR Country Code_CN Country Code_DE Country Code_IN Country Code_NL Country Code_RU Country Code_UA Country Code_US Country Code_VN Hour                     \n",
       "0               0               0               0               0               0               0               0               0               1               0             0.234987   \n",
       "                                                                                                                                                                1             0.270769   \n",
       "                                                                                                                                                                2             0.023904   \n",
       "\n",
       "                                                                                                                                                                      Weekday_Sunday  \\\n",
       "Country Code_BG Country Code_BR Country Code_CN Country Code_DE Country Code_IN Country Code_NL Country Code_RU Country Code_UA Country Code_US Country Code_VN Hour                   \n",
       "0               0               0               0               0               0               0               0               0               1               0           0.002611   \n",
       "                                                                                                                                                                1           0.012308   \n",
       "                                                                                                                                                                2           0.039841   \n",
       "\n",
       "                                                                                                                                                                      Weekday_Thursday  \\\n",
       "Country Code_BG Country Code_BR Country Code_CN Country Code_DE Country Code_IN Country Code_NL Country Code_RU Country Code_UA Country Code_US Country Code_VN Hour                     \n",
       "0               0               0               0               0               0               0               0               0               1               0             0.219321   \n",
       "                                                                                                                                                                1             0.264615   \n",
       "                                                                                                                                                                2             0.338645   \n",
       "\n",
       "                                                                                                                                                                      Weekday_Tuesday  \\\n",
       "Country Code_BG Country Code_BR Country Code_CN Country Code_DE Country Code_IN Country Code_NL Country Code_RU Country Code_UA Country Code_US Country Code_VN Hour                    \n",
       "0               0               0               0               0               0               0               0               0               1               0            0.041775   \n",
       "                                                                                                                                                                1            0.036923   \n",
       "                                                                                                                                                                2            0.103586   \n",
       "\n",
       "                                                                                                                                                                      Weekday_Wednesday  \\\n",
       "Country Code_BG Country Code_BR Country Code_CN Country Code_DE Country Code_IN Country Code_NL Country Code_RU Country Code_UA Country Code_US Country Code_VN Hour                      \n",
       "0               0               0               0               0               0               0               0               0               1               0              0.261097   \n",
       "                                                                                                                                                                1              0.135385   \n",
       "                                                                                                                                                                2              0.095618   \n",
       "\n",
       "                                                                                                                                                                      Attack_Frequency  \n",
       "Country Code_BG Country Code_BR Country Code_CN Country Code_DE Country Code_IN Country Code_NL Country Code_RU Country Code_UA Country Code_US Country Code_VN Hour                    \n",
       "0               0               0               0               0               0               0               0               0               1               0                  383  \n",
       "                                                                                                                                                                1                  325  \n",
       "                                                                                                                                                                2                  251  "
      ]
     },
     "execution_count": 122,
     "metadata": {},
     "output_type": "execute_result"
    }
   ],
   "source": [
    "grouped.head(3)"
   ]
  },
  {
   "cell_type": "code",
   "execution_count": 123,
   "id": "ab8131db-dfe8-46b4-96d8-716dfda716cf",
   "metadata": {},
   "outputs": [],
   "source": [
    "final_df = grouped.reset_index()"
   ]
  },
  {
   "cell_type": "code",
   "execution_count": 124,
   "id": "9b6c5bac-7162-4812-9d92-333d85be468d",
   "metadata": {},
   "outputs": [
    {
     "data": {
      "text/plain": [
       "Index(['Country Code_BG', 'Country Code_BR', 'Country Code_CN',\n",
       "       'Country Code_DE', 'Country Code_IN', 'Country Code_NL',\n",
       "       'Country Code_RU', 'Country Code_UA', 'Country Code_US',\n",
       "       'Country Code_VN', 'Hour', 'Dur', 'TotPkts', 'TotBytes', 'Proto_icmp',\n",
       "       'Proto_sctp', 'Proto_tcp', 'Proto_udp', 'Weekday_Friday',\n",
       "       'Weekday_Monday', 'Weekday_Saturday', 'Weekday_Sunday',\n",
       "       'Weekday_Thursday', 'Weekday_Tuesday', 'Weekday_Wednesday',\n",
       "       'Attack_Frequency'],\n",
       "      dtype='object')"
      ]
     },
     "execution_count": 124,
     "metadata": {},
     "output_type": "execute_result"
    }
   ],
   "source": [
    "final_df.columns"
   ]
  },
  {
   "cell_type": "markdown",
   "id": "2c7d809a-7602-48f6-9420-1bf8f1bba54d",
   "metadata": {},
   "source": [
    "# Building a predictive model \n",
    "model built on top of countries and time only"
   ]
  },
  {
   "cell_type": "code",
   "execution_count": 125,
   "id": "17979746-e8e1-4cec-8ad6-3afd77189034",
   "metadata": {},
   "outputs": [],
   "source": [
    "features = ['Country Code_BG', 'Country Code_BR', 'Country Code_CN',\n",
    "       'Country Code_DE', 'Country Code_IN', 'Country Code_NL',\n",
    "       'Country Code_RU', 'Country Code_UA', 'Country Code_US',\n",
    "       'Country Code_VN', 'Hour', 'Weekday_Friday',\n",
    "       'Weekday_Monday', 'Weekday_Saturday', 'Weekday_Sunday',\n",
    "       'Weekday_Thursday', 'Weekday_Tuesday', 'Weekday_Wednesday']"
   ]
  },
  {
   "cell_type": "code",
   "execution_count": 126,
   "id": "4807e236-63df-4a46-baa4-963923f398d3",
   "metadata": {},
   "outputs": [
    {
     "name": "stdout",
     "output_type": "stream",
     "text": [
      "0.9302071196579513\n"
     ]
    }
   ],
   "source": [
    "x = final_df[features].values\n",
    "y = final_df['Attack_Frequency'].values\n",
    "\n",
    "model = LinearRegression()\n",
    "model.fit(x,y)\n",
    "\n",
    "print(model.score(x,y))"
   ]
  },
  {
   "cell_type": "markdown",
   "id": "9117df55-8216-4c11-9347-45ad509851c2",
   "metadata": {},
   "source": [
    "* first: find the most important feature in the model ( the one which has the largest abs coefficient)"
   ]
  },
  {
   "cell_type": "code",
   "execution_count": 127,
   "id": "7a170977-07f3-4bd6-91d3-477afb1aea82",
   "metadata": {},
   "outputs": [],
   "source": [
    "most_important_var_idx = np.argmax(np.abs(model.coef_))"
   ]
  },
  {
   "cell_type": "code",
   "execution_count": 128,
   "id": "0cffd1f2-6e9f-4fd2-b911-05c8685c055e",
   "metadata": {},
   "outputs": [
    {
     "data": {
      "text/plain": [
       "12"
      ]
     },
     "execution_count": 128,
     "metadata": {},
     "output_type": "execute_result"
    }
   ],
   "source": [
    "most_important_var_idx"
   ]
  },
  {
   "cell_type": "code",
   "execution_count": 129,
   "id": "1e069faf-dcdd-4bc8-8fab-1a0d98840399",
   "metadata": {},
   "outputs": [],
   "source": [
    "imp = pd.DataFrame({\"feature_name\": features, \"importance\": model.coef_})"
   ]
  },
  {
   "cell_type": "code",
   "execution_count": 130,
   "id": "7740f138-bddd-474a-878c-ebfae7af7657",
   "metadata": {},
   "outputs": [],
   "source": [
    "imp[\"abs_importance\"] = abs(imp[\"importance\"])"
   ]
  },
  {
   "cell_type": "code",
   "execution_count": 131,
   "id": "aae72d29-71db-4514-b8b0-29c615f992c8",
   "metadata": {},
   "outputs": [],
   "source": [
    "imp = imp.sort_values(\"abs_importance\", ascending=False)"
   ]
  },
  {
   "cell_type": "code",
   "execution_count": 132,
   "id": "792c2421-093e-4074-ad9a-6cb03292bef9",
   "metadata": {},
   "outputs": [],
   "source": [
    "imp_df = imp[[\"feature_name\", \"abs_importance\"]]\n",
    "imp_df = imp_df.set_index(\"feature_name\")"
   ]
  },
  {
   "cell_type": "code",
   "execution_count": 133,
   "id": "94621b08-8386-4105-94f5-f119eb01bbdc",
   "metadata": {},
   "outputs": [
    {
     "data": {
      "text/plain": [
       "<Figure size 1200x800 with 0 Axes>"
      ]
     },
     "metadata": {},
     "output_type": "display_data"
    },
    {
     "data": {
      "image/png": "[encoded data removed]",
      "text/plain": [
       "<Figure size 640x480 with 1 Axes>"
      ]
     },
     "metadata": {},
     "output_type": "display_data"
    }
   ],
   "source": [
    "plt.figure(figsize=(12, 8))\n",
    "imp_df.plot.barh(legend=True, color='#bc5090')\n",
    "plt.title('Feature Importance')\n",
    "plt.xlabel('Abs. of Model Coefficient')\n",
    "plt.ylabel('Feature Name')\n",
    "plt.tight_layout()\n",
    "#plt.savefig('feature_importance.png', dpi=300, transparent=True)"
   ]
  },
  {
   "cell_type": "markdown",
   "id": "9ab2822d-a549-4df3-b24f-a8e754a70c86",
   "metadata": {},
   "source": [
    "* Find variable vector corresponding to the most important feature"
   ]
  },
  {
   "cell_type": "code",
   "execution_count": 134,
   "id": "2a89ec19-f74d-4c12-bd85-ab96a820caf1",
   "metadata": {},
   "outputs": [],
   "source": [
    "X = pd.DataFrame(x)"
   ]
  },
  {
   "cell_type": "code",
   "execution_count": 135,
   "id": "e58b8533-3639-4a2d-9ff3-6132d880e7fa",
   "metadata": {},
   "outputs": [],
   "source": [
    "X.columns = features"
   ]
  },
  {
   "cell_type": "code",
   "execution_count": 136,
   "id": "d026687c-048b-418d-98c5-bd023bef8278",
   "metadata": {},
   "outputs": [],
   "source": [
    "monday = X[\"Weekday_Monday\"]"
   ]
  },
  {
   "cell_type": "code",
   "execution_count": 137,
   "id": "f31cc059-811c-4a1c-96f7-948063f43ead",
   "metadata": {},
   "outputs": [
    {
     "data": {
      "text/plain": [
       "0      0.010444\n",
       "1      0.012308\n",
       "2      0.015936\n",
       "3      0.017986\n",
       "4      0.039711\n",
       "         ...   \n",
       "235    0.109057\n",
       "236    0.138241\n",
       "237    0.110701\n",
       "238    0.092800\n",
       "239    0.125000\n",
       "Name: Weekday_Monday, Length: 240, dtype: float64"
      ]
     },
     "execution_count": 137,
     "metadata": {},
     "output_type": "execute_result"
    }
   ],
   "source": [
    "monday"
   ]
  },
  {
   "cell_type": "markdown",
   "id": "fd85c835-1529-466a-8c50-a889f09430d0",
   "metadata": {},
   "source": [
    "* Get actual target values"
   ]
  },
  {
   "cell_type": "code",
   "execution_count": 138,
   "id": "c5bd2d6e-a3c0-4396-bccc-fd5a4c0fd525",
   "metadata": {},
   "outputs": [],
   "source": [
    "y_true = final_df[\"Attack_Frequency\"]"
   ]
  },
  {
   "cell_type": "code",
   "execution_count": 139,
   "id": "f5a58982-9403-4f8c-a352-316dd52f5877",
   "metadata": {},
   "outputs": [
    {
     "data": {
      "text/plain": [
       "0      383\n",
       "1      325\n",
       "2      251\n",
       "3      278\n",
       "4      277\n",
       "      ... \n",
       "235    541\n",
       "236    557\n",
       "237    542\n",
       "238    625\n",
       "239    528\n",
       "Name: Attack_Frequency, Length: 240, dtype: int64"
      ]
     },
     "execution_count": 139,
     "metadata": {},
     "output_type": "execute_result"
    }
   ],
   "source": [
    "y_true"
   ]
  },
  {
   "cell_type": "markdown",
   "id": "4ce031be-da88-4014-8234-6d79e286cc1b",
   "metadata": {},
   "source": [
    "In order to plot scatterplot 2D: \n",
    "* We need to get the prediction of the model only with the use of one variable coefficient ( the most important one);\n",
    "    * Find coef for the most important feature ( a)\n",
    "    * Get intercept of the model ( b )\n",
    "    * As vector x we use monday variable\n",
    "    * y_pred  = a * monday + b ( monday = mean N of attacks per day ) The regression line interpreted as Y = a.X + b"
   ]
  },
  {
   "cell_type": "code",
   "execution_count": 140,
   "id": "eb36efac-ee07-4b21-a6f2-865060fbb146",
   "metadata": {},
   "outputs": [],
   "source": [
    "a = model.coef_[most_important_var_idx] "
   ]
  },
  {
   "cell_type": "code",
   "execution_count": 141,
   "id": "4d275b8a-b841-4585-a10d-1be07dbaa425",
   "metadata": {},
   "outputs": [
    {
     "data": {
      "text/plain": [
       "997.5557135481753"
      ]
     },
     "execution_count": 141,
     "metadata": {},
     "output_type": "execute_result"
    }
   ],
   "source": [
    "a"
   ]
  },
  {
   "cell_type": "code",
   "execution_count": 142,
   "id": "3da09e54-8cb2-4d64-9884-b4fb2804d815",
   "metadata": {},
   "outputs": [],
   "source": [
    "b = model.intercept_"
   ]
  },
  {
   "cell_type": "code",
   "execution_count": 143,
   "id": "2ed7af65-3e0a-4e47-9ab4-0f5b44236bcf",
   "metadata": {},
   "outputs": [
    {
     "data": {
      "text/plain": [
       "449.3487101061997"
      ]
     },
     "execution_count": 143,
     "metadata": {},
     "output_type": "execute_result"
    }
   ],
   "source": [
    "b"
   ]
  },
  {
   "cell_type": "code",
   "execution_count": 144,
   "id": "878a0d15-6912-4091-a73d-ea619e8082f1",
   "metadata": {},
   "outputs": [],
   "source": [
    "y_pred_new = a * monday + b"
   ]
  },
  {
   "cell_type": "code",
   "execution_count": 145,
   "id": "ecb839c6-2d40-461f-a667-a9f2ec0e877c",
   "metadata": {},
   "outputs": [
    {
     "data": {
      "image/png": "[encoded data removed]",
      "text/plain": [
       "<Figure size 640x480 with 1 Axes>"
      ]
     },
     "metadata": {},
     "output_type": "display_data"
    }
   ],
   "source": [
    "plt.scatter(monday, y_true, label='Actual')\n",
    "plt.scatter(monday, y_pred_new, label='Predicted')\n",
    "plt.title('Scatter plot of actual and predicted values')\n",
    "plt.xlabel('Mean number of attacks per day (Monday)')\n",
    "plt.ylabel('Frequency of attacks')\n",
    "plt.legend()\n",
    "plt.show()\n",
    "#plt.savefig('Attacks per day (Monday).png', dpi=300, transparent=True)"
   ]
  },
  {
   "cell_type": "code",
   "execution_count": null,
   "id": "ef83599f-0da0-4fdb-9fb2-62124da73193",
   "metadata": {},
   "outputs": [],
   "source": []
  }
 ],
 "metadata": {
  "kernelspec": {
   "display_name": "Python 3 (ipykernel)",
   "language": "python",
   "name": "python3"
  },
  "language_info": {
   "codemirror_mode": {
    "name": "ipython",
    "version": 3
   },
   "file_extension": ".py",
   "mimetype": "text/x-python",
   "name": "python",
   "nbconvert_exporter": "python",
   "pygments_lexer": "ipython3",
   "version": "3.8.16"
  }
 },
 "nbformat": 4,
 "nbformat_minor": 5
}
